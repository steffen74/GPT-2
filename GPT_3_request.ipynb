{
  "nbformat": 4,
  "nbformat_minor": 0,
  "metadata": {
    "colab": {
      "name": "GPT-3_request.ipynb",
      "provenance": [],
      "collapsed_sections": []
    },
    "kernelspec": {
      "name": "python3",
      "display_name": "Python 3"
    }
  },
  "cells": [
    {
      "cell_type": "markdown",
      "metadata": {
        "id": "ZD7RaZmgxZpz"
      },
      "source": [
        "\r\n",
        "GPT-3 API Reques\r\n",
        "\r\n",
        "The API-key provided below is a personal to me, therefore please use with care.\r\n",
        "However, feel free to play around with the API to find out how to best use it.\r\n"
      ]
    },
    {
      "cell_type": "code",
      "metadata": {
        "id": "te1JiERztigD"
      },
      "source": [
        "!pip install openai"
      ],
      "execution_count": null,
      "outputs": []
    },
    {
      "cell_type": "markdown",
      "metadata": {
        "id": "58HuGfBHuV1H"
      },
      "source": [
        "Set API key"
      ]
    },
    {
      "cell_type": "code",
      "metadata": {
        "id": "i6lJF_6_tqA8"
      },
      "source": [
        "import openai\r\n",
        "openai.api_key = \"sk-1G4yrUjR8XSScsV4s7M3CmINytapjmJCm8gQR1Y1\""
      ],
      "execution_count": 12,
      "outputs": []
    },
    {
      "cell_type": "markdown",
      "metadata": {
        "id": "p9d79FSJuY2a"
      },
      "source": [
        "## Model Request\r\n",
        "There are four different models:\r\n",
        "\"davinci\"\r\n",
        "\"ada\"\r\n",
        "\"babbage\"\r\n",
        "\"curie\"\r\n",
        "\r\n",
        "The models are ordered according to size; the largest (and most powerful) is \"davinci\". Currently, I have still 290.000 free token requests measured on the davinci model (including the tokens for the prompts), the other models are correspondingly cheaper.\r\n",
        "\r\n",
        "Maybe you can start playing around with the smaller ones.\r\n",
        "\r\n",
        "In the lower part of [this blog](https://www.twilio.com/blog/ultimate-guide-openai-gpt-3-language-model) you find more infos on how to use the GPT-3 API with Python.\r\n",
        "\r\n"
      ]
    },
    {
      "cell_type": "code",
      "metadata": {
        "id": "DvtpwIizuSfm"
      },
      "source": [
        "response = openai.Completion.create(\r\n",
        "  engine=\"ada\",\r\n",
        "  prompt=\"Who are you?\",\r\n",
        "  temperature=0.7,\r\n",
        "  max_tokens=50,\r\n",
        "  top_p=1,\r\n",
        "  frequency_penalty=1,\r\n",
        "  presence_penalty=1\r\n",
        "  #stop=[\"\"]\r\n",
        ")"
      ],
      "execution_count": 13,
      "outputs": []
    },
    {
      "cell_type": "code",
      "metadata": {
        "colab": {
          "base_uri": "https://localhost:8080/"
        },
        "id": "FitK_ySCyaRN",
        "outputId": "c3c022f4-3acc-4461-bd55-6664db5d80f6"
      },
      "source": [
        "print(response)"
      ],
      "execution_count": 14,
      "outputs": [
        {
          "output_type": "stream",
          "text": [
            "{\n",
            "  \"choices\": [\n",
            "    {\n",
            "      \"finish_reason\": \"length\",\n",
            "      \"index\": 0,\n",
            "      \"logprobs\": null,\n",
            "      \"text\": \"\\u201d\\n\\n\\u201cI am the mother of my child, and I do not know him.\\u201d\\n\\n\\u201cHow can you say that? You are just a servant here. Why should all these people ask me about my son\"\n",
            "    }\n",
            "  ],\n",
            "  \"created\": 1610894729,\n",
            "  \"id\": \"cmpl-2J3azh1jvqw08BQm7Kd9cET9n62FE\",\n",
            "  \"model\": \"ada:2020-05-03\",\n",
            "  \"object\": \"text_completion\"\n",
            "}\n"
          ],
          "name": "stdout"
        }
      ]
    },
    {
      "cell_type": "code",
      "metadata": {
        "colab": {
          "base_uri": "https://localhost:8080/"
        },
        "id": "NvylXV27v7AA",
        "outputId": "d15e6130-026f-4e65-c844-c03ae1ca113c"
      },
      "source": [
        "print(response.choices[0]['text'])"
      ],
      "execution_count": 17,
      "outputs": [
        {
          "output_type": "stream",
          "text": [
            "”\n",
            "\n",
            "“I am the mother of my child, and I do not know him.”\n",
            "\n",
            "“How can you say that? You are just a servant here. Why should all these people ask me about my son\n"
          ],
          "name": "stdout"
        }
      ]
    }
  ]
}