{
  "nbformat": 4,
  "nbformat_minor": 0,
  "metadata": {
    "colab": {
      "name": "Kopie von aitextgen — Train a GPT-2 Text-Generating Model w/ GPU",
      "provenance": [],
      "collapsed_sections": []
    },
    "kernelspec": {
      "name": "python3",
      "display_name": "Python 3"
    },
    "widgets": {
      "application/vnd.jupyter.widget-state+json": {
        "5de335d137f940b8a01799a1bea45b3a": {
          "model_module": "@jupyter-widgets/controls",
          "model_name": "HBoxModel",
          "state": {
            "_view_name": "HBoxView",
            "_dom_classes": [],
            "_model_name": "HBoxModel",
            "_view_module": "@jupyter-widgets/controls",
            "_model_module_version": "1.5.0",
            "_view_count": null,
            "_view_module_version": "1.5.0",
            "box_style": "",
            "layout": "IPY_MODEL_9244d9a5a35f4265aa5040f13729fcb3",
            "_model_module": "@jupyter-widgets/controls",
            "children": [
              "IPY_MODEL_b82895c8891b4a8cba5b9a29071fd9b0",
              "IPY_MODEL_5336cc02a34848b1ada089e8efbf6fa9"
            ]
          }
        },
        "9244d9a5a35f4265aa5040f13729fcb3": {
          "model_module": "@jupyter-widgets/base",
          "model_name": "LayoutModel",
          "state": {
            "_view_name": "LayoutView",
            "grid_template_rows": null,
            "right": null,
            "justify_content": null,
            "_view_module": "@jupyter-widgets/base",
            "overflow": null,
            "_model_module_version": "1.2.0",
            "_view_count": null,
            "flex_flow": null,
            "width": null,
            "min_width": null,
            "border": null,
            "align_items": null,
            "bottom": null,
            "_model_module": "@jupyter-widgets/base",
            "top": null,
            "grid_column": null,
            "overflow_y": null,
            "overflow_x": null,
            "grid_auto_flow": null,
            "grid_area": null,
            "grid_template_columns": null,
            "flex": null,
            "_model_name": "LayoutModel",
            "justify_items": null,
            "grid_row": null,
            "max_height": null,
            "align_content": null,
            "visibility": null,
            "align_self": null,
            "height": null,
            "min_height": null,
            "padding": null,
            "grid_auto_rows": null,
            "grid_gap": null,
            "max_width": null,
            "order": null,
            "_view_module_version": "1.2.0",
            "grid_template_areas": null,
            "object_position": null,
            "object_fit": null,
            "grid_auto_columns": null,
            "margin": null,
            "display": null,
            "left": null
          }
        },
        "b82895c8891b4a8cba5b9a29071fd9b0": {
          "model_module": "@jupyter-widgets/controls",
          "model_name": "FloatProgressModel",
          "state": {
            "_view_name": "ProgressView",
            "style": "IPY_MODEL_528c88fbd83142f09fa86ad50e73b534",
            "_dom_classes": [],
            "description": "Fetching checkpoint: ",
            "_model_name": "FloatProgressModel",
            "bar_style": "success",
            "max": 77,
            "_view_module": "@jupyter-widgets/controls",
            "_model_module_version": "1.5.0",
            "value": 77,
            "_view_count": null,
            "_view_module_version": "1.5.0",
            "orientation": "horizontal",
            "min": 0,
            "description_tooltip": null,
            "_model_module": "@jupyter-widgets/controls",
            "layout": "IPY_MODEL_c7f6eaf9f10447b39d5477511c0cd291"
          }
        },
        "5336cc02a34848b1ada089e8efbf6fa9": {
          "model_module": "@jupyter-widgets/controls",
          "model_name": "HTMLModel",
          "state": {
            "_view_name": "HTMLView",
            "style": "IPY_MODEL_784ef301d7924c1f9c4111fdc6870c47",
            "_dom_classes": [],
            "description": "",
            "_model_name": "HTMLModel",
            "placeholder": "​",
            "_view_module": "@jupyter-widgets/controls",
            "_model_module_version": "1.5.0",
            "value": " 1.05M/? [00:12&lt;00:00, 87.1kit/s]",
            "_view_count": null,
            "_view_module_version": "1.5.0",
            "description_tooltip": null,
            "_model_module": "@jupyter-widgets/controls",
            "layout": "IPY_MODEL_26c9a1c39a2f4e3da2650fe950fe51de"
          }
        },
        "528c88fbd83142f09fa86ad50e73b534": {
          "model_module": "@jupyter-widgets/controls",
          "model_name": "ProgressStyleModel",
          "state": {
            "_view_name": "StyleView",
            "_model_name": "ProgressStyleModel",
            "description_width": "initial",
            "_view_module": "@jupyter-widgets/base",
            "_model_module_version": "1.5.0",
            "_view_count": null,
            "_view_module_version": "1.2.0",
            "bar_color": null,
            "_model_module": "@jupyter-widgets/controls"
          }
        },
        "c7f6eaf9f10447b39d5477511c0cd291": {
          "model_module": "@jupyter-widgets/base",
          "model_name": "LayoutModel",
          "state": {
            "_view_name": "LayoutView",
            "grid_template_rows": null,
            "right": null,
            "justify_content": null,
            "_view_module": "@jupyter-widgets/base",
            "overflow": null,
            "_model_module_version": "1.2.0",
            "_view_count": null,
            "flex_flow": null,
            "width": null,
            "min_width": null,
            "border": null,
            "align_items": null,
            "bottom": null,
            "_model_module": "@jupyter-widgets/base",
            "top": null,
            "grid_column": null,
            "overflow_y": null,
            "overflow_x": null,
            "grid_auto_flow": null,
            "grid_area": null,
            "grid_template_columns": null,
            "flex": null,
            "_model_name": "LayoutModel",
            "justify_items": null,
            "grid_row": null,
            "max_height": null,
            "align_content": null,
            "visibility": null,
            "align_self": null,
            "height": null,
            "min_height": null,
            "padding": null,
            "grid_auto_rows": null,
            "grid_gap": null,
            "max_width": null,
            "order": null,
            "_view_module_version": "1.2.0",
            "grid_template_areas": null,
            "object_position": null,
            "object_fit": null,
            "grid_auto_columns": null,
            "margin": null,
            "display": null,
            "left": null
          }
        },
        "784ef301d7924c1f9c4111fdc6870c47": {
          "model_module": "@jupyter-widgets/controls",
          "model_name": "DescriptionStyleModel",
          "state": {
            "_view_name": "StyleView",
            "_model_name": "DescriptionStyleModel",
            "description_width": "",
            "_view_module": "@jupyter-widgets/base",
            "_model_module_version": "1.5.0",
            "_view_count": null,
            "_view_module_version": "1.2.0",
            "_model_module": "@jupyter-widgets/controls"
          }
        },
        "26c9a1c39a2f4e3da2650fe950fe51de": {
          "model_module": "@jupyter-widgets/base",
          "model_name": "LayoutModel",
          "state": {
            "_view_name": "LayoutView",
            "grid_template_rows": null,
            "right": null,
            "justify_content": null,
            "_view_module": "@jupyter-widgets/base",
            "overflow": null,
            "_model_module_version": "1.2.0",
            "_view_count": null,
            "flex_flow": null,
            "width": null,
            "min_width": null,
            "border": null,
            "align_items": null,
            "bottom": null,
            "_model_module": "@jupyter-widgets/base",
            "top": null,
            "grid_column": null,
            "overflow_y": null,
            "overflow_x": null,
            "grid_auto_flow": null,
            "grid_area": null,
            "grid_template_columns": null,
            "flex": null,
            "_model_name": "LayoutModel",
            "justify_items": null,
            "grid_row": null,
            "max_height": null,
            "align_content": null,
            "visibility": null,
            "align_self": null,
            "height": null,
            "min_height": null,
            "padding": null,
            "grid_auto_rows": null,
            "grid_gap": null,
            "max_width": null,
            "order": null,
            "_view_module_version": "1.2.0",
            "grid_template_areas": null,
            "object_position": null,
            "object_fit": null,
            "grid_auto_columns": null,
            "margin": null,
            "display": null,
            "left": null
          }
        },
        "a33106f826f1491db9386c2f97f8a986": {
          "model_module": "@jupyter-widgets/controls",
          "model_name": "HBoxModel",
          "state": {
            "_view_name": "HBoxView",
            "_dom_classes": [],
            "_model_name": "HBoxModel",
            "_view_module": "@jupyter-widgets/controls",
            "_model_module_version": "1.5.0",
            "_view_count": null,
            "_view_module_version": "1.5.0",
            "box_style": "",
            "layout": "IPY_MODEL_1cd8a6b1f40e46a7b3fa3318fde24f4f",
            "_model_module": "@jupyter-widgets/controls",
            "children": [
              "IPY_MODEL_4f65e86336444e1b8e57d1772f86ca9a",
              "IPY_MODEL_a2f553e2b79946f1897ff4ce9a92f2e3"
            ]
          }
        },
        "1cd8a6b1f40e46a7b3fa3318fde24f4f": {
          "model_module": "@jupyter-widgets/base",
          "model_name": "LayoutModel",
          "state": {
            "_view_name": "LayoutView",
            "grid_template_rows": null,
            "right": null,
            "justify_content": null,
            "_view_module": "@jupyter-widgets/base",
            "overflow": null,
            "_model_module_version": "1.2.0",
            "_view_count": null,
            "flex_flow": null,
            "width": null,
            "min_width": null,
            "border": null,
            "align_items": null,
            "bottom": null,
            "_model_module": "@jupyter-widgets/base",
            "top": null,
            "grid_column": null,
            "overflow_y": null,
            "overflow_x": null,
            "grid_auto_flow": null,
            "grid_area": null,
            "grid_template_columns": null,
            "flex": null,
            "_model_name": "LayoutModel",
            "justify_items": null,
            "grid_row": null,
            "max_height": null,
            "align_content": null,
            "visibility": null,
            "align_self": null,
            "height": null,
            "min_height": null,
            "padding": null,
            "grid_auto_rows": null,
            "grid_gap": null,
            "max_width": null,
            "order": null,
            "_view_module_version": "1.2.0",
            "grid_template_areas": null,
            "object_position": null,
            "object_fit": null,
            "grid_auto_columns": null,
            "margin": null,
            "display": null,
            "left": null
          }
        },
        "4f65e86336444e1b8e57d1772f86ca9a": {
          "model_module": "@jupyter-widgets/controls",
          "model_name": "FloatProgressModel",
          "state": {
            "_view_name": "ProgressView",
            "style": "IPY_MODEL_6da851080d1f4d9582b2c89b035d18ce",
            "_dom_classes": [],
            "description": "Fetching hparams.json: ",
            "_model_name": "FloatProgressModel",
            "bar_style": "success",
            "max": 90,
            "_view_module": "@jupyter-widgets/controls",
            "_model_module_version": "1.5.0",
            "value": 90,
            "_view_count": null,
            "_view_module_version": "1.5.0",
            "orientation": "horizontal",
            "min": 0,
            "description_tooltip": null,
            "_model_module": "@jupyter-widgets/controls",
            "layout": "IPY_MODEL_f8bb833600ab4cac8c65a6e5e4bafac6"
          }
        },
        "a2f553e2b79946f1897ff4ce9a92f2e3": {
          "model_module": "@jupyter-widgets/controls",
          "model_name": "HTMLModel",
          "state": {
            "_view_name": "HTMLView",
            "style": "IPY_MODEL_946a5722b6e54fc0866bb326c1eb0693",
            "_dom_classes": [],
            "description": "",
            "_model_name": "HTMLModel",
            "placeholder": "​",
            "_view_module": "@jupyter-widgets/controls",
            "_model_module_version": "1.5.0",
            "value": " 1.05M/? [00:00&lt;00:00, 3.56Mit/s]",
            "_view_count": null,
            "_view_module_version": "1.5.0",
            "description_tooltip": null,
            "_model_module": "@jupyter-widgets/controls",
            "layout": "IPY_MODEL_ca20492cc382456c9e727d6158fca266"
          }
        },
        "6da851080d1f4d9582b2c89b035d18ce": {
          "model_module": "@jupyter-widgets/controls",
          "model_name": "ProgressStyleModel",
          "state": {
            "_view_name": "StyleView",
            "_model_name": "ProgressStyleModel",
            "description_width": "initial",
            "_view_module": "@jupyter-widgets/base",
            "_model_module_version": "1.5.0",
            "_view_count": null,
            "_view_module_version": "1.2.0",
            "bar_color": null,
            "_model_module": "@jupyter-widgets/controls"
          }
        },
        "f8bb833600ab4cac8c65a6e5e4bafac6": {
          "model_module": "@jupyter-widgets/base",
          "model_name": "LayoutModel",
          "state": {
            "_view_name": "LayoutView",
            "grid_template_rows": null,
            "right": null,
            "justify_content": null,
            "_view_module": "@jupyter-widgets/base",
            "overflow": null,
            "_model_module_version": "1.2.0",
            "_view_count": null,
            "flex_flow": null,
            "width": null,
            "min_width": null,
            "border": null,
            "align_items": null,
            "bottom": null,
            "_model_module": "@jupyter-widgets/base",
            "top": null,
            "grid_column": null,
            "overflow_y": null,
            "overflow_x": null,
            "grid_auto_flow": null,
            "grid_area": null,
            "grid_template_columns": null,
            "flex": null,
            "_model_name": "LayoutModel",
            "justify_items": null,
            "grid_row": null,
            "max_height": null,
            "align_content": null,
            "visibility": null,
            "align_self": null,
            "height": null,
            "min_height": null,
            "padding": null,
            "grid_auto_rows": null,
            "grid_gap": null,
            "max_width": null,
            "order": null,
            "_view_module_version": "1.2.0",
            "grid_template_areas": null,
            "object_position": null,
            "object_fit": null,
            "grid_auto_columns": null,
            "margin": null,
            "display": null,
            "left": null
          }
        },
        "946a5722b6e54fc0866bb326c1eb0693": {
          "model_module": "@jupyter-widgets/controls",
          "model_name": "DescriptionStyleModel",
          "state": {
            "_view_name": "StyleView",
            "_model_name": "DescriptionStyleModel",
            "description_width": "",
            "_view_module": "@jupyter-widgets/base",
            "_model_module_version": "1.5.0",
            "_view_count": null,
            "_view_module_version": "1.2.0",
            "_model_module": "@jupyter-widgets/controls"
          }
        },
        "ca20492cc382456c9e727d6158fca266": {
          "model_module": "@jupyter-widgets/base",
          "model_name": "LayoutModel",
          "state": {
            "_view_name": "LayoutView",
            "grid_template_rows": null,
            "right": null,
            "justify_content": null,
            "_view_module": "@jupyter-widgets/base",
            "overflow": null,
            "_model_module_version": "1.2.0",
            "_view_count": null,
            "flex_flow": null,
            "width": null,
            "min_width": null,
            "border": null,
            "align_items": null,
            "bottom": null,
            "_model_module": "@jupyter-widgets/base",
            "top": null,
            "grid_column": null,
            "overflow_y": null,
            "overflow_x": null,
            "grid_auto_flow": null,
            "grid_area": null,
            "grid_template_columns": null,
            "flex": null,
            "_model_name": "LayoutModel",
            "justify_items": null,
            "grid_row": null,
            "max_height": null,
            "align_content": null,
            "visibility": null,
            "align_self": null,
            "height": null,
            "min_height": null,
            "padding": null,
            "grid_auto_rows": null,
            "grid_gap": null,
            "max_width": null,
            "order": null,
            "_view_module_version": "1.2.0",
            "grid_template_areas": null,
            "object_position": null,
            "object_fit": null,
            "grid_auto_columns": null,
            "margin": null,
            "display": null,
            "left": null
          }
        },
        "cdefc7d6b1ab43939ff933afc9579398": {
          "model_module": "@jupyter-widgets/controls",
          "model_name": "HBoxModel",
          "state": {
            "_view_name": "HBoxView",
            "_dom_classes": [],
            "_model_name": "HBoxModel",
            "_view_module": "@jupyter-widgets/controls",
            "_model_module_version": "1.5.0",
            "_view_count": null,
            "_view_module_version": "1.5.0",
            "box_style": "",
            "layout": "IPY_MODEL_f54bbcc313014d3392c27e1685df026b",
            "_model_module": "@jupyter-widgets/controls",
            "children": [
              "IPY_MODEL_37ebd5287f1246bd89ef6c58e603e0f8",
              "IPY_MODEL_fce3a906eea146fe8e040ffd26705615"
            ]
          }
        },
        "f54bbcc313014d3392c27e1685df026b": {
          "model_module": "@jupyter-widgets/base",
          "model_name": "LayoutModel",
          "state": {
            "_view_name": "LayoutView",
            "grid_template_rows": null,
            "right": null,
            "justify_content": null,
            "_view_module": "@jupyter-widgets/base",
            "overflow": null,
            "_model_module_version": "1.2.0",
            "_view_count": null,
            "flex_flow": null,
            "width": null,
            "min_width": null,
            "border": null,
            "align_items": null,
            "bottom": null,
            "_model_module": "@jupyter-widgets/base",
            "top": null,
            "grid_column": null,
            "overflow_y": null,
            "overflow_x": null,
            "grid_auto_flow": null,
            "grid_area": null,
            "grid_template_columns": null,
            "flex": null,
            "_model_name": "LayoutModel",
            "justify_items": null,
            "grid_row": null,
            "max_height": null,
            "align_content": null,
            "visibility": null,
            "align_self": null,
            "height": null,
            "min_height": null,
            "padding": null,
            "grid_auto_rows": null,
            "grid_gap": null,
            "max_width": null,
            "order": null,
            "_view_module_version": "1.2.0",
            "grid_template_areas": null,
            "object_position": null,
            "object_fit": null,
            "grid_auto_columns": null,
            "margin": null,
            "display": null,
            "left": null
          }
        },
        "37ebd5287f1246bd89ef6c58e603e0f8": {
          "model_module": "@jupyter-widgets/controls",
          "model_name": "FloatProgressModel",
          "state": {
            "_view_name": "ProgressView",
            "style": "IPY_MODEL_5a8e6a0aa40d42edb7b472eb7caf97d2",
            "_dom_classes": [],
            "description": "Fetching model.ckpt.data-00000-of-00001: ",
            "_model_name": "FloatProgressModel",
            "bar_style": "success",
            "max": 497759232,
            "_view_module": "@jupyter-widgets/controls",
            "_model_module_version": "1.5.0",
            "value": 497759232,
            "_view_count": null,
            "_view_module_version": "1.5.0",
            "orientation": "horizontal",
            "min": 0,
            "description_tooltip": null,
            "_model_module": "@jupyter-widgets/controls",
            "layout": "IPY_MODEL_76ea5cdf6e584f1ca14f3ec885ec3cb2"
          }
        },
        "fce3a906eea146fe8e040ffd26705615": {
          "model_module": "@jupyter-widgets/controls",
          "model_name": "HTMLModel",
          "state": {
            "_view_name": "HTMLView",
            "style": "IPY_MODEL_555bebdea59f4eb2bb6d07578bac98a4",
            "_dom_classes": [],
            "description": "",
            "_model_name": "HTMLModel",
            "placeholder": "​",
            "_view_module": "@jupyter-widgets/controls",
            "_model_module_version": "1.5.0",
            "value": " 498M/? [00:11&lt;00:00, 42.5Mit/s]",
            "_view_count": null,
            "_view_module_version": "1.5.0",
            "description_tooltip": null,
            "_model_module": "@jupyter-widgets/controls",
            "layout": "IPY_MODEL_c165ed675b214eb9ad173fa7e6e263c2"
          }
        },
        "5a8e6a0aa40d42edb7b472eb7caf97d2": {
          "model_module": "@jupyter-widgets/controls",
          "model_name": "ProgressStyleModel",
          "state": {
            "_view_name": "StyleView",
            "_model_name": "ProgressStyleModel",
            "description_width": "initial",
            "_view_module": "@jupyter-widgets/base",
            "_model_module_version": "1.5.0",
            "_view_count": null,
            "_view_module_version": "1.2.0",
            "bar_color": null,
            "_model_module": "@jupyter-widgets/controls"
          }
        },
        "76ea5cdf6e584f1ca14f3ec885ec3cb2": {
          "model_module": "@jupyter-widgets/base",
          "model_name": "LayoutModel",
          "state": {
            "_view_name": "LayoutView",
            "grid_template_rows": null,
            "right": null,
            "justify_content": null,
            "_view_module": "@jupyter-widgets/base",
            "overflow": null,
            "_model_module_version": "1.2.0",
            "_view_count": null,
            "flex_flow": null,
            "width": null,
            "min_width": null,
            "border": null,
            "align_items": null,
            "bottom": null,
            "_model_module": "@jupyter-widgets/base",
            "top": null,
            "grid_column": null,
            "overflow_y": null,
            "overflow_x": null,
            "grid_auto_flow": null,
            "grid_area": null,
            "grid_template_columns": null,
            "flex": null,
            "_model_name": "LayoutModel",
            "justify_items": null,
            "grid_row": null,
            "max_height": null,
            "align_content": null,
            "visibility": null,
            "align_self": null,
            "height": null,
            "min_height": null,
            "padding": null,
            "grid_auto_rows": null,
            "grid_gap": null,
            "max_width": null,
            "order": null,
            "_view_module_version": "1.2.0",
            "grid_template_areas": null,
            "object_position": null,
            "object_fit": null,
            "grid_auto_columns": null,
            "margin": null,
            "display": null,
            "left": null
          }
        },
        "555bebdea59f4eb2bb6d07578bac98a4": {
          "model_module": "@jupyter-widgets/controls",
          "model_name": "DescriptionStyleModel",
          "state": {
            "_view_name": "StyleView",
            "_model_name": "DescriptionStyleModel",
            "description_width": "",
            "_view_module": "@jupyter-widgets/base",
            "_model_module_version": "1.5.0",
            "_view_count": null,
            "_view_module_version": "1.2.0",
            "_model_module": "@jupyter-widgets/controls"
          }
        },
        "c165ed675b214eb9ad173fa7e6e263c2": {
          "model_module": "@jupyter-widgets/base",
          "model_name": "LayoutModel",
          "state": {
            "_view_name": "LayoutView",
            "grid_template_rows": null,
            "right": null,
            "justify_content": null,
            "_view_module": "@jupyter-widgets/base",
            "overflow": null,
            "_model_module_version": "1.2.0",
            "_view_count": null,
            "flex_flow": null,
            "width": null,
            "min_width": null,
            "border": null,
            "align_items": null,
            "bottom": null,
            "_model_module": "@jupyter-widgets/base",
            "top": null,
            "grid_column": null,
            "overflow_y": null,
            "overflow_x": null,
            "grid_auto_flow": null,
            "grid_area": null,
            "grid_template_columns": null,
            "flex": null,
            "_model_name": "LayoutModel",
            "justify_items": null,
            "grid_row": null,
            "max_height": null,
            "align_content": null,
            "visibility": null,
            "align_self": null,
            "height": null,
            "min_height": null,
            "padding": null,
            "grid_auto_rows": null,
            "grid_gap": null,
            "max_width": null,
            "order": null,
            "_view_module_version": "1.2.0",
            "grid_template_areas": null,
            "object_position": null,
            "object_fit": null,
            "grid_auto_columns": null,
            "margin": null,
            "display": null,
            "left": null
          }
        },
        "4834c681689948818b5d879c62d6a5b5": {
          "model_module": "@jupyter-widgets/controls",
          "model_name": "HBoxModel",
          "state": {
            "_view_name": "HBoxView",
            "_dom_classes": [],
            "_model_name": "HBoxModel",
            "_view_module": "@jupyter-widgets/controls",
            "_model_module_version": "1.5.0",
            "_view_count": null,
            "_view_module_version": "1.5.0",
            "box_style": "",
            "layout": "IPY_MODEL_d3b027b9e4324deeadd0c91c771ff41d",
            "_model_module": "@jupyter-widgets/controls",
            "children": [
              "IPY_MODEL_18bb9c00a3214bda992381c880845424",
              "IPY_MODEL_0b81aad19bcb4f05bcf47e8f3d392746"
            ]
          }
        },
        "d3b027b9e4324deeadd0c91c771ff41d": {
          "model_module": "@jupyter-widgets/base",
          "model_name": "LayoutModel",
          "state": {
            "_view_name": "LayoutView",
            "grid_template_rows": null,
            "right": null,
            "justify_content": null,
            "_view_module": "@jupyter-widgets/base",
            "overflow": null,
            "_model_module_version": "1.2.0",
            "_view_count": null,
            "flex_flow": null,
            "width": null,
            "min_width": null,
            "border": null,
            "align_items": null,
            "bottom": null,
            "_model_module": "@jupyter-widgets/base",
            "top": null,
            "grid_column": null,
            "overflow_y": null,
            "overflow_x": null,
            "grid_auto_flow": null,
            "grid_area": null,
            "grid_template_columns": null,
            "flex": null,
            "_model_name": "LayoutModel",
            "justify_items": null,
            "grid_row": null,
            "max_height": null,
            "align_content": null,
            "visibility": null,
            "align_self": null,
            "height": null,
            "min_height": null,
            "padding": null,
            "grid_auto_rows": null,
            "grid_gap": null,
            "max_width": null,
            "order": null,
            "_view_module_version": "1.2.0",
            "grid_template_areas": null,
            "object_position": null,
            "object_fit": null,
            "grid_auto_columns": null,
            "margin": null,
            "display": null,
            "left": null
          }
        },
        "18bb9c00a3214bda992381c880845424": {
          "model_module": "@jupyter-widgets/controls",
          "model_name": "FloatProgressModel",
          "state": {
            "_view_name": "ProgressView",
            "style": "IPY_MODEL_0396e8bd43c449fe8644346a836787f5",
            "_dom_classes": [],
            "description": "Fetching model.ckpt.index: ",
            "_model_name": "FloatProgressModel",
            "bar_style": "success",
            "max": 5215,
            "_view_module": "@jupyter-widgets/controls",
            "_model_module_version": "1.5.0",
            "value": 5215,
            "_view_count": null,
            "_view_module_version": "1.5.0",
            "orientation": "horizontal",
            "min": 0,
            "description_tooltip": null,
            "_model_module": "@jupyter-widgets/controls",
            "layout": "IPY_MODEL_47a8d3f7a9b54f7983dc7342b2499294"
          }
        },
        "0b81aad19bcb4f05bcf47e8f3d392746": {
          "model_module": "@jupyter-widgets/controls",
          "model_name": "HTMLModel",
          "state": {
            "_view_name": "HTMLView",
            "style": "IPY_MODEL_ed74977f3ecc4f72894a560d7eb37a48",
            "_dom_classes": [],
            "description": "",
            "_model_name": "HTMLModel",
            "placeholder": "​",
            "_view_module": "@jupyter-widgets/controls",
            "_model_module_version": "1.5.0",
            "value": " 1.05M/? [00:00&lt;00:00, 1.16Mit/s]",
            "_view_count": null,
            "_view_module_version": "1.5.0",
            "description_tooltip": null,
            "_model_module": "@jupyter-widgets/controls",
            "layout": "IPY_MODEL_6e46b4e9bfee48c8899e360456ea42a5"
          }
        },
        "0396e8bd43c449fe8644346a836787f5": {
          "model_module": "@jupyter-widgets/controls",
          "model_name": "ProgressStyleModel",
          "state": {
            "_view_name": "StyleView",
            "_model_name": "ProgressStyleModel",
            "description_width": "initial",
            "_view_module": "@jupyter-widgets/base",
            "_model_module_version": "1.5.0",
            "_view_count": null,
            "_view_module_version": "1.2.0",
            "bar_color": null,
            "_model_module": "@jupyter-widgets/controls"
          }
        },
        "47a8d3f7a9b54f7983dc7342b2499294": {
          "model_module": "@jupyter-widgets/base",
          "model_name": "LayoutModel",
          "state": {
            "_view_name": "LayoutView",
            "grid_template_rows": null,
            "right": null,
            "justify_content": null,
            "_view_module": "@jupyter-widgets/base",
            "overflow": null,
            "_model_module_version": "1.2.0",
            "_view_count": null,
            "flex_flow": null,
            "width": null,
            "min_width": null,
            "border": null,
            "align_items": null,
            "bottom": null,
            "_model_module": "@jupyter-widgets/base",
            "top": null,
            "grid_column": null,
            "overflow_y": null,
            "overflow_x": null,
            "grid_auto_flow": null,
            "grid_area": null,
            "grid_template_columns": null,
            "flex": null,
            "_model_name": "LayoutModel",
            "justify_items": null,
            "grid_row": null,
            "max_height": null,
            "align_content": null,
            "visibility": null,
            "align_self": null,
            "height": null,
            "min_height": null,
            "padding": null,
            "grid_auto_rows": null,
            "grid_gap": null,
            "max_width": null,
            "order": null,
            "_view_module_version": "1.2.0",
            "grid_template_areas": null,
            "object_position": null,
            "object_fit": null,
            "grid_auto_columns": null,
            "margin": null,
            "display": null,
            "left": null
          }
        },
        "ed74977f3ecc4f72894a560d7eb37a48": {
          "model_module": "@jupyter-widgets/controls",
          "model_name": "DescriptionStyleModel",
          "state": {
            "_view_name": "StyleView",
            "_model_name": "DescriptionStyleModel",
            "description_width": "",
            "_view_module": "@jupyter-widgets/base",
            "_model_module_version": "1.5.0",
            "_view_count": null,
            "_view_module_version": "1.2.0",
            "_model_module": "@jupyter-widgets/controls"
          }
        },
        "6e46b4e9bfee48c8899e360456ea42a5": {
          "model_module": "@jupyter-widgets/base",
          "model_name": "LayoutModel",
          "state": {
            "_view_name": "LayoutView",
            "grid_template_rows": null,
            "right": null,
            "justify_content": null,
            "_view_module": "@jupyter-widgets/base",
            "overflow": null,
            "_model_module_version": "1.2.0",
            "_view_count": null,
            "flex_flow": null,
            "width": null,
            "min_width": null,
            "border": null,
            "align_items": null,
            "bottom": null,
            "_model_module": "@jupyter-widgets/base",
            "top": null,
            "grid_column": null,
            "overflow_y": null,
            "overflow_x": null,
            "grid_auto_flow": null,
            "grid_area": null,
            "grid_template_columns": null,
            "flex": null,
            "_model_name": "LayoutModel",
            "justify_items": null,
            "grid_row": null,
            "max_height": null,
            "align_content": null,
            "visibility": null,
            "align_self": null,
            "height": null,
            "min_height": null,
            "padding": null,
            "grid_auto_rows": null,
            "grid_gap": null,
            "max_width": null,
            "order": null,
            "_view_module_version": "1.2.0",
            "grid_template_areas": null,
            "object_position": null,
            "object_fit": null,
            "grid_auto_columns": null,
            "margin": null,
            "display": null,
            "left": null
          }
        },
        "4958b7fad8bd423b8ba6877ba0c66fc3": {
          "model_module": "@jupyter-widgets/controls",
          "model_name": "HBoxModel",
          "state": {
            "_view_name": "HBoxView",
            "_dom_classes": [],
            "_model_name": "HBoxModel",
            "_view_module": "@jupyter-widgets/controls",
            "_model_module_version": "1.5.0",
            "_view_count": null,
            "_view_module_version": "1.5.0",
            "box_style": "",
            "layout": "IPY_MODEL_2849faab6c5a455ab3e804bd1b7bdf00",
            "_model_module": "@jupyter-widgets/controls",
            "children": [
              "IPY_MODEL_b4957c4151ad48d891b774ed7c9264e3",
              "IPY_MODEL_c44f152cfea04a3fa8ebdf2ce03224b2"
            ]
          }
        },
        "2849faab6c5a455ab3e804bd1b7bdf00": {
          "model_module": "@jupyter-widgets/base",
          "model_name": "LayoutModel",
          "state": {
            "_view_name": "LayoutView",
            "grid_template_rows": null,
            "right": null,
            "justify_content": null,
            "_view_module": "@jupyter-widgets/base",
            "overflow": null,
            "_model_module_version": "1.2.0",
            "_view_count": null,
            "flex_flow": null,
            "width": null,
            "min_width": null,
            "border": null,
            "align_items": null,
            "bottom": null,
            "_model_module": "@jupyter-widgets/base",
            "top": null,
            "grid_column": null,
            "overflow_y": null,
            "overflow_x": null,
            "grid_auto_flow": null,
            "grid_area": null,
            "grid_template_columns": null,
            "flex": null,
            "_model_name": "LayoutModel",
            "justify_items": null,
            "grid_row": null,
            "max_height": null,
            "align_content": null,
            "visibility": null,
            "align_self": null,
            "height": null,
            "min_height": null,
            "padding": null,
            "grid_auto_rows": null,
            "grid_gap": null,
            "max_width": null,
            "order": null,
            "_view_module_version": "1.2.0",
            "grid_template_areas": null,
            "object_position": null,
            "object_fit": null,
            "grid_auto_columns": null,
            "margin": null,
            "display": null,
            "left": null
          }
        },
        "b4957c4151ad48d891b774ed7c9264e3": {
          "model_module": "@jupyter-widgets/controls",
          "model_name": "FloatProgressModel",
          "state": {
            "_view_name": "ProgressView",
            "style": "IPY_MODEL_311a9f36ee32475b9da18b50e253960a",
            "_dom_classes": [],
            "description": "Fetching model.ckpt.meta: ",
            "_model_name": "FloatProgressModel",
            "bar_style": "success",
            "max": 471155,
            "_view_module": "@jupyter-widgets/controls",
            "_model_module_version": "1.5.0",
            "value": 471155,
            "_view_count": null,
            "_view_module_version": "1.5.0",
            "orientation": "horizontal",
            "min": 0,
            "description_tooltip": null,
            "_model_module": "@jupyter-widgets/controls",
            "layout": "IPY_MODEL_4aaa255c374f4dceb776f2b6a2596c1c"
          }
        },
        "c44f152cfea04a3fa8ebdf2ce03224b2": {
          "model_module": "@jupyter-widgets/controls",
          "model_name": "HTMLModel",
          "state": {
            "_view_name": "HTMLView",
            "style": "IPY_MODEL_79ed335e101041898fa09b69288501d0",
            "_dom_classes": [],
            "description": "",
            "_model_name": "HTMLModel",
            "placeholder": "​",
            "_view_module": "@jupyter-widgets/controls",
            "_model_module_version": "1.5.0",
            "value": " 1.05M/? [00:00&lt;00:00, 1.28Mit/s]",
            "_view_count": null,
            "_view_module_version": "1.5.0",
            "description_tooltip": null,
            "_model_module": "@jupyter-widgets/controls",
            "layout": "IPY_MODEL_555240a4a48b4a9ba950832d060486c4"
          }
        },
        "311a9f36ee32475b9da18b50e253960a": {
          "model_module": "@jupyter-widgets/controls",
          "model_name": "ProgressStyleModel",
          "state": {
            "_view_name": "StyleView",
            "_model_name": "ProgressStyleModel",
            "description_width": "initial",
            "_view_module": "@jupyter-widgets/base",
            "_model_module_version": "1.5.0",
            "_view_count": null,
            "_view_module_version": "1.2.0",
            "bar_color": null,
            "_model_module": "@jupyter-widgets/controls"
          }
        },
        "4aaa255c374f4dceb776f2b6a2596c1c": {
          "model_module": "@jupyter-widgets/base",
          "model_name": "LayoutModel",
          "state": {
            "_view_name": "LayoutView",
            "grid_template_rows": null,
            "right": null,
            "justify_content": null,
            "_view_module": "@jupyter-widgets/base",
            "overflow": null,
            "_model_module_version": "1.2.0",
            "_view_count": null,
            "flex_flow": null,
            "width": null,
            "min_width": null,
            "border": null,
            "align_items": null,
            "bottom": null,
            "_model_module": "@jupyter-widgets/base",
            "top": null,
            "grid_column": null,
            "overflow_y": null,
            "overflow_x": null,
            "grid_auto_flow": null,
            "grid_area": null,
            "grid_template_columns": null,
            "flex": null,
            "_model_name": "LayoutModel",
            "justify_items": null,
            "grid_row": null,
            "max_height": null,
            "align_content": null,
            "visibility": null,
            "align_self": null,
            "height": null,
            "min_height": null,
            "padding": null,
            "grid_auto_rows": null,
            "grid_gap": null,
            "max_width": null,
            "order": null,
            "_view_module_version": "1.2.0",
            "grid_template_areas": null,
            "object_position": null,
            "object_fit": null,
            "grid_auto_columns": null,
            "margin": null,
            "display": null,
            "left": null
          }
        },
        "79ed335e101041898fa09b69288501d0": {
          "model_module": "@jupyter-widgets/controls",
          "model_name": "DescriptionStyleModel",
          "state": {
            "_view_name": "StyleView",
            "_model_name": "DescriptionStyleModel",
            "description_width": "",
            "_view_module": "@jupyter-widgets/base",
            "_model_module_version": "1.5.0",
            "_view_count": null,
            "_view_module_version": "1.2.0",
            "_model_module": "@jupyter-widgets/controls"
          }
        },
        "555240a4a48b4a9ba950832d060486c4": {
          "model_module": "@jupyter-widgets/base",
          "model_name": "LayoutModel",
          "state": {
            "_view_name": "LayoutView",
            "grid_template_rows": null,
            "right": null,
            "justify_content": null,
            "_view_module": "@jupyter-widgets/base",
            "overflow": null,
            "_model_module_version": "1.2.0",
            "_view_count": null,
            "flex_flow": null,
            "width": null,
            "min_width": null,
            "border": null,
            "align_items": null,
            "bottom": null,
            "_model_module": "@jupyter-widgets/base",
            "top": null,
            "grid_column": null,
            "overflow_y": null,
            "overflow_x": null,
            "grid_auto_flow": null,
            "grid_area": null,
            "grid_template_columns": null,
            "flex": null,
            "_model_name": "LayoutModel",
            "justify_items": null,
            "grid_row": null,
            "max_height": null,
            "align_content": null,
            "visibility": null,
            "align_self": null,
            "height": null,
            "min_height": null,
            "padding": null,
            "grid_auto_rows": null,
            "grid_gap": null,
            "max_width": null,
            "order": null,
            "_view_module_version": "1.2.0",
            "grid_template_areas": null,
            "object_position": null,
            "object_fit": null,
            "grid_auto_columns": null,
            "margin": null,
            "display": null,
            "left": null
          }
        },
        "c818ede6f66341e584b4f39b96ee43a4": {
          "model_module": "@jupyter-widgets/controls",
          "model_name": "HBoxModel",
          "state": {
            "_view_name": "HBoxView",
            "_dom_classes": [],
            "_model_name": "HBoxModel",
            "_view_module": "@jupyter-widgets/controls",
            "_model_module_version": "1.5.0",
            "_view_count": null,
            "_view_module_version": "1.5.0",
            "box_style": "",
            "layout": "IPY_MODEL_66d1584962c04e35b51687f31dd2db3f",
            "_model_module": "@jupyter-widgets/controls",
            "children": [
              "IPY_MODEL_3d5e33fb6eb34753a0cda4c88aaa633f",
              "IPY_MODEL_4853e9050d6b4fca8694b2a3ef7ccff6"
            ]
          }
        },
        "66d1584962c04e35b51687f31dd2db3f": {
          "model_module": "@jupyter-widgets/base",
          "model_name": "LayoutModel",
          "state": {
            "_view_name": "LayoutView",
            "grid_template_rows": null,
            "right": null,
            "justify_content": null,
            "_view_module": "@jupyter-widgets/base",
            "overflow": null,
            "_model_module_version": "1.2.0",
            "_view_count": null,
            "flex_flow": "row wrap",
            "width": "100%",
            "min_width": null,
            "border": null,
            "align_items": null,
            "bottom": null,
            "_model_module": "@jupyter-widgets/base",
            "top": null,
            "grid_column": null,
            "overflow_y": null,
            "overflow_x": null,
            "grid_auto_flow": null,
            "grid_area": null,
            "grid_template_columns": null,
            "flex": null,
            "_model_name": "LayoutModel",
            "justify_items": null,
            "grid_row": null,
            "max_height": null,
            "align_content": null,
            "visibility": null,
            "align_self": null,
            "height": null,
            "min_height": null,
            "padding": null,
            "grid_auto_rows": null,
            "grid_gap": null,
            "max_width": null,
            "order": null,
            "_view_module_version": "1.2.0",
            "grid_template_areas": null,
            "object_position": null,
            "object_fit": null,
            "grid_auto_columns": null,
            "margin": null,
            "display": "inline-flex",
            "left": null
          }
        },
        "3d5e33fb6eb34753a0cda4c88aaa633f": {
          "model_module": "@jupyter-widgets/controls",
          "model_name": "FloatProgressModel",
          "state": {
            "_view_name": "ProgressView",
            "style": "IPY_MODEL_bc650efd7de14cd8a61bd4d8210e31bf",
            "_dom_classes": [],
            "description": "100%",
            "_model_name": "FloatProgressModel",
            "bar_style": "success",
            "max": 99,
            "_view_module": "@jupyter-widgets/controls",
            "_model_module_version": "1.5.0",
            "value": 99,
            "_view_count": null,
            "_view_module_version": "1.5.0",
            "orientation": "horizontal",
            "min": 0,
            "description_tooltip": null,
            "_model_module": "@jupyter-widgets/controls",
            "layout": "IPY_MODEL_fc5ba6773f184013895c501709e60a12"
          }
        },
        "4853e9050d6b4fca8694b2a3ef7ccff6": {
          "model_module": "@jupyter-widgets/controls",
          "model_name": "HTMLModel",
          "state": {
            "_view_name": "HTMLView",
            "style": "IPY_MODEL_6264a03776d344f8b368154eb8a6c94f",
            "_dom_classes": [],
            "description": "",
            "_model_name": "HTMLModel",
            "placeholder": "​",
            "_view_module": "@jupyter-widgets/controls",
            "_model_module_version": "1.5.0",
            "value": " 99/99 [00:02&lt;00:00, 47.23it/s]",
            "_view_count": null,
            "_view_module_version": "1.5.0",
            "description_tooltip": null,
            "_model_module": "@jupyter-widgets/controls",
            "layout": "IPY_MODEL_558fecf6e0374b9fb186338f9de3dc39"
          }
        },
        "bc650efd7de14cd8a61bd4d8210e31bf": {
          "model_module": "@jupyter-widgets/controls",
          "model_name": "ProgressStyleModel",
          "state": {
            "_view_name": "StyleView",
            "_model_name": "ProgressStyleModel",
            "description_width": "initial",
            "_view_module": "@jupyter-widgets/base",
            "_model_module_version": "1.5.0",
            "_view_count": null,
            "_view_module_version": "1.2.0",
            "bar_color": null,
            "_model_module": "@jupyter-widgets/controls"
          }
        },
        "fc5ba6773f184013895c501709e60a12": {
          "model_module": "@jupyter-widgets/base",
          "model_name": "LayoutModel",
          "state": {
            "_view_name": "LayoutView",
            "grid_template_rows": null,
            "right": null,
            "justify_content": null,
            "_view_module": "@jupyter-widgets/base",
            "overflow": null,
            "_model_module_version": "1.2.0",
            "_view_count": null,
            "flex_flow": null,
            "width": null,
            "min_width": null,
            "border": null,
            "align_items": null,
            "bottom": null,
            "_model_module": "@jupyter-widgets/base",
            "top": null,
            "grid_column": null,
            "overflow_y": null,
            "overflow_x": null,
            "grid_auto_flow": null,
            "grid_area": null,
            "grid_template_columns": null,
            "flex": "2",
            "_model_name": "LayoutModel",
            "justify_items": null,
            "grid_row": null,
            "max_height": null,
            "align_content": null,
            "visibility": null,
            "align_self": null,
            "height": null,
            "min_height": null,
            "padding": null,
            "grid_auto_rows": null,
            "grid_gap": null,
            "max_width": null,
            "order": null,
            "_view_module_version": "1.2.0",
            "grid_template_areas": null,
            "object_position": null,
            "object_fit": null,
            "grid_auto_columns": null,
            "margin": null,
            "display": null,
            "left": null
          }
        },
        "6264a03776d344f8b368154eb8a6c94f": {
          "model_module": "@jupyter-widgets/controls",
          "model_name": "DescriptionStyleModel",
          "state": {
            "_view_name": "StyleView",
            "_model_name": "DescriptionStyleModel",
            "description_width": "",
            "_view_module": "@jupyter-widgets/base",
            "_model_module_version": "1.5.0",
            "_view_count": null,
            "_view_module_version": "1.2.0",
            "_model_module": "@jupyter-widgets/controls"
          }
        },
        "558fecf6e0374b9fb186338f9de3dc39": {
          "model_module": "@jupyter-widgets/base",
          "model_name": "LayoutModel",
          "state": {
            "_view_name": "LayoutView",
            "grid_template_rows": null,
            "right": null,
            "justify_content": null,
            "_view_module": "@jupyter-widgets/base",
            "overflow": null,
            "_model_module_version": "1.2.0",
            "_view_count": null,
            "flex_flow": null,
            "width": null,
            "min_width": null,
            "border": null,
            "align_items": null,
            "bottom": null,
            "_model_module": "@jupyter-widgets/base",
            "top": null,
            "grid_column": null,
            "overflow_y": null,
            "overflow_x": null,
            "grid_auto_flow": null,
            "grid_area": null,
            "grid_template_columns": null,
            "flex": null,
            "_model_name": "LayoutModel",
            "justify_items": null,
            "grid_row": null,
            "max_height": null,
            "align_content": null,
            "visibility": null,
            "align_self": null,
            "height": null,
            "min_height": null,
            "padding": null,
            "grid_auto_rows": null,
            "grid_gap": null,
            "max_width": null,
            "order": null,
            "_view_module_version": "1.2.0",
            "grid_template_areas": null,
            "object_position": null,
            "object_fit": null,
            "grid_auto_columns": null,
            "margin": null,
            "display": null,
            "left": null
          }
        },
        "7fbed66b2e824d16a7f4d9c731fe3dbd": {
          "model_module": "@jupyter-widgets/controls",
          "model_name": "HBoxModel",
          "state": {
            "_view_name": "HBoxView",
            "_dom_classes": [],
            "_model_name": "HBoxModel",
            "_view_module": "@jupyter-widgets/controls",
            "_model_module_version": "1.5.0",
            "_view_count": null,
            "_view_module_version": "1.5.0",
            "box_style": "",
            "layout": "IPY_MODEL_3a1fa3841a4847c2b481a97df3c19343",
            "_model_module": "@jupyter-widgets/controls",
            "children": [
              "IPY_MODEL_ae9d46f08e2045aba2146a664b66e3d0",
              "IPY_MODEL_4d961a41757a4d62b37a97ee7967e514"
            ]
          }
        },
        "3a1fa3841a4847c2b481a97df3c19343": {
          "model_module": "@jupyter-widgets/base",
          "model_name": "LayoutModel",
          "state": {
            "_view_name": "LayoutView",
            "grid_template_rows": null,
            "right": null,
            "justify_content": null,
            "_view_module": "@jupyter-widgets/base",
            "overflow": null,
            "_model_module_version": "1.2.0",
            "_view_count": null,
            "flex_flow": "row wrap",
            "width": "100%",
            "min_width": null,
            "border": null,
            "align_items": null,
            "bottom": null,
            "_model_module": "@jupyter-widgets/base",
            "top": null,
            "grid_column": null,
            "overflow_y": null,
            "overflow_x": null,
            "grid_auto_flow": null,
            "grid_area": null,
            "grid_template_columns": null,
            "flex": null,
            "_model_name": "LayoutModel",
            "justify_items": null,
            "grid_row": null,
            "max_height": null,
            "align_content": null,
            "visibility": null,
            "align_self": null,
            "height": null,
            "min_height": null,
            "padding": null,
            "grid_auto_rows": null,
            "grid_gap": null,
            "max_width": null,
            "order": null,
            "_view_module_version": "1.2.0",
            "grid_template_areas": null,
            "object_position": null,
            "object_fit": null,
            "grid_auto_columns": null,
            "margin": null,
            "display": "inline-flex",
            "left": null
          }
        },
        "ae9d46f08e2045aba2146a664b66e3d0": {
          "model_module": "@jupyter-widgets/controls",
          "model_name": "FloatProgressModel",
          "state": {
            "_view_name": "ProgressView",
            "style": "IPY_MODEL_9db9da9dff52458194aa2772f4786c70",
            "_dom_classes": [],
            "description": "Loss: 0.047 — Avg: 0.060 — GPU Mem: 7666 MB: 100%",
            "_model_name": "FloatProgressModel",
            "bar_style": "",
            "max": 1000,
            "_view_module": "@jupyter-widgets/controls",
            "_model_module_version": "1.5.0",
            "value": 1000,
            "_view_count": null,
            "_view_module_version": "1.5.0",
            "orientation": "horizontal",
            "min": 0,
            "description_tooltip": null,
            "_model_module": "@jupyter-widgets/controls",
            "layout": "IPY_MODEL_74188db990c84df8be7325a591f888ef"
          }
        },
        "4d961a41757a4d62b37a97ee7967e514": {
          "model_module": "@jupyter-widgets/controls",
          "model_name": "HTMLModel",
          "state": {
            "_view_name": "HTMLView",
            "style": "IPY_MODEL_16dfbfce5b1d43b4b86cef388fe43b3e",
            "_dom_classes": [],
            "description": "",
            "_model_name": "HTMLModel",
            "placeholder": "​",
            "_view_module": "@jupyter-widgets/controls",
            "_model_module_version": "1.5.0",
            "value": " 1000/1000 [13:37&lt;00:00,  1.22it/s]",
            "_view_count": null,
            "_view_module_version": "1.5.0",
            "description_tooltip": null,
            "_model_module": "@jupyter-widgets/controls",
            "layout": "IPY_MODEL_699c5357930b4787b778d6031c8af2d3"
          }
        },
        "9db9da9dff52458194aa2772f4786c70": {
          "model_module": "@jupyter-widgets/controls",
          "model_name": "ProgressStyleModel",
          "state": {
            "_view_name": "StyleView",
            "_model_name": "ProgressStyleModel",
            "description_width": "initial",
            "_view_module": "@jupyter-widgets/base",
            "_model_module_version": "1.5.0",
            "_view_count": null,
            "_view_module_version": "1.2.0",
            "bar_color": null,
            "_model_module": "@jupyter-widgets/controls"
          }
        },
        "74188db990c84df8be7325a591f888ef": {
          "model_module": "@jupyter-widgets/base",
          "model_name": "LayoutModel",
          "state": {
            "_view_name": "LayoutView",
            "grid_template_rows": null,
            "right": null,
            "justify_content": null,
            "_view_module": "@jupyter-widgets/base",
            "overflow": null,
            "_model_module_version": "1.2.0",
            "_view_count": null,
            "flex_flow": null,
            "width": null,
            "min_width": null,
            "border": null,
            "align_items": null,
            "bottom": null,
            "_model_module": "@jupyter-widgets/base",
            "top": null,
            "grid_column": null,
            "overflow_y": null,
            "overflow_x": null,
            "grid_auto_flow": null,
            "grid_area": null,
            "grid_template_columns": null,
            "flex": "2",
            "_model_name": "LayoutModel",
            "justify_items": null,
            "grid_row": null,
            "max_height": null,
            "align_content": null,
            "visibility": null,
            "align_self": null,
            "height": null,
            "min_height": null,
            "padding": null,
            "grid_auto_rows": null,
            "grid_gap": null,
            "max_width": null,
            "order": null,
            "_view_module_version": "1.2.0",
            "grid_template_areas": null,
            "object_position": null,
            "object_fit": null,
            "grid_auto_columns": null,
            "margin": null,
            "display": null,
            "left": null
          }
        },
        "16dfbfce5b1d43b4b86cef388fe43b3e": {
          "model_module": "@jupyter-widgets/controls",
          "model_name": "DescriptionStyleModel",
          "state": {
            "_view_name": "StyleView",
            "_model_name": "DescriptionStyleModel",
            "description_width": "",
            "_view_module": "@jupyter-widgets/base",
            "_model_module_version": "1.5.0",
            "_view_count": null,
            "_view_module_version": "1.2.0",
            "_model_module": "@jupyter-widgets/controls"
          }
        },
        "699c5357930b4787b778d6031c8af2d3": {
          "model_module": "@jupyter-widgets/base",
          "model_name": "LayoutModel",
          "state": {
            "_view_name": "LayoutView",
            "grid_template_rows": null,
            "right": null,
            "justify_content": null,
            "_view_module": "@jupyter-widgets/base",
            "overflow": null,
            "_model_module_version": "1.2.0",
            "_view_count": null,
            "flex_flow": null,
            "width": null,
            "min_width": null,
            "border": null,
            "align_items": null,
            "bottom": null,
            "_model_module": "@jupyter-widgets/base",
            "top": null,
            "grid_column": null,
            "overflow_y": null,
            "overflow_x": null,
            "grid_auto_flow": null,
            "grid_area": null,
            "grid_template_columns": null,
            "flex": null,
            "_model_name": "LayoutModel",
            "justify_items": null,
            "grid_row": null,
            "max_height": null,
            "align_content": null,
            "visibility": null,
            "align_self": null,
            "height": null,
            "min_height": null,
            "padding": null,
            "grid_auto_rows": null,
            "grid_gap": null,
            "max_width": null,
            "order": null,
            "_view_module_version": "1.2.0",
            "grid_template_areas": null,
            "object_position": null,
            "object_fit": null,
            "grid_auto_columns": null,
            "margin": null,
            "display": null,
            "left": null
          }
        },
        "d0f2f99c46ea43d28693e34bc45236be": {
          "model_module": "@jupyter-widgets/controls",
          "model_name": "HBoxModel",
          "state": {
            "_view_name": "HBoxView",
            "_dom_classes": [],
            "_model_name": "HBoxModel",
            "_view_module": "@jupyter-widgets/controls",
            "_model_module_version": "1.5.0",
            "_view_count": null,
            "_view_module_version": "1.5.0",
            "box_style": "",
            "layout": "IPY_MODEL_78d43764ddc240e6b3943b5d7cb6427a",
            "_model_module": "@jupyter-widgets/controls",
            "children": [
              "IPY_MODEL_64c9b03170b5403a91997513f494b608",
              "IPY_MODEL_f6eaa0e68d984410866c93a7f321b53c"
            ]
          }
        },
        "78d43764ddc240e6b3943b5d7cb6427a": {
          "model_module": "@jupyter-widgets/base",
          "model_name": "LayoutModel",
          "state": {
            "_view_name": "LayoutView",
            "grid_template_rows": null,
            "right": null,
            "justify_content": null,
            "_view_module": "@jupyter-widgets/base",
            "overflow": null,
            "_model_module_version": "1.2.0",
            "_view_count": null,
            "flex_flow": null,
            "width": null,
            "min_width": null,
            "border": null,
            "align_items": null,
            "bottom": null,
            "_model_module": "@jupyter-widgets/base",
            "top": null,
            "grid_column": null,
            "overflow_y": null,
            "overflow_x": null,
            "grid_auto_flow": null,
            "grid_area": null,
            "grid_template_columns": null,
            "flex": null,
            "_model_name": "LayoutModel",
            "justify_items": null,
            "grid_row": null,
            "max_height": null,
            "align_content": null,
            "visibility": null,
            "align_self": null,
            "height": null,
            "min_height": null,
            "padding": null,
            "grid_auto_rows": null,
            "grid_gap": null,
            "max_width": null,
            "order": null,
            "_view_module_version": "1.2.0",
            "grid_template_areas": null,
            "object_position": null,
            "object_fit": null,
            "grid_auto_columns": null,
            "margin": null,
            "display": null,
            "left": null
          }
        },
        "64c9b03170b5403a91997513f494b608": {
          "model_module": "@jupyter-widgets/controls",
          "model_name": "FloatProgressModel",
          "state": {
            "_view_name": "ProgressView",
            "style": "IPY_MODEL_f04b1051057f4a1ea30816781b14034a",
            "_dom_classes": [],
            "description": "100%",
            "_model_name": "FloatProgressModel",
            "bar_style": "success",
            "max": 1000,
            "_view_module": "@jupyter-widgets/controls",
            "_model_module_version": "1.5.0",
            "value": 1000,
            "_view_count": null,
            "_view_module_version": "1.5.0",
            "orientation": "horizontal",
            "min": 0,
            "description_tooltip": null,
            "_model_module": "@jupyter-widgets/controls",
            "layout": "IPY_MODEL_df69b87d5bc94a7f9edfb2b11dca8e12"
          }
        },
        "f6eaa0e68d984410866c93a7f321b53c": {
          "model_module": "@jupyter-widgets/controls",
          "model_name": "HTMLModel",
          "state": {
            "_view_name": "HTMLView",
            "style": "IPY_MODEL_cc2391c2cfcb456eb9e409210d57ae53",
            "_dom_classes": [],
            "description": "",
            "_model_name": "HTMLModel",
            "placeholder": "​",
            "_view_module": "@jupyter-widgets/controls",
            "_model_module_version": "1.5.0",
            "value": " 1000/1000 [04:28&lt;00:00,  3.73it/s]",
            "_view_count": null,
            "_view_module_version": "1.5.0",
            "description_tooltip": null,
            "_model_module": "@jupyter-widgets/controls",
            "layout": "IPY_MODEL_1216591e66894ebd8dfb31cf58c92fb7"
          }
        },
        "f04b1051057f4a1ea30816781b14034a": {
          "model_module": "@jupyter-widgets/controls",
          "model_name": "ProgressStyleModel",
          "state": {
            "_view_name": "StyleView",
            "_model_name": "ProgressStyleModel",
            "description_width": "initial",
            "_view_module": "@jupyter-widgets/base",
            "_model_module_version": "1.5.0",
            "_view_count": null,
            "_view_module_version": "1.2.0",
            "bar_color": null,
            "_model_module": "@jupyter-widgets/controls"
          }
        },
        "df69b87d5bc94a7f9edfb2b11dca8e12": {
          "model_module": "@jupyter-widgets/base",
          "model_name": "LayoutModel",
          "state": {
            "_view_name": "LayoutView",
            "grid_template_rows": null,
            "right": null,
            "justify_content": null,
            "_view_module": "@jupyter-widgets/base",
            "overflow": null,
            "_model_module_version": "1.2.0",
            "_view_count": null,
            "flex_flow": null,
            "width": null,
            "min_width": null,
            "border": null,
            "align_items": null,
            "bottom": null,
            "_model_module": "@jupyter-widgets/base",
            "top": null,
            "grid_column": null,
            "overflow_y": null,
            "overflow_x": null,
            "grid_auto_flow": null,
            "grid_area": null,
            "grid_template_columns": null,
            "flex": null,
            "_model_name": "LayoutModel",
            "justify_items": null,
            "grid_row": null,
            "max_height": null,
            "align_content": null,
            "visibility": null,
            "align_self": null,
            "height": null,
            "min_height": null,
            "padding": null,
            "grid_auto_rows": null,
            "grid_gap": null,
            "max_width": null,
            "order": null,
            "_view_module_version": "1.2.0",
            "grid_template_areas": null,
            "object_position": null,
            "object_fit": null,
            "grid_auto_columns": null,
            "margin": null,
            "display": null,
            "left": null
          }
        },
        "cc2391c2cfcb456eb9e409210d57ae53": {
          "model_module": "@jupyter-widgets/controls",
          "model_name": "DescriptionStyleModel",
          "state": {
            "_view_name": "StyleView",
            "_model_name": "DescriptionStyleModel",
            "description_width": "",
            "_view_module": "@jupyter-widgets/base",
            "_model_module_version": "1.5.0",
            "_view_count": null,
            "_view_module_version": "1.2.0",
            "_model_module": "@jupyter-widgets/controls"
          }
        },
        "1216591e66894ebd8dfb31cf58c92fb7": {
          "model_module": "@jupyter-widgets/base",
          "model_name": "LayoutModel",
          "state": {
            "_view_name": "LayoutView",
            "grid_template_rows": null,
            "right": null,
            "justify_content": null,
            "_view_module": "@jupyter-widgets/base",
            "overflow": null,
            "_model_module_version": "1.2.0",
            "_view_count": null,
            "flex_flow": null,
            "width": null,
            "min_width": null,
            "border": null,
            "align_items": null,
            "bottom": null,
            "_model_module": "@jupyter-widgets/base",
            "top": null,
            "grid_column": null,
            "overflow_y": null,
            "overflow_x": null,
            "grid_auto_flow": null,
            "grid_area": null,
            "grid_template_columns": null,
            "flex": null,
            "_model_name": "LayoutModel",
            "justify_items": null,
            "grid_row": null,
            "max_height": null,
            "align_content": null,
            "visibility": null,
            "align_self": null,
            "height": null,
            "min_height": null,
            "padding": null,
            "grid_auto_rows": null,
            "grid_gap": null,
            "max_width": null,
            "order": null,
            "_view_module_version": "1.2.0",
            "grid_template_areas": null,
            "object_position": null,
            "object_fit": null,
            "grid_auto_columns": null,
            "margin": null,
            "display": null,
            "left": null
          }
        },
        "03a0381ab0cb48f9baf4fc3faa572962": {
          "model_module": "@jupyter-widgets/controls",
          "model_name": "HBoxModel",
          "state": {
            "_view_name": "HBoxView",
            "_dom_classes": [],
            "_model_name": "HBoxModel",
            "_view_module": "@jupyter-widgets/controls",
            "_model_module_version": "1.5.0",
            "_view_count": null,
            "_view_module_version": "1.5.0",
            "box_style": "",
            "layout": "IPY_MODEL_529f2a66e8da485a9f0d1d2d2ae5ce00",
            "_model_module": "@jupyter-widgets/controls",
            "children": [
              "IPY_MODEL_e963a85df3e74c298f23935f5ecaec69",
              "IPY_MODEL_ce11a8802d614f3aa2ecf5c3930cb58e"
            ]
          }
        },
        "529f2a66e8da485a9f0d1d2d2ae5ce00": {
          "model_module": "@jupyter-widgets/base",
          "model_name": "LayoutModel",
          "state": {
            "_view_name": "LayoutView",
            "grid_template_rows": null,
            "right": null,
            "justify_content": null,
            "_view_module": "@jupyter-widgets/base",
            "overflow": null,
            "_model_module_version": "1.2.0",
            "_view_count": null,
            "flex_flow": null,
            "width": null,
            "min_width": null,
            "border": null,
            "align_items": null,
            "bottom": null,
            "_model_module": "@jupyter-widgets/base",
            "top": null,
            "grid_column": null,
            "overflow_y": null,
            "overflow_x": null,
            "grid_auto_flow": null,
            "grid_area": null,
            "grid_template_columns": null,
            "flex": null,
            "_model_name": "LayoutModel",
            "justify_items": null,
            "grid_row": null,
            "max_height": null,
            "align_content": null,
            "visibility": null,
            "align_self": null,
            "height": null,
            "min_height": null,
            "padding": null,
            "grid_auto_rows": null,
            "grid_gap": null,
            "max_width": null,
            "order": null,
            "_view_module_version": "1.2.0",
            "grid_template_areas": null,
            "object_position": null,
            "object_fit": null,
            "grid_auto_columns": null,
            "margin": null,
            "display": null,
            "left": null
          }
        },
        "e963a85df3e74c298f23935f5ecaec69": {
          "model_module": "@jupyter-widgets/controls",
          "model_name": "FloatProgressModel",
          "state": {
            "_view_name": "ProgressView",
            "style": "IPY_MODEL_35e05c457b0147aa9ad19e809c20ce3c",
            "_dom_classes": [],
            "description": "100%",
            "_model_name": "FloatProgressModel",
            "bar_style": "success",
            "max": 1000,
            "_view_module": "@jupyter-widgets/controls",
            "_model_module_version": "1.5.0",
            "value": 1000,
            "_view_count": null,
            "_view_module_version": "1.5.0",
            "orientation": "horizontal",
            "min": 0,
            "description_tooltip": null,
            "_model_module": "@jupyter-widgets/controls",
            "layout": "IPY_MODEL_4fa7ada96fb0418096232457c41f44d4"
          }
        },
        "ce11a8802d614f3aa2ecf5c3930cb58e": {
          "model_module": "@jupyter-widgets/controls",
          "model_name": "HTMLModel",
          "state": {
            "_view_name": "HTMLView",
            "style": "IPY_MODEL_884aee3e0baf4126a05adc0e6303979d",
            "_dom_classes": [],
            "description": "",
            "_model_name": "HTMLModel",
            "placeholder": "​",
            "_view_module": "@jupyter-widgets/controls",
            "_model_module_version": "1.5.0",
            "value": " 1000/1000 [02:13&lt;00:00,  7.46it/s]",
            "_view_count": null,
            "_view_module_version": "1.5.0",
            "description_tooltip": null,
            "_model_module": "@jupyter-widgets/controls",
            "layout": "IPY_MODEL_e6de0762b6c64013bcce7dcfa6f25bfd"
          }
        },
        "35e05c457b0147aa9ad19e809c20ce3c": {
          "model_module": "@jupyter-widgets/controls",
          "model_name": "ProgressStyleModel",
          "state": {
            "_view_name": "StyleView",
            "_model_name": "ProgressStyleModel",
            "description_width": "initial",
            "_view_module": "@jupyter-widgets/base",
            "_model_module_version": "1.5.0",
            "_view_count": null,
            "_view_module_version": "1.2.0",
            "bar_color": null,
            "_model_module": "@jupyter-widgets/controls"
          }
        },
        "4fa7ada96fb0418096232457c41f44d4": {
          "model_module": "@jupyter-widgets/base",
          "model_name": "LayoutModel",
          "state": {
            "_view_name": "LayoutView",
            "grid_template_rows": null,
            "right": null,
            "justify_content": null,
            "_view_module": "@jupyter-widgets/base",
            "overflow": null,
            "_model_module_version": "1.2.0",
            "_view_count": null,
            "flex_flow": null,
            "width": null,
            "min_width": null,
            "border": null,
            "align_items": null,
            "bottom": null,
            "_model_module": "@jupyter-widgets/base",
            "top": null,
            "grid_column": null,
            "overflow_y": null,
            "overflow_x": null,
            "grid_auto_flow": null,
            "grid_area": null,
            "grid_template_columns": null,
            "flex": null,
            "_model_name": "LayoutModel",
            "justify_items": null,
            "grid_row": null,
            "max_height": null,
            "align_content": null,
            "visibility": null,
            "align_self": null,
            "height": null,
            "min_height": null,
            "padding": null,
            "grid_auto_rows": null,
            "grid_gap": null,
            "max_width": null,
            "order": null,
            "_view_module_version": "1.2.0",
            "grid_template_areas": null,
            "object_position": null,
            "object_fit": null,
            "grid_auto_columns": null,
            "margin": null,
            "display": null,
            "left": null
          }
        },
        "884aee3e0baf4126a05adc0e6303979d": {
          "model_module": "@jupyter-widgets/controls",
          "model_name": "DescriptionStyleModel",
          "state": {
            "_view_name": "StyleView",
            "_model_name": "DescriptionStyleModel",
            "description_width": "",
            "_view_module": "@jupyter-widgets/base",
            "_model_module_version": "1.5.0",
            "_view_count": null,
            "_view_module_version": "1.2.0",
            "_model_module": "@jupyter-widgets/controls"
          }
        },
        "e6de0762b6c64013bcce7dcfa6f25bfd": {
          "model_module": "@jupyter-widgets/base",
          "model_name": "LayoutModel",
          "state": {
            "_view_name": "LayoutView",
            "grid_template_rows": null,
            "right": null,
            "justify_content": null,
            "_view_module": "@jupyter-widgets/base",
            "overflow": null,
            "_model_module_version": "1.2.0",
            "_view_count": null,
            "flex_flow": null,
            "width": null,
            "min_width": null,
            "border": null,
            "align_items": null,
            "bottom": null,
            "_model_module": "@jupyter-widgets/base",
            "top": null,
            "grid_column": null,
            "overflow_y": null,
            "overflow_x": null,
            "grid_auto_flow": null,
            "grid_area": null,
            "grid_template_columns": null,
            "flex": null,
            "_model_name": "LayoutModel",
            "justify_items": null,
            "grid_row": null,
            "max_height": null,
            "align_content": null,
            "visibility": null,
            "align_self": null,
            "height": null,
            "min_height": null,
            "padding": null,
            "grid_auto_rows": null,
            "grid_gap": null,
            "max_width": null,
            "order": null,
            "_view_module_version": "1.2.0",
            "grid_template_areas": null,
            "object_position": null,
            "object_fit": null,
            "grid_auto_columns": null,
            "margin": null,
            "display": null,
            "left": null
          }
        },
        "631a5549ea334b51beb9e509997ca1b1": {
          "model_module": "@jupyter-widgets/controls",
          "model_name": "HBoxModel",
          "state": {
            "_view_name": "HBoxView",
            "_dom_classes": [],
            "_model_name": "HBoxModel",
            "_view_module": "@jupyter-widgets/controls",
            "_model_module_version": "1.5.0",
            "_view_count": null,
            "_view_module_version": "1.5.0",
            "box_style": "",
            "layout": "IPY_MODEL_4986db70d29c4e66946e23266daa768f",
            "_model_module": "@jupyter-widgets/controls",
            "children": [
              "IPY_MODEL_f05114c06ff34638978e0c2391f30fbf",
              "IPY_MODEL_2d21118da3e94139857f2d7cb460e2b1"
            ]
          }
        },
        "4986db70d29c4e66946e23266daa768f": {
          "model_module": "@jupyter-widgets/base",
          "model_name": "LayoutModel",
          "state": {
            "_view_name": "LayoutView",
            "grid_template_rows": null,
            "right": null,
            "justify_content": null,
            "_view_module": "@jupyter-widgets/base",
            "overflow": null,
            "_model_module_version": "1.2.0",
            "_view_count": null,
            "flex_flow": null,
            "width": null,
            "min_width": null,
            "border": null,
            "align_items": null,
            "bottom": null,
            "_model_module": "@jupyter-widgets/base",
            "top": null,
            "grid_column": null,
            "overflow_y": null,
            "overflow_x": null,
            "grid_auto_flow": null,
            "grid_area": null,
            "grid_template_columns": null,
            "flex": null,
            "_model_name": "LayoutModel",
            "justify_items": null,
            "grid_row": null,
            "max_height": null,
            "align_content": null,
            "visibility": null,
            "align_self": null,
            "height": null,
            "min_height": null,
            "padding": null,
            "grid_auto_rows": null,
            "grid_gap": null,
            "max_width": null,
            "order": null,
            "_view_module_version": "1.2.0",
            "grid_template_areas": null,
            "object_position": null,
            "object_fit": null,
            "grid_auto_columns": null,
            "margin": null,
            "display": null,
            "left": null
          }
        },
        "f05114c06ff34638978e0c2391f30fbf": {
          "model_module": "@jupyter-widgets/controls",
          "model_name": "FloatProgressModel",
          "state": {
            "_view_name": "ProgressView",
            "style": "IPY_MODEL_83437e70ec5744758533abdfe8cce7ea",
            "_dom_classes": [],
            "description": "100%",
            "_model_name": "FloatProgressModel",
            "bar_style": "success",
            "max": 1000,
            "_view_module": "@jupyter-widgets/controls",
            "_model_module_version": "1.5.0",
            "value": 1000,
            "_view_count": null,
            "_view_module_version": "1.5.0",
            "orientation": "horizontal",
            "min": 0,
            "description_tooltip": null,
            "_model_module": "@jupyter-widgets/controls",
            "layout": "IPY_MODEL_41ddb3823bcd4c08a217c57fee9c7b59"
          }
        },
        "2d21118da3e94139857f2d7cb460e2b1": {
          "model_module": "@jupyter-widgets/controls",
          "model_name": "HTMLModel",
          "state": {
            "_view_name": "HTMLView",
            "style": "IPY_MODEL_27a3ca4bd1ce420b9efbae664394b99d",
            "_dom_classes": [],
            "description": "",
            "_model_name": "HTMLModel",
            "placeholder": "​",
            "_view_module": "@jupyter-widgets/controls",
            "_model_module_version": "1.5.0",
            "value": " 1000/1000 [02:14&lt;00:00,  7.46it/s]",
            "_view_count": null,
            "_view_module_version": "1.5.0",
            "description_tooltip": null,
            "_model_module": "@jupyter-widgets/controls",
            "layout": "IPY_MODEL_76b409afa0c5493bb92d4ea38fe4172b"
          }
        },
        "83437e70ec5744758533abdfe8cce7ea": {
          "model_module": "@jupyter-widgets/controls",
          "model_name": "ProgressStyleModel",
          "state": {
            "_view_name": "StyleView",
            "_model_name": "ProgressStyleModel",
            "description_width": "initial",
            "_view_module": "@jupyter-widgets/base",
            "_model_module_version": "1.5.0",
            "_view_count": null,
            "_view_module_version": "1.2.0",
            "bar_color": null,
            "_model_module": "@jupyter-widgets/controls"
          }
        },
        "41ddb3823bcd4c08a217c57fee9c7b59": {
          "model_module": "@jupyter-widgets/base",
          "model_name": "LayoutModel",
          "state": {
            "_view_name": "LayoutView",
            "grid_template_rows": null,
            "right": null,
            "justify_content": null,
            "_view_module": "@jupyter-widgets/base",
            "overflow": null,
            "_model_module_version": "1.2.0",
            "_view_count": null,
            "flex_flow": null,
            "width": null,
            "min_width": null,
            "border": null,
            "align_items": null,
            "bottom": null,
            "_model_module": "@jupyter-widgets/base",
            "top": null,
            "grid_column": null,
            "overflow_y": null,
            "overflow_x": null,
            "grid_auto_flow": null,
            "grid_area": null,
            "grid_template_columns": null,
            "flex": null,
            "_model_name": "LayoutModel",
            "justify_items": null,
            "grid_row": null,
            "max_height": null,
            "align_content": null,
            "visibility": null,
            "align_self": null,
            "height": null,
            "min_height": null,
            "padding": null,
            "grid_auto_rows": null,
            "grid_gap": null,
            "max_width": null,
            "order": null,
            "_view_module_version": "1.2.0",
            "grid_template_areas": null,
            "object_position": null,
            "object_fit": null,
            "grid_auto_columns": null,
            "margin": null,
            "display": null,
            "left": null
          }
        },
        "27a3ca4bd1ce420b9efbae664394b99d": {
          "model_module": "@jupyter-widgets/controls",
          "model_name": "DescriptionStyleModel",
          "state": {
            "_view_name": "StyleView",
            "_model_name": "DescriptionStyleModel",
            "description_width": "",
            "_view_module": "@jupyter-widgets/base",
            "_model_module_version": "1.5.0",
            "_view_count": null,
            "_view_module_version": "1.2.0",
            "_model_module": "@jupyter-widgets/controls"
          }
        },
        "76b409afa0c5493bb92d4ea38fe4172b": {
          "model_module": "@jupyter-widgets/base",
          "model_name": "LayoutModel",
          "state": {
            "_view_name": "LayoutView",
            "grid_template_rows": null,
            "right": null,
            "justify_content": null,
            "_view_module": "@jupyter-widgets/base",
            "overflow": null,
            "_model_module_version": "1.2.0",
            "_view_count": null,
            "flex_flow": null,
            "width": null,
            "min_width": null,
            "border": null,
            "align_items": null,
            "bottom": null,
            "_model_module": "@jupyter-widgets/base",
            "top": null,
            "grid_column": null,
            "overflow_y": null,
            "overflow_x": null,
            "grid_auto_flow": null,
            "grid_area": null,
            "grid_template_columns": null,
            "flex": null,
            "_model_name": "LayoutModel",
            "justify_items": null,
            "grid_row": null,
            "max_height": null,
            "align_content": null,
            "visibility": null,
            "align_self": null,
            "height": null,
            "min_height": null,
            "padding": null,
            "grid_auto_rows": null,
            "grid_gap": null,
            "max_width": null,
            "order": null,
            "_view_module_version": "1.2.0",
            "grid_template_areas": null,
            "object_position": null,
            "object_fit": null,
            "grid_auto_columns": null,
            "margin": null,
            "display": null,
            "left": null
          }
        },
        "ef3e9f4a1d794b5da1663d57937d6e59": {
          "model_module": "@jupyter-widgets/controls",
          "model_name": "HBoxModel",
          "state": {
            "_view_name": "HBoxView",
            "_dom_classes": [],
            "_model_name": "HBoxModel",
            "_view_module": "@jupyter-widgets/controls",
            "_model_module_version": "1.5.0",
            "_view_count": null,
            "_view_module_version": "1.5.0",
            "box_style": "",
            "layout": "IPY_MODEL_d13424118c5643778a097f7e335720b2",
            "_model_module": "@jupyter-widgets/controls",
            "children": [
              "IPY_MODEL_daabf9bde1684352b5eb00e2ef4e87f2",
              "IPY_MODEL_ae015b9db4824a7d9fb03dd8ea535e36"
            ]
          }
        },
        "d13424118c5643778a097f7e335720b2": {
          "model_module": "@jupyter-widgets/base",
          "model_name": "LayoutModel",
          "state": {
            "_view_name": "LayoutView",
            "grid_template_rows": null,
            "right": null,
            "justify_content": null,
            "_view_module": "@jupyter-widgets/base",
            "overflow": null,
            "_model_module_version": "1.2.0",
            "_view_count": null,
            "flex_flow": null,
            "width": null,
            "min_width": null,
            "border": null,
            "align_items": null,
            "bottom": null,
            "_model_module": "@jupyter-widgets/base",
            "top": null,
            "grid_column": null,
            "overflow_y": null,
            "overflow_x": null,
            "grid_auto_flow": null,
            "grid_area": null,
            "grid_template_columns": null,
            "flex": null,
            "_model_name": "LayoutModel",
            "justify_items": null,
            "grid_row": null,
            "max_height": null,
            "align_content": null,
            "visibility": null,
            "align_self": null,
            "height": null,
            "min_height": null,
            "padding": null,
            "grid_auto_rows": null,
            "grid_gap": null,
            "max_width": null,
            "order": null,
            "_view_module_version": "1.2.0",
            "grid_template_areas": null,
            "object_position": null,
            "object_fit": null,
            "grid_auto_columns": null,
            "margin": null,
            "display": null,
            "left": null
          }
        },
        "daabf9bde1684352b5eb00e2ef4e87f2": {
          "model_module": "@jupyter-widgets/controls",
          "model_name": "FloatProgressModel",
          "state": {
            "_view_name": "ProgressView",
            "style": "IPY_MODEL_ab8d8d1ab54747ba8a30afd94310a0cc",
            "_dom_classes": [],
            "description": "100%",
            "_model_name": "FloatProgressModel",
            "bar_style": "success",
            "max": 1000,
            "_view_module": "@jupyter-widgets/controls",
            "_model_module_version": "1.5.0",
            "value": 1000,
            "_view_count": null,
            "_view_module_version": "1.5.0",
            "orientation": "horizontal",
            "min": 0,
            "description_tooltip": null,
            "_model_module": "@jupyter-widgets/controls",
            "layout": "IPY_MODEL_80a4d8c4638e4502a15e229121d3592d"
          }
        },
        "ae015b9db4824a7d9fb03dd8ea535e36": {
          "model_module": "@jupyter-widgets/controls",
          "model_name": "HTMLModel",
          "state": {
            "_view_name": "HTMLView",
            "style": "IPY_MODEL_76eabad6dd2b4e0eb246e5a9b3e5543b",
            "_dom_classes": [],
            "description": "",
            "_model_name": "HTMLModel",
            "placeholder": "​",
            "_view_module": "@jupyter-widgets/controls",
            "_model_module_version": "1.5.0",
            "value": " 1000/1000 [02:13&lt;00:00,  7.47it/s]",
            "_view_count": null,
            "_view_module_version": "1.5.0",
            "description_tooltip": null,
            "_model_module": "@jupyter-widgets/controls",
            "layout": "IPY_MODEL_10e026a50e8b4dceb0bbc4190f4e6cdc"
          }
        },
        "ab8d8d1ab54747ba8a30afd94310a0cc": {
          "model_module": "@jupyter-widgets/controls",
          "model_name": "ProgressStyleModel",
          "state": {
            "_view_name": "StyleView",
            "_model_name": "ProgressStyleModel",
            "description_width": "initial",
            "_view_module": "@jupyter-widgets/base",
            "_model_module_version": "1.5.0",
            "_view_count": null,
            "_view_module_version": "1.2.0",
            "bar_color": null,
            "_model_module": "@jupyter-widgets/controls"
          }
        },
        "80a4d8c4638e4502a15e229121d3592d": {
          "model_module": "@jupyter-widgets/base",
          "model_name": "LayoutModel",
          "state": {
            "_view_name": "LayoutView",
            "grid_template_rows": null,
            "right": null,
            "justify_content": null,
            "_view_module": "@jupyter-widgets/base",
            "overflow": null,
            "_model_module_version": "1.2.0",
            "_view_count": null,
            "flex_flow": null,
            "width": null,
            "min_width": null,
            "border": null,
            "align_items": null,
            "bottom": null,
            "_model_module": "@jupyter-widgets/base",
            "top": null,
            "grid_column": null,
            "overflow_y": null,
            "overflow_x": null,
            "grid_auto_flow": null,
            "grid_area": null,
            "grid_template_columns": null,
            "flex": null,
            "_model_name": "LayoutModel",
            "justify_items": null,
            "grid_row": null,
            "max_height": null,
            "align_content": null,
            "visibility": null,
            "align_self": null,
            "height": null,
            "min_height": null,
            "padding": null,
            "grid_auto_rows": null,
            "grid_gap": null,
            "max_width": null,
            "order": null,
            "_view_module_version": "1.2.0",
            "grid_template_areas": null,
            "object_position": null,
            "object_fit": null,
            "grid_auto_columns": null,
            "margin": null,
            "display": null,
            "left": null
          }
        },
        "76eabad6dd2b4e0eb246e5a9b3e5543b": {
          "model_module": "@jupyter-widgets/controls",
          "model_name": "DescriptionStyleModel",
          "state": {
            "_view_name": "StyleView",
            "_model_name": "DescriptionStyleModel",
            "description_width": "",
            "_view_module": "@jupyter-widgets/base",
            "_model_module_version": "1.5.0",
            "_view_count": null,
            "_view_module_version": "1.2.0",
            "_model_module": "@jupyter-widgets/controls"
          }
        },
        "10e026a50e8b4dceb0bbc4190f4e6cdc": {
          "model_module": "@jupyter-widgets/base",
          "model_name": "LayoutModel",
          "state": {
            "_view_name": "LayoutView",
            "grid_template_rows": null,
            "right": null,
            "justify_content": null,
            "_view_module": "@jupyter-widgets/base",
            "overflow": null,
            "_model_module_version": "1.2.0",
            "_view_count": null,
            "flex_flow": null,
            "width": null,
            "min_width": null,
            "border": null,
            "align_items": null,
            "bottom": null,
            "_model_module": "@jupyter-widgets/base",
            "top": null,
            "grid_column": null,
            "overflow_y": null,
            "overflow_x": null,
            "grid_auto_flow": null,
            "grid_area": null,
            "grid_template_columns": null,
            "flex": null,
            "_model_name": "LayoutModel",
            "justify_items": null,
            "grid_row": null,
            "max_height": null,
            "align_content": null,
            "visibility": null,
            "align_self": null,
            "height": null,
            "min_height": null,
            "padding": null,
            "grid_auto_rows": null,
            "grid_gap": null,
            "max_width": null,
            "order": null,
            "_view_module_version": "1.2.0",
            "grid_template_areas": null,
            "object_position": null,
            "object_fit": null,
            "grid_auto_columns": null,
            "margin": null,
            "display": null,
            "left": null
          }
        },
        "883f5e3493b64868939838ae9e1a5da2": {
          "model_module": "@jupyter-widgets/controls",
          "model_name": "HBoxModel",
          "state": {
            "_view_name": "HBoxView",
            "_dom_classes": [],
            "_model_name": "HBoxModel",
            "_view_module": "@jupyter-widgets/controls",
            "_model_module_version": "1.5.0",
            "_view_count": null,
            "_view_module_version": "1.5.0",
            "box_style": "",
            "layout": "IPY_MODEL_72739a76f1164b60bf32f2ae0220b437",
            "_model_module": "@jupyter-widgets/controls",
            "children": [
              "IPY_MODEL_e1c5cd432d144cc2b15cdb47944927a9",
              "IPY_MODEL_6fd857d98fea44f0a2c0881ccd5913a0"
            ]
          }
        },
        "72739a76f1164b60bf32f2ae0220b437": {
          "model_module": "@jupyter-widgets/base",
          "model_name": "LayoutModel",
          "state": {
            "_view_name": "LayoutView",
            "grid_template_rows": null,
            "right": null,
            "justify_content": null,
            "_view_module": "@jupyter-widgets/base",
            "overflow": null,
            "_model_module_version": "1.2.0",
            "_view_count": null,
            "flex_flow": null,
            "width": null,
            "min_width": null,
            "border": null,
            "align_items": null,
            "bottom": null,
            "_model_module": "@jupyter-widgets/base",
            "top": null,
            "grid_column": null,
            "overflow_y": null,
            "overflow_x": null,
            "grid_auto_flow": null,
            "grid_area": null,
            "grid_template_columns": null,
            "flex": null,
            "_model_name": "LayoutModel",
            "justify_items": null,
            "grid_row": null,
            "max_height": null,
            "align_content": null,
            "visibility": null,
            "align_self": null,
            "height": null,
            "min_height": null,
            "padding": null,
            "grid_auto_rows": null,
            "grid_gap": null,
            "max_width": null,
            "order": null,
            "_view_module_version": "1.2.0",
            "grid_template_areas": null,
            "object_position": null,
            "object_fit": null,
            "grid_auto_columns": null,
            "margin": null,
            "display": null,
            "left": null
          }
        },
        "e1c5cd432d144cc2b15cdb47944927a9": {
          "model_module": "@jupyter-widgets/controls",
          "model_name": "FloatProgressModel",
          "state": {
            "_view_name": "ProgressView",
            "style": "IPY_MODEL_425f960b18d44c2aba613f6dd7e8cc0b",
            "_dom_classes": [],
            "description": "100%",
            "_model_name": "FloatProgressModel",
            "bar_style": "success",
            "max": 1000,
            "_view_module": "@jupyter-widgets/controls",
            "_model_module_version": "1.5.0",
            "value": 1000,
            "_view_count": null,
            "_view_module_version": "1.5.0",
            "orientation": "horizontal",
            "min": 0,
            "description_tooltip": null,
            "_model_module": "@jupyter-widgets/controls",
            "layout": "IPY_MODEL_8d4c46b2e86d457b83e669fe44246823"
          }
        },
        "6fd857d98fea44f0a2c0881ccd5913a0": {
          "model_module": "@jupyter-widgets/controls",
          "model_name": "HTMLModel",
          "state": {
            "_view_name": "HTMLView",
            "style": "IPY_MODEL_ca1d23cf85e9431895904f6979f2c732",
            "_dom_classes": [],
            "description": "",
            "_model_name": "HTMLModel",
            "placeholder": "​",
            "_view_module": "@jupyter-widgets/controls",
            "_model_module_version": "1.5.0",
            "value": " 1000/1000 [02:14&lt;00:00,  7.46it/s]",
            "_view_count": null,
            "_view_module_version": "1.5.0",
            "description_tooltip": null,
            "_model_module": "@jupyter-widgets/controls",
            "layout": "IPY_MODEL_94fbd13c0d1b49aa9101c57e080e0981"
          }
        },
        "425f960b18d44c2aba613f6dd7e8cc0b": {
          "model_module": "@jupyter-widgets/controls",
          "model_name": "ProgressStyleModel",
          "state": {
            "_view_name": "StyleView",
            "_model_name": "ProgressStyleModel",
            "description_width": "initial",
            "_view_module": "@jupyter-widgets/base",
            "_model_module_version": "1.5.0",
            "_view_count": null,
            "_view_module_version": "1.2.0",
            "bar_color": null,
            "_model_module": "@jupyter-widgets/controls"
          }
        },
        "8d4c46b2e86d457b83e669fe44246823": {
          "model_module": "@jupyter-widgets/base",
          "model_name": "LayoutModel",
          "state": {
            "_view_name": "LayoutView",
            "grid_template_rows": null,
            "right": null,
            "justify_content": null,
            "_view_module": "@jupyter-widgets/base",
            "overflow": null,
            "_model_module_version": "1.2.0",
            "_view_count": null,
            "flex_flow": null,
            "width": null,
            "min_width": null,
            "border": null,
            "align_items": null,
            "bottom": null,
            "_model_module": "@jupyter-widgets/base",
            "top": null,
            "grid_column": null,
            "overflow_y": null,
            "overflow_x": null,
            "grid_auto_flow": null,
            "grid_area": null,
            "grid_template_columns": null,
            "flex": null,
            "_model_name": "LayoutModel",
            "justify_items": null,
            "grid_row": null,
            "max_height": null,
            "align_content": null,
            "visibility": null,
            "align_self": null,
            "height": null,
            "min_height": null,
            "padding": null,
            "grid_auto_rows": null,
            "grid_gap": null,
            "max_width": null,
            "order": null,
            "_view_module_version": "1.2.0",
            "grid_template_areas": null,
            "object_position": null,
            "object_fit": null,
            "grid_auto_columns": null,
            "margin": null,
            "display": null,
            "left": null
          }
        },
        "ca1d23cf85e9431895904f6979f2c732": {
          "model_module": "@jupyter-widgets/controls",
          "model_name": "DescriptionStyleModel",
          "state": {
            "_view_name": "StyleView",
            "_model_name": "DescriptionStyleModel",
            "description_width": "",
            "_view_module": "@jupyter-widgets/base",
            "_model_module_version": "1.5.0",
            "_view_count": null,
            "_view_module_version": "1.2.0",
            "_model_module": "@jupyter-widgets/controls"
          }
        },
        "94fbd13c0d1b49aa9101c57e080e0981": {
          "model_module": "@jupyter-widgets/base",
          "model_name": "LayoutModel",
          "state": {
            "_view_name": "LayoutView",
            "grid_template_rows": null,
            "right": null,
            "justify_content": null,
            "_view_module": "@jupyter-widgets/base",
            "overflow": null,
            "_model_module_version": "1.2.0",
            "_view_count": null,
            "flex_flow": null,
            "width": null,
            "min_width": null,
            "border": null,
            "align_items": null,
            "bottom": null,
            "_model_module": "@jupyter-widgets/base",
            "top": null,
            "grid_column": null,
            "overflow_y": null,
            "overflow_x": null,
            "grid_auto_flow": null,
            "grid_area": null,
            "grid_template_columns": null,
            "flex": null,
            "_model_name": "LayoutModel",
            "justify_items": null,
            "grid_row": null,
            "max_height": null,
            "align_content": null,
            "visibility": null,
            "align_self": null,
            "height": null,
            "min_height": null,
            "padding": null,
            "grid_auto_rows": null,
            "grid_gap": null,
            "max_width": null,
            "order": null,
            "_view_module_version": "1.2.0",
            "grid_template_areas": null,
            "object_position": null,
            "object_fit": null,
            "grid_auto_columns": null,
            "margin": null,
            "display": null,
            "left": null
          }
        }
      }
    },
    "accelerator": "GPU"
  },
  "cells": [
    {
      "cell_type": "markdown",
      "metadata": {
        "id": "H7LoMj4GA4n_"
      },
      "source": [
        "#  aitextgen — Train a GPT-2 Text-Generating Model w/ GPU\n",
        "\n",
        "by [Max Woolf](https://minimaxir.com)\n",
        "\n",
        "*Last updated: Jul 5th, 2020*\n",
        "\n",
        "Retrain an advanced text generating neural network on any text dataset **for free on a GPU using Colaboratory** using `aitextgen`!\n",
        "\n",
        "For more about `aitextgen`, you can visit [this GitHub repository](https://github.com/minimaxir/aitextgen) or [read the documentation](https://docs.aitextgen.io/).\n",
        "\n",
        "\n",
        "To get started:\n",
        "\n",
        "1. Copy this notebook to your Google Drive to keep it and save your changes. (File -> Save a Copy in Drive)\n",
        "2. Run the cells below:\n"
      ]
    },
    {
      "cell_type": "code",
      "metadata": {
        "id": "KBkpRgBCBS2_",
        "colab": {
          "base_uri": "https://localhost:8080/"
        },
        "outputId": "006fcd71-9576-42fb-f0df-6c05de5163f5"
      },
      "source": [
        "!pip install -q aitextgen\n",
        "\n",
        "import logging\n",
        "logging.basicConfig(\n",
        "        format=\"%(asctime)s — %(levelname)s — %(name)s — %(message)s\",\n",
        "        datefmt=\"%m/%d/%Y %H:%M:%S\",\n",
        "        level=logging.INFO\n",
        "    )\n",
        "\n",
        "from aitextgen import aitextgen\n",
        "from aitextgen.colab import mount_gdrive, copy_file_from_gdrive"
      ],
      "execution_count": null,
      "outputs": [
        {
          "output_type": "stream",
          "text": [
            "\u001b[K     |████████████████████████████████| 573kB 7.5MB/s \n",
            "\u001b[K     |████████████████████████████████| 1.5MB 18.7MB/s \n",
            "\u001b[K     |████████████████████████████████| 81kB 9.9MB/s \n",
            "\u001b[K     |████████████████████████████████| 686kB 46.5MB/s \n",
            "\u001b[K     |████████████████████████████████| 2.9MB 40.4MB/s \n",
            "\u001b[K     |████████████████████████████████| 890kB 47.1MB/s \n",
            "\u001b[K     |████████████████████████████████| 102kB 10.7MB/s \n",
            "\u001b[K     |████████████████████████████████| 276kB 41.9MB/s \n",
            "\u001b[K     |████████████████████████████████| 829kB 44.9MB/s \n",
            "\u001b[K     |████████████████████████████████| 1.3MB 42.8MB/s \n",
            "\u001b[K     |████████████████████████████████| 143kB 45.6MB/s \n",
            "\u001b[K     |████████████████████████████████| 296kB 40.5MB/s \n",
            "\u001b[?25h  Building wheel for aitextgen (setup.py) ... \u001b[?25l\u001b[?25hdone\n",
            "  Building wheel for fire (setup.py) ... \u001b[?25l\u001b[?25hdone\n",
            "  Building wheel for sacremoses (setup.py) ... \u001b[?25l\u001b[?25hdone\n",
            "  Building wheel for PyYAML (setup.py) ... \u001b[?25l\u001b[?25hdone\n",
            "  Building wheel for future (setup.py) ... \u001b[?25l\u001b[?25hdone\n",
            "  Building wheel for idna-ssl (setup.py) ... \u001b[?25l\u001b[?25hdone\n"
          ],
          "name": "stdout"
        }
      ]
    },
    {
      "cell_type": "markdown",
      "metadata": {
        "id": "Bj2IJLHP3KwE"
      },
      "source": [
        "## GPU\n",
        "\n",
        "Colaboratory uses a Nvidia P4, an Nvidia T4, or an Nvidia P100 GPU. For finetuning GPT-2 124M, any of these GPUs will be fine, but for text generation, a T4 or a P100 is ideal since they have more VRAM.\n",
        "\n",
        "You can verify which GPU is active by running the cell below. If you want to try for a different GPU, go to **Runtime -> Factory Reset Runtime**."
      ]
    },
    {
      "cell_type": "code",
      "metadata": {
        "id": "sUmTooTW3osf",
        "colab": {
          "base_uri": "https://localhost:8080/"
        },
        "outputId": "8c318d93-3135-4657-aa2b-180b34b208af"
      },
      "source": [
        "!nvidia-smi"
      ],
      "execution_count": null,
      "outputs": [
        {
          "output_type": "stream",
          "text": [
            "Mon Jan 11 14:18:09 2021       \n",
            "+-----------------------------------------------------------------------------+\n",
            "| NVIDIA-SMI 460.27.04    Driver Version: 418.67       CUDA Version: 10.1     |\n",
            "|-------------------------------+----------------------+----------------------+\n",
            "| GPU  Name        Persistence-M| Bus-Id        Disp.A | Volatile Uncorr. ECC |\n",
            "| Fan  Temp  Perf  Pwr:Usage/Cap|         Memory-Usage | GPU-Util  Compute M. |\n",
            "|                               |                      |               MIG M. |\n",
            "|===============================+======================+======================|\n",
            "|   0  Tesla K80           Off  | 00000000:00:04.0 Off |                    0 |\n",
            "| N/A   35C    P8    28W / 149W |      0MiB / 11441MiB |      0%      Default |\n",
            "|                               |                      |                 ERR! |\n",
            "+-------------------------------+----------------------+----------------------+\n",
            "                                                                               \n",
            "+-----------------------------------------------------------------------------+\n",
            "| Processes:                                                                  |\n",
            "|  GPU   GI   CI        PID   Type   Process name                  GPU Memory |\n",
            "|        ID   ID                                                   Usage      |\n",
            "|=============================================================================|\n",
            "|  No running processes found                                                 |\n",
            "+-----------------------------------------------------------------------------+\n"
          ],
          "name": "stdout"
        }
      ]
    },
    {
      "cell_type": "markdown",
      "metadata": {
        "id": "trRhgNvsH4Wn"
      },
      "source": [
        "## Loading GPT-2\n",
        "\n",
        "If you're retraining a model on new text, you need to download and load the GPT-2 model into the GPU. \n",
        "\n",
        "There are several sizes of GPT-2: currently, aitextgen only works with the smallest one:\n",
        "\n",
        "* `124M` (default): the \"small\" model, 500MB on disk.\n",
        "\n",
        "The next cell downloads it from Google's servers and saves it in the Colaboratory VM. If the model has already been downloaded, running this cell will reload it."
      ]
    },
    {
      "cell_type": "code",
      "metadata": {
        "id": "flqSlHjMIeIw",
        "colab": {
          "base_uri": "https://localhost:8080/",
          "height": 1000,
          "referenced_widgets": [
            "5de335d137f940b8a01799a1bea45b3a",
            "9244d9a5a35f4265aa5040f13729fcb3",
            "b82895c8891b4a8cba5b9a29071fd9b0",
            "5336cc02a34848b1ada089e8efbf6fa9",
            "528c88fbd83142f09fa86ad50e73b534",
            "c7f6eaf9f10447b39d5477511c0cd291",
            "784ef301d7924c1f9c4111fdc6870c47",
            "26c9a1c39a2f4e3da2650fe950fe51de",
            "a33106f826f1491db9386c2f97f8a986",
            "1cd8a6b1f40e46a7b3fa3318fde24f4f",
            "4f65e86336444e1b8e57d1772f86ca9a",
            "a2f553e2b79946f1897ff4ce9a92f2e3",
            "6da851080d1f4d9582b2c89b035d18ce",
            "f8bb833600ab4cac8c65a6e5e4bafac6",
            "946a5722b6e54fc0866bb326c1eb0693",
            "ca20492cc382456c9e727d6158fca266",
            "cdefc7d6b1ab43939ff933afc9579398",
            "f54bbcc313014d3392c27e1685df026b",
            "37ebd5287f1246bd89ef6c58e603e0f8",
            "fce3a906eea146fe8e040ffd26705615",
            "5a8e6a0aa40d42edb7b472eb7caf97d2",
            "76ea5cdf6e584f1ca14f3ec885ec3cb2",
            "555bebdea59f4eb2bb6d07578bac98a4",
            "c165ed675b214eb9ad173fa7e6e263c2",
            "4834c681689948818b5d879c62d6a5b5",
            "d3b027b9e4324deeadd0c91c771ff41d",
            "18bb9c00a3214bda992381c880845424",
            "0b81aad19bcb4f05bcf47e8f3d392746",
            "0396e8bd43c449fe8644346a836787f5",
            "47a8d3f7a9b54f7983dc7342b2499294",
            "ed74977f3ecc4f72894a560d7eb37a48",
            "6e46b4e9bfee48c8899e360456ea42a5",
            "4958b7fad8bd423b8ba6877ba0c66fc3",
            "2849faab6c5a455ab3e804bd1b7bdf00",
            "b4957c4151ad48d891b774ed7c9264e3",
            "c44f152cfea04a3fa8ebdf2ce03224b2",
            "311a9f36ee32475b9da18b50e253960a",
            "4aaa255c374f4dceb776f2b6a2596c1c",
            "79ed335e101041898fa09b69288501d0",
            "555240a4a48b4a9ba950832d060486c4"
          ]
        },
        "outputId": "9edd0cec-e011-4319-e643-16b8d6928705"
      },
      "source": [
        "ai = aitextgen(tf_gpt2=\"124M\", to_gpu=True)"
      ],
      "execution_count": null,
      "outputs": [
        {
          "output_type": "stream",
          "text": [
            "01/11/2021 14:18:47 — INFO — aitextgen — Downloading the 124M GPT-2 TensorFlow weights/config from Google's servers\n"
          ],
          "name": "stderr"
        },
        {
          "output_type": "display_data",
          "data": {
            "application/vnd.jupyter.widget-view+json": {
              "model_id": "5de335d137f940b8a01799a1bea45b3a",
              "version_minor": 0,
              "version_major": 2
            },
            "text/plain": [
              "HBox(children=(FloatProgress(value=0.0, description='Fetching checkpoint', max=77.0, style=ProgressStyle(descr…"
            ]
          },
          "metadata": {
            "tags": []
          }
        },
        {
          "output_type": "stream",
          "text": [
            "\n"
          ],
          "name": "stdout"
        },
        {
          "output_type": "display_data",
          "data": {
            "application/vnd.jupyter.widget-view+json": {
              "model_id": "a33106f826f1491db9386c2f97f8a986",
              "version_minor": 0,
              "version_major": 2
            },
            "text/plain": [
              "HBox(children=(FloatProgress(value=0.0, description='Fetching hparams.json', max=90.0, style=ProgressStyle(des…"
            ]
          },
          "metadata": {
            "tags": []
          }
        },
        {
          "output_type": "stream",
          "text": [
            "\n"
          ],
          "name": "stdout"
        },
        {
          "output_type": "display_data",
          "data": {
            "application/vnd.jupyter.widget-view+json": {
              "model_id": "cdefc7d6b1ab43939ff933afc9579398",
              "version_minor": 0,
              "version_major": 2
            },
            "text/plain": [
              "HBox(children=(FloatProgress(value=0.0, description='Fetching model.ckpt.data-00000-of-00001', max=497759232.0…"
            ]
          },
          "metadata": {
            "tags": []
          }
        },
        {
          "output_type": "stream",
          "text": [
            "\n"
          ],
          "name": "stdout"
        },
        {
          "output_type": "display_data",
          "data": {
            "application/vnd.jupyter.widget-view+json": {
              "model_id": "4834c681689948818b5d879c62d6a5b5",
              "version_minor": 0,
              "version_major": 2
            },
            "text/plain": [
              "HBox(children=(FloatProgress(value=0.0, description='Fetching model.ckpt.index', max=5215.0, style=ProgressSty…"
            ]
          },
          "metadata": {
            "tags": []
          }
        },
        {
          "output_type": "stream",
          "text": [
            "\n"
          ],
          "name": "stdout"
        },
        {
          "output_type": "display_data",
          "data": {
            "application/vnd.jupyter.widget-view+json": {
              "model_id": "4958b7fad8bd423b8ba6877ba0c66fc3",
              "version_minor": 0,
              "version_major": 2
            },
            "text/plain": [
              "HBox(children=(FloatProgress(value=0.0, description='Fetching model.ckpt.meta', max=471155.0, style=ProgressSt…"
            ]
          },
          "metadata": {
            "tags": []
          }
        },
        {
          "output_type": "stream",
          "text": [
            "01/11/2021 14:18:54 — INFO — aitextgen — Converting the 124M GPT-2 TensorFlow weights to PyTorch.\n"
          ],
          "name": "stderr"
        },
        {
          "output_type": "stream",
          "text": [
            "\n"
          ],
          "name": "stdout"
        },
        {
          "output_type": "stream",
          "text": [
            "Converting TensorFlow checkpoint from /content/aitextgen/124M\n",
            "Loading TF weight model/h0/attn/c_attn/b with shape [2304]\n",
            "Loading TF weight model/h0/attn/c_attn/w with shape [1, 768, 2304]\n",
            "Loading TF weight model/h0/attn/c_proj/b with shape [768]\n",
            "Loading TF weight model/h0/attn/c_proj/w with shape [1, 768, 768]\n",
            "Loading TF weight model/h0/ln_1/b with shape [768]\n",
            "Loading TF weight model/h0/ln_1/g with shape [768]\n",
            "Loading TF weight model/h0/ln_2/b with shape [768]\n",
            "Loading TF weight model/h0/ln_2/g with shape [768]\n",
            "Loading TF weight model/h0/mlp/c_fc/b with shape [3072]\n",
            "Loading TF weight model/h0/mlp/c_fc/w with shape [1, 768, 3072]\n",
            "Loading TF weight model/h0/mlp/c_proj/b with shape [768]\n",
            "Loading TF weight model/h0/mlp/c_proj/w with shape [1, 3072, 768]\n",
            "Loading TF weight model/h1/attn/c_attn/b with shape [2304]\n",
            "Loading TF weight model/h1/attn/c_attn/w with shape [1, 768, 2304]\n",
            "Loading TF weight model/h1/attn/c_proj/b with shape [768]\n",
            "Loading TF weight model/h1/attn/c_proj/w with shape [1, 768, 768]\n",
            "Loading TF weight model/h1/ln_1/b with shape [768]\n",
            "Loading TF weight model/h1/ln_1/g with shape [768]\n",
            "Loading TF weight model/h1/ln_2/b with shape [768]\n",
            "Loading TF weight model/h1/ln_2/g with shape [768]\n",
            "Loading TF weight model/h1/mlp/c_fc/b with shape [3072]\n",
            "Loading TF weight model/h1/mlp/c_fc/w with shape [1, 768, 3072]\n",
            "Loading TF weight model/h1/mlp/c_proj/b with shape [768]\n",
            "Loading TF weight model/h1/mlp/c_proj/w with shape [1, 3072, 768]\n",
            "Loading TF weight model/h10/attn/c_attn/b with shape [2304]\n",
            "Loading TF weight model/h10/attn/c_attn/w with shape [1, 768, 2304]\n",
            "Loading TF weight model/h10/attn/c_proj/b with shape [768]\n",
            "Loading TF weight model/h10/attn/c_proj/w with shape [1, 768, 768]\n",
            "Loading TF weight model/h10/ln_1/b with shape [768]\n",
            "Loading TF weight model/h10/ln_1/g with shape [768]\n",
            "Loading TF weight model/h10/ln_2/b with shape [768]\n",
            "Loading TF weight model/h10/ln_2/g with shape [768]\n",
            "Loading TF weight model/h10/mlp/c_fc/b with shape [3072]\n",
            "Loading TF weight model/h10/mlp/c_fc/w with shape [1, 768, 3072]\n",
            "Loading TF weight model/h10/mlp/c_proj/b with shape [768]\n",
            "Loading TF weight model/h10/mlp/c_proj/w with shape [1, 3072, 768]\n",
            "Loading TF weight model/h11/attn/c_attn/b with shape [2304]\n",
            "Loading TF weight model/h11/attn/c_attn/w with shape [1, 768, 2304]\n",
            "Loading TF weight model/h11/attn/c_proj/b with shape [768]\n",
            "Loading TF weight model/h11/attn/c_proj/w with shape [1, 768, 768]\n",
            "Loading TF weight model/h11/ln_1/b with shape [768]\n",
            "Loading TF weight model/h11/ln_1/g with shape [768]\n",
            "Loading TF weight model/h11/ln_2/b with shape [768]\n",
            "Loading TF weight model/h11/ln_2/g with shape [768]\n",
            "Loading TF weight model/h11/mlp/c_fc/b with shape [3072]\n",
            "Loading TF weight model/h11/mlp/c_fc/w with shape [1, 768, 3072]\n",
            "Loading TF weight model/h11/mlp/c_proj/b with shape [768]\n",
            "Loading TF weight model/h11/mlp/c_proj/w with shape [1, 3072, 768]\n",
            "Loading TF weight model/h2/attn/c_attn/b with shape [2304]\n",
            "Loading TF weight model/h2/attn/c_attn/w with shape [1, 768, 2304]\n",
            "Loading TF weight model/h2/attn/c_proj/b with shape [768]\n",
            "Loading TF weight model/h2/attn/c_proj/w with shape [1, 768, 768]\n",
            "Loading TF weight model/h2/ln_1/b with shape [768]\n",
            "Loading TF weight model/h2/ln_1/g with shape [768]\n",
            "Loading TF weight model/h2/ln_2/b with shape [768]\n",
            "Loading TF weight model/h2/ln_2/g with shape [768]\n",
            "Loading TF weight model/h2/mlp/c_fc/b with shape [3072]\n",
            "Loading TF weight model/h2/mlp/c_fc/w with shape [1, 768, 3072]\n",
            "Loading TF weight model/h2/mlp/c_proj/b with shape [768]\n",
            "Loading TF weight model/h2/mlp/c_proj/w with shape [1, 3072, 768]\n",
            "Loading TF weight model/h3/attn/c_attn/b with shape [2304]\n",
            "Loading TF weight model/h3/attn/c_attn/w with shape [1, 768, 2304]\n",
            "Loading TF weight model/h3/attn/c_proj/b with shape [768]\n",
            "Loading TF weight model/h3/attn/c_proj/w with shape [1, 768, 768]\n",
            "Loading TF weight model/h3/ln_1/b with shape [768]\n",
            "Loading TF weight model/h3/ln_1/g with shape [768]\n",
            "Loading TF weight model/h3/ln_2/b with shape [768]\n",
            "Loading TF weight model/h3/ln_2/g with shape [768]\n",
            "Loading TF weight model/h3/mlp/c_fc/b with shape [3072]\n",
            "Loading TF weight model/h3/mlp/c_fc/w with shape [1, 768, 3072]\n",
            "Loading TF weight model/h3/mlp/c_proj/b with shape [768]\n",
            "Loading TF weight model/h3/mlp/c_proj/w with shape [1, 3072, 768]\n",
            "Loading TF weight model/h4/attn/c_attn/b with shape [2304]\n",
            "Loading TF weight model/h4/attn/c_attn/w with shape [1, 768, 2304]\n",
            "Loading TF weight model/h4/attn/c_proj/b with shape [768]\n",
            "Loading TF weight model/h4/attn/c_proj/w with shape [1, 768, 768]\n",
            "Loading TF weight model/h4/ln_1/b with shape [768]\n",
            "Loading TF weight model/h4/ln_1/g with shape [768]\n",
            "Loading TF weight model/h4/ln_2/b with shape [768]\n",
            "Loading TF weight model/h4/ln_2/g with shape [768]\n",
            "Loading TF weight model/h4/mlp/c_fc/b with shape [3072]\n",
            "Loading TF weight model/h4/mlp/c_fc/w with shape [1, 768, 3072]\n",
            "Loading TF weight model/h4/mlp/c_proj/b with shape [768]\n",
            "Loading TF weight model/h4/mlp/c_proj/w with shape [1, 3072, 768]\n",
            "Loading TF weight model/h5/attn/c_attn/b with shape [2304]\n",
            "Loading TF weight model/h5/attn/c_attn/w with shape [1, 768, 2304]\n",
            "Loading TF weight model/h5/attn/c_proj/b with shape [768]\n",
            "Loading TF weight model/h5/attn/c_proj/w with shape [1, 768, 768]\n",
            "Loading TF weight model/h5/ln_1/b with shape [768]\n",
            "Loading TF weight model/h5/ln_1/g with shape [768]\n",
            "Loading TF weight model/h5/ln_2/b with shape [768]\n",
            "Loading TF weight model/h5/ln_2/g with shape [768]\n",
            "Loading TF weight model/h5/mlp/c_fc/b with shape [3072]\n",
            "Loading TF weight model/h5/mlp/c_fc/w with shape [1, 768, 3072]\n",
            "Loading TF weight model/h5/mlp/c_proj/b with shape [768]\n",
            "Loading TF weight model/h5/mlp/c_proj/w with shape [1, 3072, 768]\n",
            "Loading TF weight model/h6/attn/c_attn/b with shape [2304]\n",
            "Loading TF weight model/h6/attn/c_attn/w with shape [1, 768, 2304]\n",
            "Loading TF weight model/h6/attn/c_proj/b with shape [768]\n",
            "Loading TF weight model/h6/attn/c_proj/w with shape [1, 768, 768]\n",
            "Loading TF weight model/h6/ln_1/b with shape [768]\n",
            "Loading TF weight model/h6/ln_1/g with shape [768]\n",
            "Loading TF weight model/h6/ln_2/b with shape [768]\n",
            "Loading TF weight model/h6/ln_2/g with shape [768]\n",
            "Loading TF weight model/h6/mlp/c_fc/b with shape [3072]\n",
            "Loading TF weight model/h6/mlp/c_fc/w with shape [1, 768, 3072]\n",
            "Loading TF weight model/h6/mlp/c_proj/b with shape [768]\n",
            "Loading TF weight model/h6/mlp/c_proj/w with shape [1, 3072, 768]\n",
            "Loading TF weight model/h7/attn/c_attn/b with shape [2304]\n",
            "Loading TF weight model/h7/attn/c_attn/w with shape [1, 768, 2304]\n",
            "Loading TF weight model/h7/attn/c_proj/b with shape [768]\n",
            "Loading TF weight model/h7/attn/c_proj/w with shape [1, 768, 768]\n",
            "Loading TF weight model/h7/ln_1/b with shape [768]\n",
            "Loading TF weight model/h7/ln_1/g with shape [768]\n",
            "Loading TF weight model/h7/ln_2/b with shape [768]\n",
            "Loading TF weight model/h7/ln_2/g with shape [768]\n",
            "Loading TF weight model/h7/mlp/c_fc/b with shape [3072]\n",
            "Loading TF weight model/h7/mlp/c_fc/w with shape [1, 768, 3072]\n",
            "Loading TF weight model/h7/mlp/c_proj/b with shape [768]\n",
            "Loading TF weight model/h7/mlp/c_proj/w with shape [1, 3072, 768]\n",
            "Loading TF weight model/h8/attn/c_attn/b with shape [2304]\n",
            "Loading TF weight model/h8/attn/c_attn/w with shape [1, 768, 2304]\n",
            "Loading TF weight model/h8/attn/c_proj/b with shape [768]\n",
            "Loading TF weight model/h8/attn/c_proj/w with shape [1, 768, 768]\n",
            "Loading TF weight model/h8/ln_1/b with shape [768]\n",
            "Loading TF weight model/h8/ln_1/g with shape [768]\n",
            "Loading TF weight model/h8/ln_2/b with shape [768]\n",
            "Loading TF weight model/h8/ln_2/g with shape [768]\n",
            "Loading TF weight model/h8/mlp/c_fc/b with shape [3072]\n",
            "Loading TF weight model/h8/mlp/c_fc/w with shape [1, 768, 3072]\n",
            "Loading TF weight model/h8/mlp/c_proj/b with shape [768]\n",
            "Loading TF weight model/h8/mlp/c_proj/w with shape [1, 3072, 768]\n",
            "Loading TF weight model/h9/attn/c_attn/b with shape [2304]\n",
            "Loading TF weight model/h9/attn/c_attn/w with shape [1, 768, 2304]\n",
            "Loading TF weight model/h9/attn/c_proj/b with shape [768]\n",
            "Loading TF weight model/h9/attn/c_proj/w with shape [1, 768, 768]\n",
            "Loading TF weight model/h9/ln_1/b with shape [768]\n",
            "Loading TF weight model/h9/ln_1/g with shape [768]\n",
            "Loading TF weight model/h9/ln_2/b with shape [768]\n",
            "Loading TF weight model/h9/ln_2/g with shape [768]\n",
            "Loading TF weight model/h9/mlp/c_fc/b with shape [3072]\n",
            "Loading TF weight model/h9/mlp/c_fc/w with shape [1, 768, 3072]\n",
            "Loading TF weight model/h9/mlp/c_proj/b with shape [768]\n",
            "Loading TF weight model/h9/mlp/c_proj/w with shape [1, 3072, 768]\n",
            "Loading TF weight model/ln_f/b with shape [768]\n",
            "Loading TF weight model/ln_f/g with shape [768]\n",
            "Loading TF weight model/wpe with shape [1024, 768]\n",
            "Loading TF weight model/wte with shape [50257, 768]\n",
            "Initialize PyTorch weight ['h0', 'attn', 'c_attn', 'b']\n",
            "Initialize PyTorch weight ['h0', 'attn', 'c_attn', 'w']\n",
            "Initialize PyTorch weight ['h0', 'attn', 'c_proj', 'b']\n",
            "Initialize PyTorch weight ['h0', 'attn', 'c_proj', 'w']\n",
            "Initialize PyTorch weight ['h0', 'ln_1', 'b']\n",
            "Initialize PyTorch weight ['h0', 'ln_1', 'g']\n",
            "Initialize PyTorch weight ['h0', 'ln_2', 'b']\n",
            "Initialize PyTorch weight ['h0', 'ln_2', 'g']\n",
            "Initialize PyTorch weight ['h0', 'mlp', 'c_fc', 'b']\n",
            "Initialize PyTorch weight ['h0', 'mlp', 'c_fc', 'w']\n",
            "Initialize PyTorch weight ['h0', 'mlp', 'c_proj', 'b']\n",
            "Initialize PyTorch weight ['h0', 'mlp', 'c_proj', 'w']\n",
            "Initialize PyTorch weight ['h1', 'attn', 'c_attn', 'b']\n",
            "Initialize PyTorch weight ['h1', 'attn', 'c_attn', 'w']\n",
            "Initialize PyTorch weight ['h1', 'attn', 'c_proj', 'b']\n",
            "Initialize PyTorch weight ['h1', 'attn', 'c_proj', 'w']\n",
            "Initialize PyTorch weight ['h1', 'ln_1', 'b']\n",
            "Initialize PyTorch weight ['h1', 'ln_1', 'g']\n",
            "Initialize PyTorch weight ['h1', 'ln_2', 'b']\n",
            "Initialize PyTorch weight ['h1', 'ln_2', 'g']\n",
            "Initialize PyTorch weight ['h1', 'mlp', 'c_fc', 'b']\n",
            "Initialize PyTorch weight ['h1', 'mlp', 'c_fc', 'w']\n",
            "Initialize PyTorch weight ['h1', 'mlp', 'c_proj', 'b']\n",
            "Initialize PyTorch weight ['h1', 'mlp', 'c_proj', 'w']\n",
            "Initialize PyTorch weight ['h10', 'attn', 'c_attn', 'b']\n",
            "Initialize PyTorch weight ['h10', 'attn', 'c_attn', 'w']\n",
            "Initialize PyTorch weight ['h10', 'attn', 'c_proj', 'b']\n",
            "Initialize PyTorch weight ['h10', 'attn', 'c_proj', 'w']\n",
            "Initialize PyTorch weight ['h10', 'ln_1', 'b']\n",
            "Initialize PyTorch weight ['h10', 'ln_1', 'g']\n",
            "Initialize PyTorch weight ['h10', 'ln_2', 'b']\n",
            "Initialize PyTorch weight ['h10', 'ln_2', 'g']\n",
            "Initialize PyTorch weight ['h10', 'mlp', 'c_fc', 'b']\n",
            "Initialize PyTorch weight ['h10', 'mlp', 'c_fc', 'w']\n",
            "Initialize PyTorch weight ['h10', 'mlp', 'c_proj', 'b']\n",
            "Initialize PyTorch weight ['h10', 'mlp', 'c_proj', 'w']\n",
            "Initialize PyTorch weight ['h11', 'attn', 'c_attn', 'b']\n",
            "Initialize PyTorch weight ['h11', 'attn', 'c_attn', 'w']\n",
            "Initialize PyTorch weight ['h11', 'attn', 'c_proj', 'b']\n",
            "Initialize PyTorch weight ['h11', 'attn', 'c_proj', 'w']\n",
            "Initialize PyTorch weight ['h11', 'ln_1', 'b']\n",
            "Initialize PyTorch weight ['h11', 'ln_1', 'g']\n",
            "Initialize PyTorch weight ['h11', 'ln_2', 'b']\n",
            "Initialize PyTorch weight ['h11', 'ln_2', 'g']\n",
            "Initialize PyTorch weight ['h11', 'mlp', 'c_fc', 'b']\n",
            "Initialize PyTorch weight ['h11', 'mlp', 'c_fc', 'w']\n",
            "Initialize PyTorch weight ['h11', 'mlp', 'c_proj', 'b']\n",
            "Initialize PyTorch weight ['h11', 'mlp', 'c_proj', 'w']\n",
            "Initialize PyTorch weight ['h2', 'attn', 'c_attn', 'b']\n",
            "Initialize PyTorch weight ['h2', 'attn', 'c_attn', 'w']\n",
            "Initialize PyTorch weight ['h2', 'attn', 'c_proj', 'b']\n",
            "Initialize PyTorch weight ['h2', 'attn', 'c_proj', 'w']\n",
            "Initialize PyTorch weight ['h2', 'ln_1', 'b']\n",
            "Initialize PyTorch weight ['h2', 'ln_1', 'g']\n",
            "Initialize PyTorch weight ['h2', 'ln_2', 'b']\n",
            "Initialize PyTorch weight ['h2', 'ln_2', 'g']\n",
            "Initialize PyTorch weight ['h2', 'mlp', 'c_fc', 'b']\n",
            "Initialize PyTorch weight ['h2', 'mlp', 'c_fc', 'w']\n",
            "Initialize PyTorch weight ['h2', 'mlp', 'c_proj', 'b']\n",
            "Initialize PyTorch weight ['h2', 'mlp', 'c_proj', 'w']\n",
            "Initialize PyTorch weight ['h3', 'attn', 'c_attn', 'b']\n",
            "Initialize PyTorch weight ['h3', 'attn', 'c_attn', 'w']\n",
            "Initialize PyTorch weight ['h3', 'attn', 'c_proj', 'b']\n",
            "Initialize PyTorch weight ['h3', 'attn', 'c_proj', 'w']\n",
            "Initialize PyTorch weight ['h3', 'ln_1', 'b']\n",
            "Initialize PyTorch weight ['h3', 'ln_1', 'g']\n",
            "Initialize PyTorch weight ['h3', 'ln_2', 'b']\n",
            "Initialize PyTorch weight ['h3', 'ln_2', 'g']\n",
            "Initialize PyTorch weight ['h3', 'mlp', 'c_fc', 'b']\n",
            "Initialize PyTorch weight ['h3', 'mlp', 'c_fc', 'w']\n",
            "Initialize PyTorch weight ['h3', 'mlp', 'c_proj', 'b']\n",
            "Initialize PyTorch weight ['h3', 'mlp', 'c_proj', 'w']\n",
            "Initialize PyTorch weight ['h4', 'attn', 'c_attn', 'b']\n",
            "Initialize PyTorch weight ['h4', 'attn', 'c_attn', 'w']\n",
            "Initialize PyTorch weight ['h4', 'attn', 'c_proj', 'b']\n",
            "Initialize PyTorch weight ['h4', 'attn', 'c_proj', 'w']\n",
            "Initialize PyTorch weight ['h4', 'ln_1', 'b']\n",
            "Initialize PyTorch weight ['h4', 'ln_1', 'g']\n",
            "Initialize PyTorch weight ['h4', 'ln_2', 'b']\n",
            "Initialize PyTorch weight ['h4', 'ln_2', 'g']\n",
            "Initialize PyTorch weight ['h4', 'mlp', 'c_fc', 'b']\n",
            "Initialize PyTorch weight ['h4', 'mlp', 'c_fc', 'w']\n",
            "Initialize PyTorch weight ['h4', 'mlp', 'c_proj', 'b']\n",
            "Initialize PyTorch weight ['h4', 'mlp', 'c_proj', 'w']\n",
            "Initialize PyTorch weight ['h5', 'attn', 'c_attn', 'b']\n",
            "Initialize PyTorch weight ['h5', 'attn', 'c_attn', 'w']\n",
            "Initialize PyTorch weight ['h5', 'attn', 'c_proj', 'b']\n",
            "Initialize PyTorch weight ['h5', 'attn', 'c_proj', 'w']\n",
            "Initialize PyTorch weight ['h5', 'ln_1', 'b']\n",
            "Initialize PyTorch weight ['h5', 'ln_1', 'g']\n",
            "Initialize PyTorch weight ['h5', 'ln_2', 'b']\n",
            "Initialize PyTorch weight ['h5', 'ln_2', 'g']\n",
            "Initialize PyTorch weight ['h5', 'mlp', 'c_fc', 'b']\n",
            "Initialize PyTorch weight ['h5', 'mlp', 'c_fc', 'w']\n",
            "Initialize PyTorch weight ['h5', 'mlp', 'c_proj', 'b']\n",
            "Initialize PyTorch weight ['h5', 'mlp', 'c_proj', 'w']\n",
            "Initialize PyTorch weight ['h6', 'attn', 'c_attn', 'b']\n",
            "Initialize PyTorch weight ['h6', 'attn', 'c_attn', 'w']\n",
            "Initialize PyTorch weight ['h6', 'attn', 'c_proj', 'b']\n",
            "Initialize PyTorch weight ['h6', 'attn', 'c_proj', 'w']\n",
            "Initialize PyTorch weight ['h6', 'ln_1', 'b']\n",
            "Initialize PyTorch weight ['h6', 'ln_1', 'g']\n",
            "Initialize PyTorch weight ['h6', 'ln_2', 'b']\n",
            "Initialize PyTorch weight ['h6', 'ln_2', 'g']\n",
            "Initialize PyTorch weight ['h6', 'mlp', 'c_fc', 'b']\n",
            "Initialize PyTorch weight ['h6', 'mlp', 'c_fc', 'w']\n",
            "Initialize PyTorch weight ['h6', 'mlp', 'c_proj', 'b']\n",
            "Initialize PyTorch weight ['h6', 'mlp', 'c_proj', 'w']\n",
            "Initialize PyTorch weight ['h7', 'attn', 'c_attn', 'b']\n",
            "Initialize PyTorch weight ['h7', 'attn', 'c_attn', 'w']\n",
            "Initialize PyTorch weight ['h7', 'attn', 'c_proj', 'b']\n",
            "Initialize PyTorch weight ['h7', 'attn', 'c_proj', 'w']\n",
            "Initialize PyTorch weight ['h7', 'ln_1', 'b']\n",
            "Initialize PyTorch weight ['h7', 'ln_1', 'g']\n",
            "Initialize PyTorch weight ['h7', 'ln_2', 'b']\n",
            "Initialize PyTorch weight ['h7', 'ln_2', 'g']\n",
            "Initialize PyTorch weight ['h7', 'mlp', 'c_fc', 'b']\n",
            "Initialize PyTorch weight ['h7', 'mlp', 'c_fc', 'w']\n",
            "Initialize PyTorch weight ['h7', 'mlp', 'c_proj', 'b']\n",
            "Initialize PyTorch weight ['h7', 'mlp', 'c_proj', 'w']\n",
            "Initialize PyTorch weight ['h8', 'attn', 'c_attn', 'b']\n",
            "Initialize PyTorch weight ['h8', 'attn', 'c_attn', 'w']\n",
            "Initialize PyTorch weight ['h8', 'attn', 'c_proj', 'b']\n",
            "Initialize PyTorch weight ['h8', 'attn', 'c_proj', 'w']\n",
            "Initialize PyTorch weight ['h8', 'ln_1', 'b']\n",
            "Initialize PyTorch weight ['h8', 'ln_1', 'g']\n",
            "Initialize PyTorch weight ['h8', 'ln_2', 'b']\n",
            "Initialize PyTorch weight ['h8', 'ln_2', 'g']\n",
            "Initialize PyTorch weight ['h8', 'mlp', 'c_fc', 'b']\n",
            "Initialize PyTorch weight ['h8', 'mlp', 'c_fc', 'w']\n",
            "Initialize PyTorch weight ['h8', 'mlp', 'c_proj', 'b']\n",
            "Initialize PyTorch weight ['h8', 'mlp', 'c_proj', 'w']\n",
            "Initialize PyTorch weight ['h9', 'attn', 'c_attn', 'b']\n",
            "Initialize PyTorch weight ['h9', 'attn', 'c_attn', 'w']\n",
            "Initialize PyTorch weight ['h9', 'attn', 'c_proj', 'b']\n",
            "Initialize PyTorch weight ['h9', 'attn', 'c_proj', 'w']\n",
            "Initialize PyTorch weight ['h9', 'ln_1', 'b']\n",
            "Initialize PyTorch weight ['h9', 'ln_1', 'g']\n",
            "Initialize PyTorch weight ['h9', 'ln_2', 'b']\n",
            "Initialize PyTorch weight ['h9', 'ln_2', 'g']\n",
            "Initialize PyTorch weight ['h9', 'mlp', 'c_fc', 'b']\n",
            "Initialize PyTorch weight ['h9', 'mlp', 'c_fc', 'w']\n",
            "Initialize PyTorch weight ['h9', 'mlp', 'c_proj', 'b']\n",
            "Initialize PyTorch weight ['h9', 'mlp', 'c_proj', 'w']\n",
            "Initialize PyTorch weight ['ln_f', 'b']\n",
            "Initialize PyTorch weight ['ln_f', 'g']\n",
            "Initialize PyTorch weight ['wpe']\n",
            "Initialize PyTorch weight ['wte']\n"
          ],
          "name": "stderr"
        },
        {
          "output_type": "stream",
          "text": [
            "Save PyTorch model to aitextgen/pytorch_model.bin\n"
          ],
          "name": "stdout"
        },
        {
          "output_type": "stream",
          "text": [
            "01/11/2021 14:19:00 — INFO — aitextgen — Loading 124M GPT-2 model from /aitextgen.\n"
          ],
          "name": "stderr"
        },
        {
          "output_type": "stream",
          "text": [
            "Save configuration file to aitextgen/config.json\n"
          ],
          "name": "stdout"
        },
        {
          "output_type": "stream",
          "text": [
            "01/11/2021 14:19:06 — INFO — aitextgen — Using the default GPT-2 Tokenizer.\n"
          ],
          "name": "stderr"
        }
      ]
    },
    {
      "cell_type": "markdown",
      "metadata": {
        "id": "N8KXuKWzQSsN"
      },
      "source": [
        "## Mounting Google Drive\n",
        "\n",
        "The best way to get input text to-be-trained into the Colaboratory VM, and to get the trained model *out* of Colaboratory, is to route it through Google Drive *first*.\n",
        "\n",
        "Running this cell (which will only work in Colaboratory) will mount your personal Google Drive in the VM, which later cells can use to get data in/out. (it will ask for an auth code; that auth is not saved anywhere)"
      ]
    },
    {
      "cell_type": "code",
      "metadata": {
        "id": "puq4iC6vUAHc",
        "colab": {
          "base_uri": "https://localhost:8080/"
        },
        "outputId": "6603de08-efd2-4449-b6e0-52cc60e48e5a"
      },
      "source": [
        "mount_gdrive()"
      ],
      "execution_count": null,
      "outputs": [
        {
          "output_type": "stream",
          "text": [
            "Mounted at /content/drive\n"
          ],
          "name": "stdout"
        }
      ]
    },
    {
      "cell_type": "markdown",
      "metadata": {
        "id": "HeeSKtNWUedE"
      },
      "source": [
        "If your text file is large (>10MB), it is recommended to upload that file to Google Drive first, then copy that file from Google Drive to the Colaboratory VM.\n",
        "\n",
        "Additionally, you may want to consider [compressing the dataset to a cache first](https://docs.aitextgen.io/dataset/) on your local computer, then uploading the resulting `dataset_cache.tar.gz` and setting the `file_name`in the previous cell to that."
      ]
    },
    {
      "cell_type": "code",
      "metadata": {
        "id": "R5gtCgMAxgtg"
      },
      "source": [
        "import os\n",
        "import json\n",
        "\n",
        "dir = \"/content/drive/MyDrive/NLP_scientific-text-generation/json\"\n",
        "\n",
        "abstracts = []\n",
        "count = 100\n",
        "i = 0\n",
        "\n",
        "for f_name in os.listdir(dir):\n",
        "  if f_name.endswith(\".json\"):\n",
        "    path = os.path.join(dir, f_name)\n",
        "    with open(path, \"r\") as f:\n",
        "      data = json.load(f)\n",
        "      for obj in data[\"metadata\"]:\n",
        "        if obj[\"key\"] == \"dc.description.abstract\":\n",
        "          abstracts.append(obj[\"value\"])\n",
        "\n",
        "\n",
        "    i += 1\n",
        "    if i >= count:\n",
        "      break"
      ],
      "execution_count": null,
      "outputs": []
    },
    {
      "cell_type": "code",
      "metadata": {
        "colab": {
          "base_uri": "https://localhost:8080/",
          "height": 84,
          "referenced_widgets": [
            "c818ede6f66341e584b4f39b96ee43a4",
            "66d1584962c04e35b51687f31dd2db3f",
            "3d5e33fb6eb34753a0cda4c88aaa633f",
            "4853e9050d6b4fca8694b2a3ef7ccff6",
            "bc650efd7de14cd8a61bd4d8210e31bf",
            "fc5ba6773f184013895c501709e60a12",
            "6264a03776d344f8b368154eb8a6c94f",
            "558fecf6e0374b9fb186338f9de3dc39"
          ]
        },
        "id": "EXVQVerx1BWE",
        "outputId": "c402eb72-98d1-4904-c319-92baadab5f40"
      },
      "source": [
        "from aitextgen.TokenDataset import TokenDataset\n",
        "dataset = TokenDataset(texts = abstracts)"
      ],
      "execution_count": null,
      "outputs": [
        {
          "output_type": "stream",
          "text": [
            "01/11/2021 14:24:51 — INFO — aitextgen.TokenDataset — Encoding 99 texts.\n"
          ],
          "name": "stderr"
        },
        {
          "output_type": "display_data",
          "data": {
            "application/vnd.jupyter.widget-view+json": {
              "model_id": "c818ede6f66341e584b4f39b96ee43a4",
              "version_minor": 0,
              "version_major": 2
            },
            "text/plain": [
              "HBox(children=(FloatProgress(value=0.0, layout=Layout(flex='2'), max=99.0), HTML(value='')), layout=Layout(dis…"
            ]
          },
          "metadata": {
            "tags": []
          }
        },
        {
          "output_type": "stream",
          "text": [
            "\n"
          ],
          "name": "stdout"
        }
      ]
    },
    {
      "cell_type": "markdown",
      "metadata": {
        "id": "LdpZQXknFNY3"
      },
      "source": [
        "## Finetune GPT-2\n",
        "\n",
        "The next cell will start the actual finetuning of GPT-2 in aitextgen. It runs for `num_steps`, and a progress bar will appear to show training progress, current loss (the lower the better the model), and average loss (to give a sense on loss trajectory).\n",
        "\n",
        "The model will be saved every `save_every` steps in `trained_model` by default, and when training completes. If you mounted your Google Drive, the model will _also_ be saved there in a unique folder.\n",
        "\n",
        "The training might time out after 4ish hours; if you did not mount to Google Drive, make sure you end training and save the results so you don't lose them! (if this happens frequently, you may want to consider using [Colab Pro](https://colab.research.google.com/signup))\n",
        "\n",
        "Important parameters for `train()`:\n",
        "\n",
        "- **`line_by_line`**: Set this to `True` if the input text file is a single-column CSV, with one record per row. aitextgen will automatically process it optimally.\n",
        "- **`from_cache`**: If you compressed your dataset locally (as noted in the previous section) and are using that cache file, set this to `True`.\n",
        "- **`num_steps`**: Number of steps to train the model for.\n",
        "- **`generate_every`**: Interval of steps to generate example text from the model; good for qualitatively validating training.\n",
        "- **`save_every`**: Interval of steps to save the model: the model will be saved in the VM to `/trained_model`.\n",
        "- **`save_gdrive`**: Set this to `True` to copy the model to a unique folder in your Google Drive, if you have mounted it in the earlier cells\n",
        "\n",
        "Here are other important parameters for `train()` that are useful but you likely do not need to change.\n",
        "\n",
        "- **`learning_rate`**: Learning rate of the model training.\n",
        "- **`batch_size`**: Batch size of the model training; setting it too high will cause the GPU to go OOM."
      ]
    },
    {
      "cell_type": "code",
      "metadata": {
        "id": "aeXshJM-Cuaf",
        "colab": {
          "base_uri": "https://localhost:8080/",
          "height": 1000,
          "referenced_widgets": [
            "7fbed66b2e824d16a7f4d9c731fe3dbd",
            "3a1fa3841a4847c2b481a97df3c19343",
            "ae9d46f08e2045aba2146a664b66e3d0",
            "4d961a41757a4d62b37a97ee7967e514",
            "9db9da9dff52458194aa2772f4786c70",
            "74188db990c84df8be7325a591f888ef",
            "16dfbfce5b1d43b4b86cef388fe43b3e",
            "699c5357930b4787b778d6031c8af2d3"
          ]
        },
        "outputId": "5b68c24a-7be9-4485-b441-571c373baf96"
      },
      "source": [
        "ai.train(dataset,\n",
        "         line_by_line=False,\n",
        "         from_cache=False,\n",
        "         num_steps=1000,\n",
        "         generate_every=100,\n",
        "         save_every=100,\n",
        "         save_gdrive=False,\n",
        "         learning_rate=1e-4,\n",
        "         batch_size=1, \n",
        "         )"
      ],
      "execution_count": null,
      "outputs": [
        {
          "output_type": "stream",
          "text": [
            "01/11/2021 14:26:08 — WARNING — aitextgen — pytorch_model.bin already exists in /trained_model and will be overwritten!\n",
            "/usr/local/lib/python3.6/dist-packages/pytorch_lightning/utilities/distributed.py:49: UserWarning: You have set progress_bar_refresh_rate < 20 on Google Colab. This may crash. Consider using progress_bar_refresh_rate >= 20 in Trainer.\n",
            "  warnings.warn(*args, **kwargs)\n",
            "GPU available: True, used: True\n",
            "01/11/2021 14:26:08 — INFO — lightning — GPU available: True, used: True\n",
            "TPU available: None, using: 0 TPU cores\n",
            "01/11/2021 14:26:08 — INFO — lightning — TPU available: None, using: 0 TPU cores\n",
            "LOCAL_RANK: 0 - CUDA_VISIBLE_DEVICES: [0]\n",
            "01/11/2021 14:26:08 — INFO — lightning — LOCAL_RANK: 0 - CUDA_VISIBLE_DEVICES: [0]\n"
          ],
          "name": "stderr"
        },
        {
          "output_type": "display_data",
          "data": {
            "application/vnd.jupyter.widget-view+json": {
              "model_id": "7fbed66b2e824d16a7f4d9c731fe3dbd",
              "version_minor": 0,
              "version_major": 2
            },
            "text/plain": [
              "HBox(children=(FloatProgress(value=0.0, layout=Layout(flex='2'), max=1000.0), HTML(value='')), layout=Layout(d…"
            ]
          },
          "metadata": {
            "tags": []
          }
        },
        {
          "output_type": "stream",
          "text": [
            "\u001b[1m100 steps reached: saving model to /trained_model\u001b[0m\n",
            "\u001b[1m100 steps reached: generating sample texts.\u001b[0m\n",
            "==========\n",
            " and the world's leading scientific minds, editors, actors and producers. Our focus is on finding the right balance between providing the highest level of quality products at the right time and ensuring that the right price is applied when it comes to the right use cases. The results of our research suggest that consumers should be aware of the different types of products they are buying and can be influenced by their preferences. The research findings are based on a survey of more than 100,000 consumers across the country. The survey was conducted by commercial bank Thomson Reuters, and surveyed members of the public about their overall consumer preferences. The survey results are based on the sample of Iasi, Germany, taken on September 22, 2015. For the sample of German consumers, the standard error of the survey was 4.3%. For all consumers, the standard error was 0.3%. The authors conclude that consumers should be aware of the different types of products they are buying and using, and should be taking into account price trends before they buy or try to make adjustments to their current budget. The study is based on 6,000 interviews with 6,000 people in Germany. The sample size for this study is small, so the statistical methods used are not exact. The final conclusion is that consumers should be\n",
            "==========\n",
            "\u001b[1m200 steps reached: saving model to /trained_model\u001b[0m\n",
            "\u001b[1m200 steps reached: generating sample texts.\u001b[0m\n",
            "==========\n",
            "This study is an exploratory survey to determine if and how entities in the Russian economy can be conceptualised into the framework of the Russian economy. The questionnaire is designed to allow characterization of the entities involved in the economic processes, the capabilities of the Russian economy in the face of external shocks and also the possibility of missing important information at the national level.<|endoftext|>\"Social innovation\" is an inadequate description of what this sort of work is. The work of creating value for money is not limited to its practitioners. Many high profile and famous economists have recommended the use of this model. However, the real purpose of this paper is to analyze the impact of this model on the efficiency of innovation processes. The empirical data shows that the formation of value for social innovation is dependent on the level of formal education and training of employees. The training rate for employees is quite low, and it is very difficult to determine the actual effectiveness of training after taking surveys. The authors surveyed over 70,000 employees in Moscow, teaching and research organizations. The data are derived from the surveys of 1000 employees and 1000 employees. The findings indicate that the effectiveness of education and training of employees is dependent on the level of formal education and training of employees. Training levels are also influenced by the\n",
            "==========\n",
            "\u001b[1m300 steps reached: saving model to /trained_model\u001b[0m\n",
            "\u001b[1m300 steps reached: generating sample texts.\u001b[0m\n",
            "==========\n",
            " to assess the economic aspects of the South Asia region. We initiated a literature review to identify the top 10 contributors countries according to the most frequent publication recall, GDP, in South Asia. To our knowledge of the paper there are no top 10 contributors. However, based on the statistical data that provides the economic situation of the countries in question, we chose to draw the conclusion that economic performance on top contributors is a responsibility of the state, not individual citizens.<|endoftext|>This paper highlights the advantages a more integrated approach to the interdisciplinary study of religion and how this informs the interdisciplinary approach to research in general. It argues that concerted action is needed between the state and religion communities in order to eradicate the negative influences that the monasteries and churches have on the lives of young people. Through the lens of religion and how people should act, we are trying to understand the phenomenon of the rising minority population, which is undoubtedly contributing to problems in society through its increasing visibility. This paper tackles the issue of the rising minority, the main reason for excluding them from adopting a local, regional or national life, and provides some short and long-term solutions. It further provides a definition of the phenomenon of the rising minority, the purpose of which is to eradicate it\n",
            "==========\n",
            "\u001b[1m400 steps reached: saving model to /trained_model\u001b[0m\n",
            "\u001b[1m400 steps reached: generating sample texts.\u001b[0m\n",
            "==========\n",
            "Co-operation Area (Co-operation Area) is a concept that describes a group of companies that issue corporate cards every month or at least quarterly. Each company is represented by a certain group of characters, such as the co-operation number, the number of employees, and the total number of co-operation shops. The paper presents the evolution of the sector by establishing the connections and correlations between the cards and the information they issue. The paper investigates also the past and present difficulties related to the sector by scrutinizing the current situation with an objective view and tries to ascertain the possible future directions for the sector by addressing the current economic and financial crisis situations.<|endoftext|>The global economic and financial crisis of 2007 highlighted the risks, threats and enormous costs of a global economy in the absence of a global government. The aim of this paper is to make the connection between the two concepts more clear and to highlight the positive aspects of the global economy and financial instruments used by administrations and central bankers in the absence of a global government. The paper focuses especially on the links between the financial markets and the Treasury, as well as on the Treasury's efforts to gain a share of the global public budget. The focus of the article is on the general characterization of the global economic\n",
            "==========\n",
            "\u001b[1m500 steps reached: saving model to /trained_model\u001b[0m\n",
            "\u001b[1m500 steps reached: generating sample texts.\u001b[0m\n",
            "==========\n",
            ".text, b) The purpose of this research is to investigate Romanian direct sellers’ perceptions on customers’ loyalty. The research objectives are: (1) to collect the personal data and demographic data to identify the direct sellers’ perceptions on the concept of loyalty; (2) to identify the main loyalty techniques that direct sellers use in their work with the clients; (3) to frame the portrait of a loyal customer. As a research method, we used qualitative research over the course of the last 15 years. In order to produce the strongest possible portrait, we used original quantitative data on the respondents' perceptions on loyalty. The results can be used to issue a series of assumptions about the client base and its attitude toward the company. The main findings show that those who are loyal to the company are perceived as loyal, while loyal customers are considered weakly loyal. As for those who are loyal to the company, they are perceived as being loyal only if they act on their own initiative. The loyal customer is characterized by a system of loyalty rules that are formulated specifically to achieve a great extent, the loyalty rate being directly assessed by the client. The loyal customer is the one who buys companies’ products every month or at least quarterly, spends a monthly amount of\n",
            "==========\n",
            "\u001b[1m600 steps reached: saving model to /trained_model\u001b[0m\n",
            "\u001b[1m600 steps reached: generating sample texts.\u001b[0m\n",
            "==========\n",
            "The European Union's policy towards its southern periphery in North Africa and the Middle East has sought to promote regional cooperation both between itself and Russia. The institutional cooperation between the European Union and the Russian Federation is highlighted by the pragmatic bilateralism of the UfM. FreiLaw „calligraphy for a more integrated European response to the growing regional and global challenges. The pragmatic approach is accompanied by an understanding of the unique challenges and opportunities associated with the challenges of today's global turbulent world which invite the possibility to reconsider the course of global governance.<|endoftext|>The purpose of the research is to investigate Romanian direct sellers’ perceptions on customers’ loyalty. The research objectives are: (1) to identify the direct sellers’ perceptions on the concept of loyalty; (2) to identify the main loyalty techniques that direct sellers use in their work with the clients; (3) to frame the portrait of a loyal customer. As a research method, we used qualitative research based on depth interviews. It is an exploratory and instrumental research, the results being used for building a questionnaire for a future survey. The investigated population is represented by direct selling women, with ages beteeen 19 and 30 years. For direct sellers, loyalty is an attitude and\n",
            "==========\n",
            "\u001b[1m700 steps reached: saving model to /trained_model\u001b[0m\n",
            "\u001b[1m700 steps reached: generating sample texts.\u001b[0m\n",
            "==========\n",
            " in the study are derived from the surveys of 1000 subjects (2011). The sampling method is random, the study being exploratory. The results can be used to issue a series of assumptions about the country of origin effect on the decision to purchase new cars and other goods.<|endoftext|>Co-operation, quality control and communication are core components of modern economic models. The EU has a high position in the world if the criterion for assessment is the level of collaboration and collaboration between the two sides, but also the level of formal competition. This union aims to conclude a significant number of deep and comprehensive free trade agreements, particularly by eliminating tariffs, and also by facilitating the trade of services, investments, procurement and regulatory matters. The EU has granted unilateral preferences to developing countries through tariff free access to the EU market, thereby helping them to eradicate poverty and promote sustainable development. Based on the primary motives of Europe’s preferential trade agreements, we have analysed the trade agreements negotiated with geographically close neighbours to which the EU is prepared to offer commercial accession or some slightly less ambitious type of relationship.<|endoftext|>The primary long-term socio-economic challenges facing Russia – global and country-specific in nature – drive demand for a range of technologies.\n",
            "==========\n",
            "\u001b[1m800 steps reached: saving model to /trained_model\u001b[0m\n",
            "\u001b[1m800 steps reached: generating sample texts.\u001b[0m\n",
            "==========\n",
            "- Advertisement - Unpaid leave is a common practice among Romanian employees in ICT and biotech industries. They are considered a loyal customer, following orders from loyal customers, who pays on time for promotions, promotions, taking money for promotions, etc. This type of behaviour is typical for high involvement and high involvement employees. Unpaid leave is also associated with a higher risk of negative behaviours, including abandoning promotions, abandoning social groups, for better or for worse. This positive evaluation effect is independent of the length of leave. In our mixed experiences, we share the belief that long-term negative behaviours, especially abandoning party activities, are more likely to be reflected in negative attitudes toward a future career. In our mixed methods study, we draw on unique quantitative and qualitative data on different-sex couples with young children in Germany (2015). We find that the fear of professional repercussions and the lack of a replacement at work inhibit fathers both from taking leave in general and taking it for more than two months. Interestingly, however, the majority of fathers who took leave did not think that their leave negatively affected their professional advancement. This positive evaluation was independent of the length of leave. We compared fathers’ perceived leave consequences to those of mothers, who tended to have a more negative view of the\n",
            "==========\n",
            "\u001b[1m900 steps reached: saving model to /trained_model\u001b[0m\n",
            "\u001b[1m900 steps reached: generating sample texts.\u001b[0m\n",
            "==========\n",
            " a) to identify causal effects of better management strategies on wellbeing of employees using different measures in different sectors of the economy as well as quantitatively assessed the impact of different management strategies on worker well-being. In the absence of such an accurate definition of the term, we rely on the subjective evaluation of the effectiveness of management decisions taken at companies. We consider the importance of corporate foresight in the development and implementation of strategic management policies. The authors surveyed over 70,000 employees in 15 geographically spread countries which account for more than 85% of the industry's global revenues. The analysis of the survey results identified a direct link between better management and increased wellbeing. Bad management practices can increase the probability of morbidity and mortality by feeding negative mortality signals in the worker population, which is truly important in preventing diseases. Being generally considered to be a major cause of mortality reduction in the EU, Romania joined on the line as a mature and healthy model of management. On the other hand, bad management practices can increase the probability of morbidity and mortality by feeding a wider spectrum of diseases, which is truly important in preventing diseases of the young population. Therefore, according to the Romanian Ministry of Health and Social Protection, the mortality rate for young people in Romania is very low, compared to the\n",
            "==========\n",
            "\u001b[1m1,000 steps reached: saving model to /trained_model\u001b[0m\n",
            "\u001b[1m1,000 steps reached: generating sample texts.\u001b[0m\n",
            "==========\n",
            "There is a bilateral influence between health and economic development. On the one hand, population health influences economic performance of population health care and education, whereas economic performance also influences health of population. Therefore, according to the materialist view, health status is dependent on the standard of living, whereas low living standards can increase the probability of morbidity and mortality by feeding poverty, poor hygiene and restricting access to health care and education, which is truly important in preventing diseases. Being generally considered to be a representative indicator for the standards of living, we have assessed the impact of wage variations on the development of ICT and biotech development, as well as the beneficial effects of better storage on yield. We included an indicator of the effective storage capacity of an area to evaluate the impact of wage variations on yield. We included an indicator of the level of parental leave as an indicator for households in Germany. We find that the absence of any active leave raise the overall yield of an area by 0.3% in comparison with the rate for employees occupying lower positions and find that the fear of death and economic decline of their fathers does not diminish the impact of leave on the average worker’s career.<|endoftext|>This paper evaluates the economic advantages and disadvantages of the Eastern expansion of\n",
            "==========\n"
          ],
          "name": "stdout"
        },
        {
          "output_type": "stream",
          "text": [
            "01/11/2021 14:39:46 — INFO — aitextgen — Saving trained model pytorch_model.bin to /trained_model\n"
          ],
          "name": "stderr"
        }
      ]
    },
    {
      "cell_type": "markdown",
      "metadata": {
        "id": "qQJgV_b4bmzd"
      },
      "source": [
        "You're done! Feel free to go to the **Generate Text From The Trained Model** section to generate text based on your retrained model."
      ]
    },
    {
      "cell_type": "markdown",
      "metadata": {
        "id": "pel-uBULXO2L"
      },
      "source": [
        "\n",
        "## Load a Trained Model\n",
        "\n",
        "Running the next cell will copy the `pytorch_model.bin` and the `config.json`file from the specified folder in Google Drive into the Colaboratory VM. (If no `from_folder` is specified, it assumes the two files are located at the root level of your Google Drive)"
      ]
    },
    {
      "cell_type": "code",
      "metadata": {
        "id": "DCcx5u7sbPTD"
      },
      "source": [
        "from_folder = None\n",
        "\n",
        "for file in [\"pytorch_model.bin\", \"config.json\"]:\n",
        "  if from_folder:\n",
        "    copy_file_from_gdrive(file, from_folder)\n",
        "  else:\n",
        "    copy_file_from_gdrive(file)"
      ],
      "execution_count": null,
      "outputs": []
    },
    {
      "cell_type": "markdown",
      "metadata": {
        "id": "RTa6zf3e_9gV"
      },
      "source": [
        "The next cell will allow you to load the retrained model + metadata necessary to generate text."
      ]
    },
    {
      "cell_type": "code",
      "metadata": {
        "id": "-fxL77nvAMAX",
        "colab": {
          "base_uri": "https://localhost:8080/",
          "height": 71
        },
        "outputId": "368bd05a-711f-4775-9e06-ba1fa6582a80"
      },
      "source": [
        "ai = aitextgen(model=\"pytorch_model.bin\", config=\"config.json\", to_gpu=True)"
      ],
      "execution_count": null,
      "outputs": [
        {
          "output_type": "stream",
          "text": [
            "05/17/2020 20:27:21 — INFO — aitextgen — Loading GPT-2 model from provided pytorch_model.bin.\n",
            "05/17/2020 20:27:26 — INFO — aitextgen — Using the default GPT-2 Tokenizer.\n"
          ],
          "name": "stderr"
        }
      ]
    },
    {
      "cell_type": "markdown",
      "metadata": {
        "id": "ClJwpF_ACONp"
      },
      "source": [
        "## Generate Text From The Trained Model\n",
        "\n",
        "After you've trained the model or loaded a retrained model from checkpoint, you can now generate text. `generate()` without any parameters generates a single text from the loaded model to the console."
      ]
    },
    {
      "cell_type": "code",
      "metadata": {
        "id": "4RNY6RBI9LmL",
        "colab": {
          "base_uri": "https://localhost:8080/"
        },
        "outputId": "05394687-4781-4a78-9e7d-e6bb2a873643"
      },
      "source": [
        "ai.generate()"
      ],
      "execution_count": null,
      "outputs": [
        {
          "output_type": "stream",
          "text": [
            "\u001b[1m\u001b[0m>The proliferation of storage infrastructure in the EU in the past decade has limited the ability to develop alternative district heating and cooling systems. Energy infrastructure innovation centres are sparse and feature limited specialization and competition. Large companies tend to follow the 'closed innovation' model where R&D activities are concentrated within an organization, and focus on incremental innovations while lagging in radical innovations in cogeneration and trigeneration. Under these conditions, short-term planning dominates, while mid-term planning is virtually non-existent. The paper concludes with recommended measures to support the innovative development of Russian heating companies that can be split into institutional and corporate recommendations. The first group concerns stimulating competition in the heat supply market and creating a stable legal and investment environment. The second group calls for technological modernization, development of long-term corporate strategies that include investment programmes, systematic analysis of the best international practices for innovative development, and the formation of partner networks involving foreign innovative, consulting, and research centres.<|endoftext|>The authors solve the IS puzzle for the G7 countries. They find that five of the G7 countries have the expected significant negative relationship between the output gap and the real-rate gap; the time series of the remaining two show material deviation from expected IS-curve behavior\n"
          ],
          "name": "stdout"
        }
      ]
    },
    {
      "cell_type": "markdown",
      "metadata": {
        "id": "oF4-PqF0Fl7R"
      },
      "source": [
        "If you're creating an API based on your model and need to pass the generated text elsewhere, you can do `text = ai.generate_one()`\n",
        "\n",
        "You can also pass in a `prompt` to the generate function to force the text to start with a given character sequence and generate text from there (good if you add an indicator when the text starts).\n",
        "\n",
        "You can also generate multiple texts at a time by specifing `n`. You can pass a `batch_size` to generate multiple samples in parallel, giving a massive speedup (in Colaboratory, set a maximum of 50 for `batch_size` to avoid going OOM).\n",
        "\n",
        "Other optional-but-helpful parameters for `ai.generate()` and friends:\n",
        "\n",
        "*  **`max_length`**: Number of tokens to generate (default 256, you can generate up to 1024 tokens with GPT-2, but it will be _much_ slower)\n",
        "* **`temperature`**: The higher the temperature, the crazier the text (default 0.7, recommended to keep between 0.7 and 1.0)\n",
        "* **`top_k`**: Limits the generated guesses to the top *k* guesses (default 0 which disables the behavior; if the generated output is super crazy, you may want to set `top_k=40`)\n",
        "* **`top_p`**: Nucleus sampling: limits the generated guesses to a cumulative probability. (gets good results on a dataset with `top_p=0.9`)"
      ]
    },
    {
      "cell_type": "code",
      "metadata": {
        "id": "8DKMc0fiej4N",
        "colab": {
          "base_uri": "https://localhost:8080/"
        },
        "outputId": "a602be76-9d85-431f-aa7f-e772eed15212"
      },
      "source": [
        "ai.generate(n=5,\n",
        "            batch_size=5,\n",
        "            prompt=\"This paper investigates the macroeconomic implications of\",\n",
        "            max_length=256,\n",
        "            temperature=0.7,\n",
        "            top_p=0.9)"
      ],
      "execution_count": null,
      "outputs": [
        {
          "output_type": "stream",
          "text": [
            "\u001b[1mThis paper investigates the macroeconomic implications of\u001b[0m the dual nature of relations between Russia and Ukraine in the context of DCFTA’s implementation. We are interested to encounter the point of contact and the interference areas to which Ukraine is referring to secure its balance, considering that its economy and market are traditionally oriented toward Russia and DCFTA is reorienting it toward EU and in this context, to show that the Russian economy is not, fundamentally, affected. Based on the statistical data that provides the economic situation of the two countries (import, export, FDI, labour migrants) before and after signing the treaty, we will analse the manner in which DCFTA affects the Russian economy. The findings indicate that the implementation of the DCFTA does not have the potential to cause instability in trade relations between Ukraine and Russia, and that the hostile actions of Russia against the DCFTA has the potential to cause instability in trade relations between Ukraine and Russia.<|endoftext|>The lack of genuine transformative power in the region was repeatedly distinguished as a major weakness of the Eastern Partnership (EaP) in Ukraine. However, the intensity and comprehensiveness of ongoing reform processes cause the need to revise the transformative power of the initiative in general and specific incentives in particular\n",
            "==========\n",
            "\u001b[1mThis paper investigates the macroeconomic implications of\u001b[0m ageing, discusses the potential of ageing as a major negative shock absorber and describes the potential future for the region as a result of increased storage capacity. From the analysis of the results of the different MNCs' (monitored by National Research University HSE) in 2015, we conclude that the scenario of'smart city' strategies becoming a core element of the strategic management policy at the EU is very likely to be replaced with more efficient and effective strategies. In this paper, however, the focus is on the potential negative impacts of ageing. We argue that the EU-2020 policy is in general detrimental to a City-wide approach if the focus is on the size of the Governmental Agenda and on the reduction of the existing institutional Framework. On the other hand, the EU-2020 policy encourages the stimulation of a number of other types of innovative development in the framework of the European cooperation mechanisms including Agenda General, European Structural and Investment Funds. The main purpose of the study is to investigate the parallel development of Agenda General in the context of the ongoing European cooperation efforts. The results of the study show that the EU-2020 policy is capable of providing a number of viable options for the implementation of the Euro-Mediterranean Partnership.<|\n",
            "==========\n",
            "\u001b[1mThis paper investigates the macroeconomic implications of\u001b[0m the dual nature of relations between Russia and Ukraine in the context of DCFTA’s implementation. The author focuses on the main research question concerning the implementation of the Eastern Partnership between Ukraine and Russia and provides an overview of the work on this treaty among the members of the European Union. The conclusions of the study reflect the undisputed virtues of the EU-Ukraine DCFTA, based on the methodology that is being applied to the transatlantic economy of the European Union. The interdisciplinary approach and methods as empirical and practical planning were applied to the study of DCFTA’s implementation. The results of the study show that the EU-Ukraine DCFTA holds a significant role in strengthening the links between Russia and Ukraine through its implementation in a number of ways, including the reduction of the existing financial relations between Ukraine and Turkey. The implementation of the DCFTA does not involve the simultaneous implementation by any country or entity directly of the measures taken by the EU-Ukraine in the sphere of trade, financing and approval of external policies. The implementation of the DCFTA does not intend to conclude an agreement between Ukraine and Turkey, and, and instead it aims to conclude a series of deep and comprehensive free trade agreements with Russia.\n",
            "==========\n",
            "\u001b[1mThis paper investigates the macroeconomic implications of\u001b[0m the dual nature of relations between Russia and Ukraine and describes the research methodology used to identify the co-publication dynamics of the two regions in the context of their intensifying economic conflict. The author elaborates on the main findings of the study and provides to analyze the possibility of the dual nature of relations between Russia and Ukraine in the context of DCFTA’s implementation. The main conclusion is that the intensifying economic relations between Ukraine and Russia through the channels of Ukraine is a symbolic initiative, and must be attributed to the “New Cold War” concept of the United States. This paper argues that the “New Cold War” is a symbolic concept used to strengthen Russia’s great power narrative. Using constructivists’ arguments of the international relations theory, we will examine this idea and will observe how this social construct helps Russia to strengthen its great power and offers a new interpretation to the international environment.<|endoftext|>The paper aims at analysing the dimension of the underground economy in the EU states between 2003 and 2015. In order to achieve this goal, we use qualitative and quantitative methods. In the first two sections of the study we resort to conceptualisation and bring up to date scientific\n",
            "==========\n",
            "\u001b[1mThis paper investigates the macroeconomic implications of\u001b[0m the dual nature of relations between Russia and Ukraine. We are initializing our research with our research question: 'How the new Cold War „Ukraine crisis” effected the United States into the European Union?', which has been the focus of many debates and informa-strategic analyses within the United States. However, the aim of this paper is to present the main theoretical and practical aspects of the dual nature of relations between the United States and Russia in the context of the present context of the analysis of the US-Ukraine crisis. Further, the purpose of the study is to analyze the impact the new Cold War has had on the concept of the “New Cold War” and to identify the possible future trends in the geopolitical. The main research question is whether the “New Cold War” concept is becoming a core element of the strategic management of the strategic management and decision-making processes of most multinational corporations and is there a symbolic representation of the United States in the international environment.<|endoftext|>The paper aims at analysing the dimension of the underground economy in the EU states between 2003 and 2015. In order to achieve this goal, we use qualitative and quantitative methods. In the first two sections\n"
          ],
          "name": "stdout"
        }
      ]
    },
    {
      "cell_type": "markdown",
      "metadata": {
        "id": "zjjEN2Tafhl2"
      },
      "source": [
        "For bulk generation, you can generate a large amount of texts to a file and sort out the samples locally on your computer. The next cell will generate `num_files` files, each with `n` texts and whatever other parameters you would pass to `generate()`. The files can then be downloaded from the Files sidebar!\n",
        "\n",
        "You can rerun the cells as many times as you want for even more generated texts!"
      ]
    },
    {
      "cell_type": "code",
      "metadata": {
        "id": "Fa6p6arifSL0",
        "colab": {
          "base_uri": "https://localhost:8080/",
          "height": 362,
          "referenced_widgets": [
            "d0f2f99c46ea43d28693e34bc45236be",
            "78d43764ddc240e6b3943b5d7cb6427a",
            "64c9b03170b5403a91997513f494b608",
            "f6eaa0e68d984410866c93a7f321b53c",
            "f04b1051057f4a1ea30816781b14034a",
            "df69b87d5bc94a7f9edfb2b11dca8e12",
            "cc2391c2cfcb456eb9e409210d57ae53",
            "1216591e66894ebd8dfb31cf58c92fb7",
            "03a0381ab0cb48f9baf4fc3faa572962",
            "529f2a66e8da485a9f0d1d2d2ae5ce00",
            "e963a85df3e74c298f23935f5ecaec69",
            "ce11a8802d614f3aa2ecf5c3930cb58e",
            "35e05c457b0147aa9ad19e809c20ce3c",
            "4fa7ada96fb0418096232457c41f44d4",
            "884aee3e0baf4126a05adc0e6303979d",
            "e6de0762b6c64013bcce7dcfa6f25bfd",
            "631a5549ea334b51beb9e509997ca1b1",
            "4986db70d29c4e66946e23266daa768f",
            "f05114c06ff34638978e0c2391f30fbf",
            "2d21118da3e94139857f2d7cb460e2b1",
            "83437e70ec5744758533abdfe8cce7ea",
            "41ddb3823bcd4c08a217c57fee9c7b59",
            "27a3ca4bd1ce420b9efbae664394b99d",
            "76b409afa0c5493bb92d4ea38fe4172b",
            "ef3e9f4a1d794b5da1663d57937d6e59",
            "d13424118c5643778a097f7e335720b2",
            "daabf9bde1684352b5eb00e2ef4e87f2",
            "ae015b9db4824a7d9fb03dd8ea535e36",
            "ab8d8d1ab54747ba8a30afd94310a0cc",
            "80a4d8c4638e4502a15e229121d3592d",
            "76eabad6dd2b4e0eb246e5a9b3e5543b",
            "10e026a50e8b4dceb0bbc4190f4e6cdc",
            "883f5e3493b64868939838ae9e1a5da2",
            "72739a76f1164b60bf32f2ae0220b437",
            "e1c5cd432d144cc2b15cdb47944927a9",
            "6fd857d98fea44f0a2c0881ccd5913a0",
            "425f960b18d44c2aba613f6dd7e8cc0b",
            "8d4c46b2e86d457b83e669fe44246823",
            "ca1d23cf85e9431895904f6979f2c732",
            "94fbd13c0d1b49aa9101c57e080e0981"
          ]
        },
        "outputId": "6a3b3d10-a50b-4fa7-bbf9-93adf78af8d0"
      },
      "source": [
        "num_files = 5\n",
        "\n",
        "for _ in range(num_files):\n",
        "  ai.generate_to_file(n=1000,\n",
        "                     batch_size=50,\n",
        "                     prompt=\"ROMEO:\",\n",
        "                     max_length=256,\n",
        "                     temperature=1.0,\n",
        "                     top_p=0.9)"
      ],
      "execution_count": null,
      "outputs": [
        {
          "output_type": "stream",
          "text": [
            "05/18/2020 00:06:16 — INFO — aitextgen — Generating 1,000 texts to ATG_20200518_000616_78407959.txt\n"
          ],
          "name": "stderr"
        },
        {
          "output_type": "display_data",
          "data": {
            "application/vnd.jupyter.widget-view+json": {
              "model_id": "d0f2f99c46ea43d28693e34bc45236be",
              "version_minor": 0,
              "version_major": 2
            },
            "text/plain": [
              "HBox(children=(FloatProgress(value=0.0, max=1000.0), HTML(value='')))"
            ]
          },
          "metadata": {
            "tags": []
          }
        },
        {
          "output_type": "stream",
          "text": [
            "05/18/2020 00:08:30 — INFO — aitextgen — Generating 1,000 texts to ATG_20200518_000830_67373043.txt\n"
          ],
          "name": "stderr"
        },
        {
          "output_type": "stream",
          "text": [
            "\n"
          ],
          "name": "stdout"
        },
        {
          "output_type": "display_data",
          "data": {
            "application/vnd.jupyter.widget-view+json": {
              "model_id": "03a0381ab0cb48f9baf4fc3faa572962",
              "version_minor": 0,
              "version_major": 2
            },
            "text/plain": [
              "HBox(children=(FloatProgress(value=0.0, max=1000.0), HTML(value='')))"
            ]
          },
          "metadata": {
            "tags": []
          }
        },
        {
          "output_type": "stream",
          "text": [
            "05/18/2020 00:10:44 — INFO — aitextgen — Generating 1,000 texts to ATG_20200518_001044_88174494.txt\n"
          ],
          "name": "stderr"
        },
        {
          "output_type": "stream",
          "text": [
            "\n"
          ],
          "name": "stdout"
        },
        {
          "output_type": "display_data",
          "data": {
            "application/vnd.jupyter.widget-view+json": {
              "model_id": "631a5549ea334b51beb9e509997ca1b1",
              "version_minor": 0,
              "version_major": 2
            },
            "text/plain": [
              "HBox(children=(FloatProgress(value=0.0, max=1000.0), HTML(value='')))"
            ]
          },
          "metadata": {
            "tags": []
          }
        },
        {
          "output_type": "stream",
          "text": [
            "05/18/2020 00:12:58 — INFO — aitextgen — Generating 1,000 texts to ATG_20200518_001258_27768790.txt\n"
          ],
          "name": "stderr"
        },
        {
          "output_type": "stream",
          "text": [
            "\n"
          ],
          "name": "stdout"
        },
        {
          "output_type": "display_data",
          "data": {
            "application/vnd.jupyter.widget-view+json": {
              "model_id": "ef3e9f4a1d794b5da1663d57937d6e59",
              "version_minor": 0,
              "version_major": 2
            },
            "text/plain": [
              "HBox(children=(FloatProgress(value=0.0, max=1000.0), HTML(value='')))"
            ]
          },
          "metadata": {
            "tags": []
          }
        },
        {
          "output_type": "stream",
          "text": [
            "05/18/2020 00:15:12 — INFO — aitextgen — Generating 1,000 texts to ATG_20200518_001512_83597962.txt\n"
          ],
          "name": "stderr"
        },
        {
          "output_type": "stream",
          "text": [
            "\n"
          ],
          "name": "stdout"
        },
        {
          "output_type": "display_data",
          "data": {
            "application/vnd.jupyter.widget-view+json": {
              "model_id": "883f5e3493b64868939838ae9e1a5da2",
              "version_minor": 0,
              "version_major": 2
            },
            "text/plain": [
              "HBox(children=(FloatProgress(value=0.0, max=1000.0), HTML(value='')))"
            ]
          },
          "metadata": {
            "tags": []
          }
        },
        {
          "output_type": "stream",
          "text": [
            "\n"
          ],
          "name": "stdout"
        }
      ]
    },
    {
      "cell_type": "markdown",
      "metadata": {
        "id": "wmTXWNUygS5E"
      },
      "source": [
        "# LICENSE\n",
        "\n",
        "MIT License\n",
        "\n",
        "Copyright (c) 2020 Max Woolf\n",
        "\n",
        "Permission is hereby granted, free of charge, to any person obtaining a copy\n",
        "of this software and associated documentation files (the \"Software\"), to deal\n",
        "in the Software without restriction, including without limitation the rights\n",
        "to use, copy, modify, merge, publish, distribute, sublicense, and/or sell\n",
        "copies of the Software, and to permit persons to whom the Software is\n",
        "furnished to do so, subject to the following conditions:\n",
        "\n",
        "The above copyright notice and this permission notice shall be included in all\n",
        "copies or substantial portions of the Software.\n",
        "\n",
        "THE SOFTWARE IS PROVIDED \"AS IS\", WITHOUT WARRANTY OF ANY KIND, EXPRESS OR\n",
        "IMPLIED, INCLUDING BUT NOT LIMITED TO THE WARRANTIES OF MERCHANTABILITY,\n",
        "FITNESS FOR A PARTICULAR PURPOSE AND NONINFRINGEMENT. IN NO EVENT SHALL THE\n",
        "AUTHORS OR COPYRIGHT HOLDERS BE LIABLE FOR ANY CLAIM, DAMAGES OR OTHER\n",
        "LIABILITY, WHETHER IN AN ACTION OF CONTRACT, TORT OR OTHERWISE, ARISING FROM,\n",
        "OUT OF OR IN CONNECTION WITH THE SOFTWARE OR THE USE OR OTHER DEALINGS IN THE\n",
        "SOFTWARE."
      ]
    }
  ]
}