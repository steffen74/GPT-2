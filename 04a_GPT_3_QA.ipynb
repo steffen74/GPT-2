{
  "nbformat": 4,
  "nbformat_minor": 0,
  "metadata": {
    "colab": {
      "name": "04_GPT_3_QA.ipynb",
      "provenance": [],
      "collapsed_sections": []
    },
    "kernelspec": {
      "name": "python3",
      "display_name": "Python 3"
    }
  },
  "cells": [
    {
      "cell_type": "markdown",
      "metadata": {
        "id": "aPKlFCXmuZLj"
      },
      "source": [
        "## This notebook is about generating short answers for the scientific question using GPT-3 "
      ]
    },
    {
      "cell_type": "markdown",
      "metadata": {
        "id": "ZD7RaZmgxZpz"
      },
      "source": [
        "\r\n",
        "###GPT-3 API Request\r\n",
        "\r\n",
        "The API-key provided below is a personal to Steffen Brandt, therefore please use with care.\r\n",
        "However, feel free to play around with the API to find out how to best use it.\r\n"
      ]
    },
    {
      "cell_type": "code",
      "metadata": {
        "id": "te1JiERztigD",
        "colab": {
          "base_uri": "https://localhost:8080/"
        },
        "outputId": "016c6e46-4e48-4a9f-a54e-10eb4619fc03"
      },
      "source": [
        "!pip install openai # Installing GPT-3 openai"
      ],
      "execution_count": 26,
      "outputs": [
        {
          "output_type": "stream",
          "text": [
            "Requirement already satisfied: openai in /usr/local/lib/python3.6/dist-packages (0.2.6)\n",
            "Requirement already satisfied: requests>=2.20; python_version >= \"3.0\" in /usr/local/lib/python3.6/dist-packages (from openai) (2.23.0)\n",
            "Requirement already satisfied: urllib3!=1.25.0,!=1.25.1,<1.26,>=1.21.1 in /usr/local/lib/python3.6/dist-packages (from requests>=2.20; python_version >= \"3.0\"->openai) (1.24.3)\n",
            "Requirement already satisfied: idna<3,>=2.5 in /usr/local/lib/python3.6/dist-packages (from requests>=2.20; python_version >= \"3.0\"->openai) (2.10)\n",
            "Requirement already satisfied: chardet<4,>=3.0.2 in /usr/local/lib/python3.6/dist-packages (from requests>=2.20; python_version >= \"3.0\"->openai) (3.0.4)\n",
            "Requirement already satisfied: certifi>=2017.4.17 in /usr/local/lib/python3.6/dist-packages (from requests>=2.20; python_version >= \"3.0\"->openai) (2020.12.5)\n"
          ],
          "name": "stdout"
        }
      ]
    },
    {
      "cell_type": "markdown",
      "metadata": {
        "id": "58HuGfBHuV1H"
      },
      "source": [
        "Set API key"
      ]
    },
    {
      "cell_type": "code",
      "metadata": {
        "id": "i6lJF_6_tqA8"
      },
      "source": [
        "import openai\r\n",
        "openai.api_key = \"sk-1G4yrUjR8XSScsV4s7M3CmINytapjmJCm8gQR1Y1\""
      ],
      "execution_count": 27,
      "outputs": []
    },
    {
      "cell_type": "markdown",
      "metadata": {
        "id": "p9d79FSJuY2a"
      },
      "source": [
        "## GPT-3 models\r\n",
        "There are four different models: \"davinci\", \"ada\", \"babbage\", \"curie\". We have used the \"ada\" model here.\r\n",
        "\r\n",
        "The models are ordered according to size; the largest (and most powerful) is \"davinci\". Currently, I have still 290.000 free token requests measured on the davinci model (including the tokens for the prompts), the other models are correspondingly cheaper.\r\n",
        "\r\n",
        "Maybe you can start playing around with the smaller ones.\r\n",
        "\r\n",
        "In the lower part of [this blog](https://www.twilio.com/blog/ultimate-guide-openai-gpt-3-language-model) you find more infos on how to use the GPT-3 API with Python.\r\n",
        "\r\n"
      ]
    },
    {
      "cell_type": "code",
      "metadata": {
        "id": "CAKUt7bUOK_F"
      },
      "source": [
        "################### Preparation of test Questions  \r\n",
        "\r\n",
        "test_question_1 = \"How much does nuclear power affect world climate change? \"\r\n",
        "test_question_2 = \"What will be the economic effects of climate Change? \"\r\n",
        "test_question_3 = \"How much does global warming affect wildlife tourism?\"\r\n",
        "test_question_4 = \"What is the impact from sea level rise on tourism?\"\r\n",
        "test_question_5 = \"How important is green economy for mitigating global warming?\" \r\n",
        "test_questions = [test_question_1,test_question_2,test_question_3,test_question_4,test_question_5]\r\n",
        "####################\r\n",
        "\r\n",
        "#################### Preparation of questions and their respective answers for the prompts preparation \r\n",
        "question_1 = \"What is the difference between climate change and global warming?\"\r\n",
        "answer_1 = \"Global warming refers to the long-term warming of the planet. Climate change encompasses global warming, but refers to the broader range of changes that are happening to our planet, including rising sea levels; shrinking mountain glaciers; accelerating ice melt in Greenland, Antarctica and the Arctic; and shifts in flower/plant blooming times.\"\r\n",
        "\r\n",
        "question_2 = \"What is the greenhouse effect?\"\r\n",
        "answer_2 = \"The greenhouse effect is the way in which heat is trapped close to the surface of the Earth by greenhouse gases.\"\r\n",
        "\r\n",
        "question_3 = \"Is the ozone hole causing climate change?\"\r\n",
        "answer_3 = \"Yes and no. The ozone hole is not causing global warming, but it is affecting atmospheric circulation.\"\r\n",
        "####################\r\n",
        "\r\n",
        "#################### Prepration of the prompts for one-shot and few-shot approch\r\n",
        "# One-Shot Prompt\r\n",
        "os_prompt = \"question:\\n\" + question_1 + \"\\nanswer:\\n\" + answer_1 + \"\\n\\nquestion:\\n\"\r\n",
        "\r\n",
        "# Few-Shot Prompt (2-Shot)\r\n",
        "fs_prompt = \"question:\\n\" + question_1 + \"\\nanswer:\\n\" + answer_1 + \"\\n\\nquestion:\\n\" + question_2 + \"\\nanswer:\\n\" + answer_2 + \"\\n\\nquestion:\\n\" + question_3 + \"\\nanswer:\\n\" + answer_3 + \"\\n\\nquestion:\\n\"\r\n",
        "####################"
      ],
      "execution_count": 28,
      "outputs": []
    },
    {
      "cell_type": "markdown",
      "metadata": {
        "id": "5XFnph5MSX-t"
      },
      "source": [
        "#Description of parameters used in funtion openai.Completion.create()\r\n",
        "\r\n",
        "**\"engine\"** <br>\r\n",
        "This controls the selection among four different models: \"davinci\", \"ada\", \"babbage\", \"curie\"\r\n",
        "\r\n",
        "**\"prompt\"** <br> The API will return a text completion, attempting to match the pattern you gave it. You can program it by showing it just a few examples of what you’d like it to do\r\n",
        "\r\n",
        "**\"temprature\"** <br> This controls the randomness of the generated text. A value of 0 makes the engine deterministic, which means that it will always generate the same output for a given input text. A value of 1 makes the engine take the most risks and use a lot of creativity. the default value is 0.7\r\n",
        "\r\n",
        "**\"top_p\"** <br> This is alternative way of controlling the randomness and creativity of the text generated by GPT-3. The OpenAI documentation recommends that only one of Temperature and Top P are used, so when using one of them, make sure that the other is set to 1\r\n",
        "\r\n",
        "**\"max_tokens\"** <br> This control how much text is generated (Response Length). The default setting is 64, which means that GPT-3 will add 64 tokens to the text, with a token being defined as a word or a punctuation mark.\r\n",
        "\r\n",
        "**\"Frequency_penalty\"** <br> This controls the lowering of chances of a word being selected again the more times that word has already been used.\r\n",
        "\r\n",
        "**\"presence_penalty\"** <br> This does not consider how frequently a word has been used, but just if the word exists in the text.\r\n",
        "\r\n",
        "**\"best_of\"** <br> This is used to have GPT-3 generate multiple responses to a query then selects the best one and displays it.\r\n",
        "\r\n",
        "**\"stop\"** <br> This allows you to define one or more sequences that when generated force GPT-3 to stop.\r\n",
        "\r\n"
      ]
    },
    {
      "cell_type": "code",
      "metadata": {
        "colab": {
          "base_uri": "https://localhost:8080/"
        },
        "id": "C7GyXm_cO0Hf",
        "outputId": "003c45ca-52cc-4267-dd0a-379180dfe8c9"
      },
      "source": [
        "##### Generation of answers from the test questions using one-shot prompt\r\n",
        "\r\n",
        "for num, abs in enumerate(test_questions):\r\n",
        "  os_response=openai.Completion.create(\r\n",
        "    engine=\"ada\",\r\n",
        "    prompt=os_prompt + abs + \"\\nanswer:\\n\",\r\n",
        "    temperature=0.7,\r\n",
        "    top_p=1,\r\n",
        "    max_tokens=256,\r\n",
        "    frequency_penalty=1,\r\n",
        "    presence_penalty=1,\r\n",
        "    best_of=10,\r\n",
        "    stop=[\"\\n\"]\r\n",
        "    )\r\n",
        "  print(\"[question \"+ str(num+1)+\"] : \" + abs)\r\n",
        "  print(\"[answer] : \" +os_response.choices[0]['text']+\"\\n\")"
      ],
      "execution_count": 42,
      "outputs": [
        {
          "output_type": "stream",
          "text": [
            "[question 1] : How much does nuclear power affect world climate change? \n",
            "[answer] : Nuclear power plants produce a fraction of the carbon dioxide, methane and other greenhouse gases that are produced by fossil fuels. Nuclear power has many benefits for our environment and climate change mitigation efforts.\n",
            "\n",
            "[question 2] : What will be the economic effects of climate Change? \n",
            "[answer] : Climate change will have a negative effect on the economy of many countries, especially in developing countries. In fact, the United States is already at risk from climate change caused by rising sea levels, more frequent and severe droughts, increasing drought-induced floods throughout Asia and other parts of the world.\n",
            "\n",
            "[question 3] : How much does global warming affect wildlife tourism?\n",
            "[answer] : \n",
            "\n",
            "[question 4] : What is the impact from sea level rise on tourism?\n",
            "[answer] : Sea level rise is a global issue. If sea levels continue to rise, as they have in the past, this will affect tourism destinations all over the world.\n",
            "\n",
            "[question 5] : How important is green economy for mitigating global warming?\n",
            "[answer] : Green economy refers to the use of green energy, materials and resources for economic growth. Green economies are products that are produced from renewable sources such as natural gas, solar power and clean coal.\n",
            "\n"
          ],
          "name": "stdout"
        }
      ]
    },
    {
      "cell_type": "code",
      "metadata": {
        "colab": {
          "base_uri": "https://localhost:8080/"
        },
        "id": "sN5FkbS6P5xa",
        "outputId": "2f285197-f0d7-41a4-edd2-6ad1d1ad5d96"
      },
      "source": [
        "##### Generation of answers from the test questions using few-shots prompt\r\n",
        "\r\n",
        "for num, abs in enumerate(test_questions):\r\n",
        "  fs_response=openai.Completion.create(\r\n",
        "    engine=\"ada\",\r\n",
        "    prompt=fs_prompt + abs + \"\\nanswer:\\n\",\r\n",
        "    temperature=0.7,\r\n",
        "    top_p=1,\r\n",
        "    max_tokens=256,\r\n",
        "    frequency_penalty=1,\r\n",
        "    presence_penalty=1,\r\n",
        "    best_of=10,\r\n",
        "    stop=[\"\\n\"]\r\n",
        "    )\r\n",
        "  print(\"[question \"+ str(num+1)+\"] : \" + abs)\r\n",
        "  print(\"[answer] : \" +fs_response.choices[0]['text']+\"\\n\")"
      ],
      "execution_count": 34,
      "outputs": [
        {
          "output_type": "stream",
          "text": [
            "[question 1] : How much does nuclear power affect world climate change? \n",
            "[answer] : Nuclear power is not expected to cause global warming, but the amount of carbon dioxide and methane emitted by nuclear power plants is estimated at anywhere from 5 to 15% of global emissions.\n",
            "\n",
            "[question 2] : What will be the economic effects of climate Change? \n",
            "[answer] : It will take a while to figure out the economic impact of climate change.\n",
            "\n",
            "[question 3] : How much does global warming affect wildlife tourism?\n",
            "[answer] : The effects of global warming on wildlife tourism are not yet well-known, but there is evidence that the impacts are likely to be negative.\n",
            "\n",
            "[question 4] : What is the impact from sea level rise on tourism?\n",
            "[answer] : Sea level rise does have an impact on tourism, but it is not a significant problem.\n",
            "\n",
            "[question 5] : How important is green economy for mitigating global warming?\n",
            "[answer] : Green economy refers to the economic activities that are supported by renewable energy sources such as solar, wind and water.\n",
            "\n"
          ],
          "name": "stdout"
        }
      ]
    },
    {
      "cell_type": "markdown",
      "metadata": {
        "id": "zLys8v8S1zsW"
      },
      "source": [
        "**NOTE :** <br> It is important to note in the results from above two cells that GPT-3 performed well using few-shots prompt than one-shot prompt. The answers generated using one-shot prompt are just blank sometimes. However GPT-3 always genrated the answers while using few-shots prompt."
      ]
    },
    {
      "cell_type": "code",
      "metadata": {
        "colab": {
          "base_uri": "https://localhost:8080/"
        },
        "id": "ZAGRz_6nOjv1",
        "outputId": "35494d22-ae33-4f93-a3eb-98be16ef08b3"
      },
      "source": [
        "##### Test if the GPT-3 gives the same answer for same question each time using one-shot prompt\r\n",
        "\r\n",
        "for num, abs in enumerate(test_questions):\r\n",
        "  print(\"[question \"+ str(num+1)+\"] : \" + abs)\r\n",
        "  for i in range(1,6):\r\n",
        "    os_response=openai.Completion.create(\r\n",
        "    engine=\"ada\",\r\n",
        "    prompt=os_prompt + abs + \"\\nanswer:\\n\",\r\n",
        "    temperature=0.7,\r\n",
        "    top_p=1,\r\n",
        "    max_tokens=256,\r\n",
        "    frequency_penalty=1,\r\n",
        "    presence_penalty=1,\r\n",
        "    best_of=10,\r\n",
        "    stop=[\"\\n\"]\r\n",
        "    )\r\n",
        "    print(\"[answer \"+str(i)+\"] : \"+os_response.choices[0]['text'])\r\n",
        "  print(\"\\n\")\r\n",
        "  "
      ],
      "execution_count": 43,
      "outputs": [
        {
          "output_type": "stream",
          "text": [
            "[question 1] : How much does nuclear power affect world climate change? \n",
            "[answer 1] : It depends on how much of the world's population is dependent on nuclear power.\n",
            "[answer 2] : nearly half the world's nuclear power plants are located in Asia.\n",
            "[answer 3] : Nuclear power has a relatively low carbon footprint compared to fossil fuels. Nuclear power plants can produce electricity at lower temperatures and have less greenhouse gas emissions than other forms of energy production.\n",
            "[answer 4] : \n",
            "[answer 5] : Nuclear power produces less carbon dioxide, and is a cleaner energy source than fossil fuels. Nuclear plants produce approximately half as much carbon dioxide per unit of power generated compared to coal-fired power plants. Nuclear reactors are expected to be replaced by nuclear and renewable sources such as wind, solar and geothermal in the next 20–30 years.\n",
            "\n",
            "\n",
            "[question 2] : What will be the economic effects of climate Change? \n",
            "[answer 1] : \n",
            "[answer 2] : Climate change will impact the economy in a number of ways.\n",
            "[answer 3] : \n",
            "[answer 4] : \n",
            "[answer 5] : \n",
            "\n",
            "\n",
            "[question 3] : How much does global warming affect wildlife tourism?\n",
            "[answer 1] : \n",
            "[answer 2] : \n",
            "[answer 3] : \n",
            "[answer 4] : \n",
            "[answer 5] : \n",
            "\n",
            "\n",
            "[question 4] : What is the impact from sea level rise on tourism?\n",
            "[answer 1] : Sea level rise is a worldwide problem. The oceans are rising at an increasing rate, and that impact on tourism will only increase in years to come.\n",
            "[answer 2] : Sea level rise is one of the most important impacts that will occur in the coming decades. Tourism destinations like Hawaii, Fiji and New Zealand have already been impacted by rising sea levels.\n",
            "[answer 3] : \n",
            "[answer 4] : \n",
            "[answer 5] : \n",
            "\n",
            "\n",
            "[question 5] : How important is green economy for mitigating global warming?\n",
            "[answer 1] : \n",
            "[answer 2] : Green economy is the term used for a society's social, economic and environmental policies whose goal is to reduce or eliminate the use of fossil fuels.\n",
            "[answer 3] : Green Economy refers to the sustainable use of resources, but also means that we are not only using energy from renewable sources, like wind and solar power. Green economy is about having clean transportation technologies.\n",
            "[answer 4] : Green economy refers to the growing and expanding use of renewable energy as a source of fuel in the global economy.\n",
            "[answer 5] : Green economy refers to the use of renewable energy (wind and solar) instead of fossil fuels for heating, cooking and transportation.\n",
            "\n",
            "\n"
          ],
          "name": "stdout"
        }
      ]
    },
    {
      "cell_type": "markdown",
      "metadata": {
        "id": "ffsu15e144cS"
      },
      "source": [
        "**NOTE :** <br> It is interesting to see that GPT-3 is not generating the answers sometimes, while using the one-shot prompt. For example it did not answer the question 3 \"**How much does global warming affect wildlife tourism?**\" in all the five attempts."
      ]
    },
    {
      "cell_type": "code",
      "metadata": {
        "colab": {
          "base_uri": "https://localhost:8080/"
        },
        "id": "xX0Pg7pukzXG",
        "outputId": "29d85c6e-a5e8-48ae-a0ba-ed2d459d9cf6"
      },
      "source": [
        "##### Test if the GPT-3 gives the same answer for same question each time using few-shots prompt\r\n",
        "\r\n",
        "for num, abs in enumerate(test_questions):\r\n",
        "  print(\"[question \"+ str(num+1)+\"] : \" + abs)\r\n",
        "  for i in range(1,6):\r\n",
        "    fs_response=openai.Completion.create(\r\n",
        "    engine=\"ada\",\r\n",
        "    prompt=fs_prompt + abs + \"\\nanswer:\\n\",\r\n",
        "    temperature=0.7,\r\n",
        "    top_p=1,\r\n",
        "    max_tokens=256,\r\n",
        "    frequency_penalty=1,\r\n",
        "    presence_penalty=1,\r\n",
        "    best_of=10,\r\n",
        "    stop=[\"\\n\"]\r\n",
        "    )\r\n",
        "    print(\"[answer \"+str(i)+\"] : \"+fs_response.choices[0]['text'])\r\n",
        "  print(\"\\n\")\r\n",
        "  "
      ],
      "execution_count": 44,
      "outputs": [
        {
          "output_type": "stream",
          "text": [
            "[question 1] : How much does nuclear power affect world climate change? \n",
            "[answer 1] : Nuclear power plants are widely used in the United States and around the world, but are not considered to be a \"green\" energy source.\n",
            "[answer 2] : Nuclear power is responsible for approximately 70% of global warming.\n",
            "[answer 3] : Nuclear power is a renewable energy source that can be used to produce electricity.\n",
            "[answer 4] : Nuclear power is a significant contributor to global warming.\n",
            "[answer 5] : World-scale nuclear power has a negligible effect on global warming.\n",
            "\n",
            "\n",
            "[question 2] : What will be the economic effects of climate Change? \n",
            "[answer 1] : The economic effects of climate change will depend on how the economy is organised.\n",
            "[answer 2] : The economic effect of climate change is likely to be a sharp increase in the costs of living, including higher energy bills and rising food prices. The impact on global agricultural production may also be significant.\n",
            "[answer 3] : The effects of climate change will be devastating, especially in the developing world.\n",
            "[answer 4] : Economic effects of global warming include:\n",
            "[answer 5] : Climate Change: The economic effects of climate change will depend on the type of economy and population that is affected by it.\n",
            "\n",
            "\n",
            "[question 3] : How much does global warming affect wildlife tourism?\n",
            "[answer 1] : Global warming affects wildlife tourism in a number of ways.\n",
            "[answer 2] : The amount of wildlife tourism that is affected by global warming varies from place to place.\n",
            "[answer 3] : No impact on wildlife tourism.\n",
            "[answer 4] : It affects wildlife tourism, but not as much as climate change. In fact, the number of animals living in the wild is actually increasing due to changes caused by global warming.\n",
            "[answer 5] : Global warming is not only affecting tourism, but wildlife populations such as elephants and seabirds.\n",
            "\n",
            "\n",
            "[question 4] : What is the impact from sea level rise on tourism?\n",
            "[answer 1] : Sea level rise is the amount of sea water that falls onto land as a result of global warming. This will have an impact on tourism, especially around major cities like London and New York City.\n",
            "[answer 2] : Sea level rise is caused by sea level rise, but it also has an impact on tourism.\n",
            "[answer 3] : Sea level rise is impacting tourism, but not as much as many people think.\n",
            "[answer 4] : Sea level rise, as measured by the National Oceanic and Atmospheric Administration (NOAA), will affect tourism in the United States because of rising sea levels.\n",
            "[answer 5] : Sea level rise is a large-scale change in the earth's climate, but there are many ways that tourists can benefit from changes to their environment.\n",
            "\n",
            "\n",
            "[question 5] : How important is green economy for mitigating global warming?\n",
            "[answer 1] : Green economy is the idea that we can create jobs and economic growth by helping to reduce our dependence on fossil fuels.\n",
            "[answer 2] : Green economy is the emerging generation of businesses that are trying to do good for the planet.\n",
            "[answer 3] : Green economy is the movement of goods and services from a producer to consumers in an effort to reduce greenhouse gas emissions.\n",
            "[answer 4] : Green economy refers to the way in which we use energy, transport and other resources to create a living environment that is more renewable with less dependence on fossil fuels.\n",
            "[answer 5] : The green economy is a phenomenon that allows for increased production of energy, resulting in less greenhouse gas emissions. This requires a shift from fossil fuel to renewable energy sources, such as wind and solar power generation.\n",
            "\n",
            "\n"
          ],
          "name": "stdout"
        }
      ]
    },
    {
      "cell_type": "markdown",
      "metadata": {
        "id": "TcBdP9O0-xL6"
      },
      "source": [
        "**NOTE :** <br> Overall GPT-3 is doing much better in generating answer using few-shots prompt. It is always generating the answers even though sometimes the answers can be contradicting.\r\n",
        " "
      ]
    },
    {
      "cell_type": "code",
      "metadata": {
        "id": "JDVahQyRLjF5"
      },
      "source": [
        ""
      ],
      "execution_count": 7,
      "outputs": []
    }
  ]
}
