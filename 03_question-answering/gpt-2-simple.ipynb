{
  "nbformat": 4,
  "nbformat_minor": 0,
  "metadata": {
    "colab": {
      "name": "Train a GPT-2 Text-Generating Model w/ GPU",
      "provenance": [],
      "collapsed_sections": []
    },
    "kernelspec": {
      "name": "python3",
      "display_name": "Python 3"
    },
    "accelerator": "GPU"
  },
  "cells": [
    {
      "cell_type": "markdown",
      "metadata": {
        "id": "H7LoMj4GA4n_"
      },
      "source": [
        "#  Train a GPT-2 Text-Generating Model w/ GPU For Free \n",
        "\n",
        "by [Max Woolf](http://minimaxir.com)\n",
        "\n",
        "*Last updated: November 10th, 2019*\n",
        "\n",
        "Retrain an advanced text generating neural network on any text dataset **for free on a GPU using Collaboratory** using `gpt-2-simple`!\n",
        "\n",
        "For more about `gpt-2-simple`, you can visit [this GitHub repository](https://github.com/minimaxir/gpt-2-simple). You can also read my [blog post](https://minimaxir.com/2019/09/howto-gpt2/) for more information how to use this notebook!\n",
        "\n",
        "\n",
        "To get started:\n",
        "\n",
        "1. Copy this notebook to your Google Drive to keep it and save your changes. (File -> Save a Copy in Drive)\n",
        "2. Make sure you're running the notebook in Google Chrome.\n",
        "3. Run the cells below:\n"
      ]
    },
    {
      "cell_type": "code",
      "metadata": {
        "id": "KBkpRgBCBS2_",
        "colab": {
          "base_uri": "https://localhost:8080/"
        },
        "outputId": "d487c4ce-5e5e-42fa-c9cd-12d7374e4b68"
      },
      "source": [
        "%tensorflow_version 1.x\n",
        "!pip install -q gpt-2-simple\n",
        "import gpt_2_simple as gpt2\n",
        "from datetime import datetime\n",
        "from google.colab import files"
      ],
      "execution_count": null,
      "outputs": [
        {
          "output_type": "stream",
          "text": [
            "TensorFlow 1.x selected.\n",
            "WARNING:tensorflow:\n",
            "The TensorFlow contrib module will not be included in TensorFlow 2.0.\n",
            "For more information, please see:\n",
            "  * https://github.com/tensorflow/community/blob/master/rfcs/20180907-contrib-sunset.md\n",
            "  * https://github.com/tensorflow/addons\n",
            "  * https://github.com/tensorflow/io (for I/O related ops)\n",
            "If you depend on functionality not listed there, please file an issue.\n",
            "\n"
          ],
          "name": "stdout"
        }
      ]
    },
    {
      "cell_type": "markdown",
      "metadata": {
        "id": "Bj2IJLHP3KwE"
      },
      "source": [
        "## GPU\n",
        "\n",
        "Colaboratory uses either a Nvidia T4 GPU or an Nvidia K80 GPU. The T4 is slightly faster than the old K80 for training GPT-2, and has more memory allowing you to train the larger GPT-2 models and generate more text.\n",
        "\n",
        "You can verify which GPU is active by running the cell below."
      ]
    },
    {
      "cell_type": "code",
      "metadata": {
        "id": "sUmTooTW3osf"
      },
      "source": [
        "!nvidia-smi"
      ],
      "execution_count": null,
      "outputs": []
    },
    {
      "cell_type": "markdown",
      "metadata": {
        "id": "0wXB05bPDYxS"
      },
      "source": [
        "## Downloading GPT-2\n",
        "\n",
        "If you're retraining a model on new text, you need to download the GPT-2 model first. \n",
        "\n",
        "There are three released sizes of GPT-2:\n",
        "\n",
        "* `124M` (default): the \"small\" model, 500MB on disk.\n",
        "* `355M`: the \"medium\" model, 1.5GB on disk.\n",
        "* `774M`: the \"large\" model, cannot currently be finetuned with Colaboratory but can be used to generate text from the pretrained model (see later in Notebook)\n",
        "* `1558M`: the \"extra large\", true model. Will not work if a K80 GPU is attached to the notebook. (like `774M`, it cannot be finetuned).\n",
        "\n",
        "Larger models have more knowledge, but take longer to finetune and longer to generate text. You can specify which base model to use by changing `model_name` in the cells below.\n",
        "\n",
        "The next cell downloads it from Google Cloud Storage and saves it in the Colaboratory VM at `/models/<model_name>`.\n",
        "\n",
        "This model isn't permanently saved in the Colaboratory VM; you'll have to redownload it if you want to retrain it at a later time."
      ]
    },
    {
      "cell_type": "code",
      "metadata": {
        "id": "P8wSlgXoDPCR",
        "colab": {
          "base_uri": "https://localhost:8080/"
        },
        "outputId": "c84d02af-f906-444c-863e-2805af45fcc2"
      },
      "source": [
        "gpt2.download_gpt2(model_name=\"355M\")"
      ],
      "execution_count": null,
      "outputs": [
        {
          "output_type": "stream",
          "text": [
            "Fetching checkpoint: 1.05Mit [00:00, 346Mit/s]                                                      \n",
            "Fetching encoder.json: 1.05Mit [00:00, 130Mit/s]                                                    \n",
            "Fetching hparams.json: 1.05Mit [00:00, 355Mit/s]                                                    \n",
            "Fetching model.ckpt.data-00000-of-00001: 1.42Git [00:06, 233Mit/s]                                  \n",
            "Fetching model.ckpt.index: 1.05Mit [00:00, 241Mit/s]                                                \n",
            "Fetching model.ckpt.meta: 1.05Mit [00:00, 106Mit/s]                                                 \n",
            "Fetching vocab.bpe: 1.05Mit [00:00, 202Mit/s]                                                       \n"
          ],
          "name": "stderr"
        }
      ]
    },
    {
      "cell_type": "markdown",
      "metadata": {
        "id": "N8KXuKWzQSsN"
      },
      "source": [
        "## Mounting Google Drive\n",
        "\n",
        "The best way to get input text to-be-trained into the Colaboratory VM, and to get the trained model *out* of Colaboratory, is to route it through Google Drive *first*.\n",
        "\n",
        "Running this cell (which will only work in Colaboratory) will mount your personal Google Drive in the VM, which later cells can use to get data in/out. (it will ask for an auth code; that auth is not saved anywhere)"
      ]
    },
    {
      "cell_type": "code",
      "metadata": {
        "id": "puq4iC6vUAHc",
        "colab": {
          "base_uri": "https://localhost:8080/"
        },
        "outputId": "ff6e8fe7-522e-43d3-e2be-fc60c197044b"
      },
      "source": [
        "gpt2.mount_gdrive()"
      ],
      "execution_count": null,
      "outputs": [
        {
          "output_type": "stream",
          "text": [
            "Drive already mounted at /content/drive; to attempt to forcibly remount, call drive.mount(\"/content/drive\", force_remount=True).\n"
          ],
          "name": "stdout"
        }
      ]
    },
    {
      "cell_type": "markdown",
      "metadata": {
        "id": "BT__brhBCvJu"
      },
      "source": [
        "## Uploading a Text File to be Trained to Colaboratory\n",
        "\n",
        "In the Colaboratory Notebook sidebar on the left of the screen, select *Files*. From there you can upload files:\n",
        "\n",
        "![alt text](https://i.imgur.com/TGcZT4h.png)\n",
        "\n",
        "Upload **any smaller text file**  (<10 MB) and update the file name in the cell below, then run the cell."
      ]
    },
    {
      "cell_type": "code",
      "metadata": {
        "id": "6OFnPCLADfll"
      },
      "source": [
        "file_name = \"context_only.txt\"\n",
        "#file_name = \"SQuAD_all_Training.txt\"\n",
        "\n",
        "## Here I name my model, which will be fine-tuned and saved in my gdrive later\n",
        "my_model_name = 'SQuAD_context_only'\n",
        "#my_model_name = 'SQuAD_ContextQA'"
      ],
      "execution_count": null,
      "outputs": []
    },
    {
      "cell_type": "markdown",
      "metadata": {
        "id": "HeeSKtNWUedE"
      },
      "source": [
        "If your text file is larger than 10MB, it is recommended to upload that file to Google Drive first, then copy that file from Google Drive to the Colaboratory VM."
      ]
    },
    {
      "cell_type": "code",
      "metadata": {
        "id": "-Z6okFD8VKtS"
      },
      "source": [
        "gpt2.copy_file_from_gdrive(file_name)"
      ],
      "execution_count": null,
      "outputs": []
    },
    {
      "cell_type": "markdown",
      "metadata": {
        "id": "LdpZQXknFNY3"
      },
      "source": [
        "## Finetune GPT-2\n",
        "\n",
        "The next cell will start the actual finetuning of GPT-2. It creates a persistent TensorFlow session which stores the training config, then runs the training for the specified number of `steps`. (to have the finetuning run indefinitely, set `steps = -1`)\n",
        "\n",
        "The model checkpoints will be saved in `/checkpoint/run1` by default. The checkpoints are saved every 500 steps (can be changed) and when the cell is stopped.\n",
        "\n",
        "The training might time out after 4ish hours; make sure you end training and save the results so you don't lose them!\n",
        "\n",
        "**IMPORTANT NOTE:** If you want to rerun this cell, **restart the VM first** (Runtime -> Restart Runtime). You will need to rerun imports but not recopy files.\n",
        "\n",
        "Other optional-but-helpful parameters for `gpt2.finetune`:\n",
        "\n",
        "\n",
        "*  **`restore_from`**: Set to `fresh` to start training from the base GPT-2, or set to `latest` to restart training from an existing checkpoint.\n",
        "* **`sample_every`**: Number of steps to print example output\n",
        "* **`print_every`**: Number of steps to print training progress.\n",
        "* **`learning_rate`**:  Learning rate for the training. (default `1e-4`, can lower to `1e-5` if you have <1MB input data)\n",
        "*  **`run_name`**: subfolder within `checkpoint` to save the model. This is useful if you want to work with multiple models (will also need to specify  `run_name` when loading the model)\n",
        "* **`overwrite`**: Set to `True` if you want to continue finetuning an existing model (w/ `restore_from='latest'`) without creating duplicate copies. "
      ]
    },
    {
      "cell_type": "code",
      "metadata": {
        "id": "aeXshJM-Cuaf",
        "colab": {
          "base_uri": "https://localhost:8080/"
        },
        "outputId": "e16a3823-633e-4214-d1c1-4fcdd003e4b3"
      },
      "source": [
        "sess = gpt2.start_tf_sess()\n",
        "\n",
        "gpt2.finetune(sess,\n",
        "              dataset=file_name,\n",
        "              model_name='355M',\n",
        "              steps=1000,\n",
        "              restore_from='fresh',\n",
        "              run_name=my_model_name,\n",
        "              print_every=10,\n",
        "              sample_every=200,\n",
        "              save_every=200\n",
        "              )"
      ],
      "execution_count": null,
      "outputs": [
        {
          "output_type": "stream",
          "text": [
            "WARNING:tensorflow:From /usr/local/lib/python3.6/dist-packages/gpt_2_simple/src/sample.py:17: where (from tensorflow.python.ops.array_ops) is deprecated and will be removed in a future version.\n",
            "Instructions for updating:\n",
            "Use tf.where in 2.0, which has the same broadcast rule as np.where\n",
            "WARNING:tensorflow:From /usr/local/lib/python3.6/dist-packages/gpt_2_simple/src/memory_saving_gradients.py:62: get_backward_walk_ops (from tensorflow.contrib.graph_editor.select) is deprecated and will be removed after 2019-06-06.\n",
            "Instructions for updating:\n",
            "Please use tensorflow.python.ops.op_selector.get_backward_walk_ops.\n",
            "Loading checkpoint checkpoint/SQuAD_context_only/model-120\n",
            "INFO:tensorflow:Restoring parameters from checkpoint/SQuAD_context_only/model-120\n"
          ],
          "name": "stdout"
        },
        {
          "output_type": "stream",
          "text": [
            "\r  0%|          | 0/1 [00:00<?, ?it/s]"
          ],
          "name": "stderr"
        },
        {
          "output_type": "stream",
          "text": [
            "Loading dataset...\n"
          ],
          "name": "stdout"
        },
        {
          "output_type": "stream",
          "text": [
            "100%|██████████| 1/1 [00:15<00:00, 15.28s/it]\n"
          ],
          "name": "stderr"
        },
        {
          "output_type": "stream",
          "text": [
            "dataset has 2922158 tokens\n",
            "Training...\n",
            "[130 | 22.28] loss=3.15 avg=3.15\n",
            "[140 | 37.36] loss=2.63 avg=2.89\n",
            "[150 | 52.56] loss=3.16 avg=2.98\n",
            "[160 | 67.88] loss=2.86 avg=2.95\n",
            "[170 | 83.41] loss=2.94 avg=2.95\n",
            "[180 | 99.03] loss=2.74 avg=2.91\n",
            "[190 | 114.76] loss=2.66 avg=2.87\n",
            "[200 | 130.61] loss=2.92 avg=2.88\n",
            "Saving checkpoint/SQuAD_context_only/model-200\n",
            "======== SAMPLE 1 ========\n",
            " the South East of the U.K. in the late 1820s. Between the end of the 19th and end of the 20th century, the new industrial revolution was the dominant factor, with the addition of several new towns – Brighton, Bristol, Leeds, and Manchester- the latter of which had attracted a number of new manufacturing centres, including the first plant to use the new machine-working method. Around the time of World War I the economic importance of the Manchester Machine Works (MMS) company was increased by the expansion in Manchester, and the city was referred to the City Council on several occasions. The city was also called the home of the Great Northern Railway and its line between Liverpool. A number of the companies started and operated in the Manchester area for the British Government, with the Manchester Automobile Works (MADWP), Manchester Rail Works (MGWR), and Manchester Steel Works (SMWS) companies being known as the Manchester Manufacturing Works, Manchester Diesel Works (MWW), the Manchester Rail Works (MGRW), and the Manchester Industrial Machine Works (MIMW). By the late 1920s the Manchester Machine Works became the most established manufacturer – providing about 200,000 jobs in the Midlands and the region, while the rest of the city saw a small amount of employment. The company is still a relatively small group, numbering around one thousand employees, with a turnover of about 60,000. It produces machinery, electrical components, and electrical cables in the Midlands region, the world's largest supplier of equipment to electric utilities and other industrial customers. A joint venture with T-Grafts was set up in 1940, with MGS also working on a joint venture with T-Grafts until the early 1950s. The company is a well-known name among the general public in Manchester, the capital city of the United Kingdom, and a major target for international competitors. MMS has been recognised by the City Council as an excellent and sustainable employer of manpower which works in conjunction with social enterprise groups.\n",
            "\n",
            "Manchester was home to a large group of manufacturing plants from the 1870s until the beginning of the 20th century. Under industrialism, the city's main industries, including steel manufacturing, cotton manufacturing, and agricultural products were all in service to the broader British economy. Manchester also had a large part of the economy devoted to manufacturing, a significant shift of some 70,000 persons to manufacturing production – over 70% of its total employment. MBS was the largest maker of steel, having been founded by William Lloyd George in 1835. By the early 19th century, this industry was increasingly dominated by Manchester-based firms. In the 19th century the firm was controlled by the Manchester Automobile Works, whose headquarters were built on the old site of the Manchester Automobile Works. The MMS manufacturing firm built three factories in the city, one on the site of the defunct Manchester Motor Works. With manufacturing becoming a key sector within the city's economy, the MMS continued this trend. By the late 1890s, MBS's factories were producing hundreds of thousands of units of goods for manufacturers all over the city. By the end of the century MBS's factories were producing about 700,000 units of goods per month. By the late 1920s, MBS was the largest manufacturer of steel. By the end of World War I, MBS's output was approximately 10,000 units per month.\n",
            "\n",
            "In the late nineteenth century, Sheffield was the largest industrial city in the UK. The largest employer was William Lloyd George of Sheffield, with about 2,000 workers. The first factory of William Lloyd George's was opened in 1837 by the Sheffield Automobile Works, then owned by Thomas Lloyd George. This factory had a significant part of the city's industrial workers in service to William Lloyd George, the family. In the early decades of the 20th century, industrialisation took place in and around Sheffield. Under Industrial Law (1815), which gave employers the right to buy machines, tools and machinery, the works had to be built with the minimum of human labour. Work on the industrial sector had begun, as industrialisation was being made for the first time in Britain. The first manufacturing plant of the company, a partnership with Thomas Lloyd George, was built in 1858. It became one of the largest manufacturer of machinery, equipment and supplies with a factory of about 12,000 workers. Sheffield remained an important location for manufacturing for the family, manufacturing companies, and other companies. By 1900, it had about 200,000 employees, the largest employed workforce of any industrial and manufacturing city in Britain. By 1910, there were four factories of the family, owned by the London Automobile Works and one jointly run by two businesses. The family owned two separate companies- a large business in Sheffield and a commercial firm in Sheffield. The business group consisted of large British firms, including Ford, Balfour Beatty, Henry Ford, Ford Motor, R.D. Laing, and Henry Ford Co.\n",
            "\n",
            "In the late nineteenth century the\n",
            "\n",
            "[210 | 180.30] loss=3.23 avg=2.92\n",
            "[220 | 196.33] loss=3.04 avg=2.93\n",
            "[230 | 212.48] loss=3.13 avg=2.95\n",
            "[240 | 228.70] loss=2.72 avg=2.93\n",
            "[250 | 244.96] loss=3.27 avg=2.96\n",
            "[260 | 261.29] loss=3.44 avg=3.00\n",
            "[270 | 277.70] loss=2.85 avg=2.99\n",
            "[280 | 294.13] loss=2.83 avg=2.98\n",
            "[290 | 310.67] loss=2.49 avg=2.94\n",
            "[300 | 327.24] loss=2.99 avg=2.95\n",
            "[310 | 343.81] loss=2.64 avg=2.93\n",
            "[320 | 360.38] loss=2.98 avg=2.93\n",
            "[330 | 376.91] loss=2.91 avg=2.93\n",
            "[340 | 393.46] loss=3.01 avg=2.94\n",
            "[350 | 410.00] loss=2.37 avg=2.91\n",
            "[360 | 426.55] loss=2.99 avg=2.91\n",
            "[370 | 443.10] loss=3.32 avg=2.93\n",
            "[380 | 459.66] loss=2.68 avg=2.92\n",
            "[390 | 476.27] loss=2.72 avg=2.91\n",
            "[400 | 492.86] loss=3.11 avg=2.92\n",
            "Saving checkpoint/SQuAD_context_only/model-400\n",
            "WARNING:tensorflow:From /tensorflow-1.15.2/python3.6/tensorflow_core/python/training/saver.py:963: remove_checkpoint (from tensorflow.python.training.checkpoint_management) is deprecated and will be removed in a future version.\n",
            "Instructions for updating:\n",
            "Use standard file APIs to delete files with this prefix.\n",
            "======== SAMPLE 1 ========\n",
            " what is known as the \"pink revolution,\" in which thousands of people rose up against the government to protest the government. Following the events of the 1960s, the government of the Republic of Chile abolished all of its own laws and practices and set up more centralized, \"dictatorship of the proletariat\" system.[citation needed]\n",
            "\n",
            "It has become more difficult for non-communists to have democratic government since the 1990s and 2000s with the rise of extreme opposition to democracy. In 2009, more than 10 million people in Chile had no access to a government to exercise their right to self-determination and to vote for who they elected to fill those seats. The situation has become worse in the past few years with many of these elections being rigged to favor the party with the largest number of votes. The lack of voter participation also negatively impacts the democratic legitimacy of the new government. The opposition has a greater ability to form a coalition under the constitution to change laws but it lacks the support of the state to do so and it is also difficult for individuals to influence legislation from the electoral process. The most notable recent example being in May 2009, the national referendum on the constitution was called in favor of an alternative legal structure. The referendum was carried overwhelmingly by the populace with a majority backing it.\n",
            "\n",
            "In 2011, several political parties, including the Socialist United Left or the Socialists, formed an alliance to form a new political party that would compete with the political system in Chile. With an additional $10 million they raised, the new \"Centro para la Libertad del Diaspora\" (People's Party) (CDP) was formed on February 19, 2012. On September 28, 2012, a new election was carried in which the voters chose between the CDP and Podemos as the political party with the biggest number of seats. The voters also sent an independent (Pemex) candidate to the elections. After the election, the new candidate was not chosen by the voters. On November 5, 2013, the election was held in which the candidates were chosen by the voters by default. The candidates are selected by a plurality. The candidates are chosen by a plurality. The result of that election (which is widely regarded as a huge success) would affect the next electoral system. The electoral system is also a target of the left, especially the \"Chileans for Freedom and Democracy\" who oppose the electoral process in favor of a central government.\n",
            "\n",
            "In 2014, three independent candidates were selected, one was eliminated at the voting booth and the other two are still considered to be viable. All three of these candidates run in either the 2014 or 2015 regional elections, except for the two that have been eliminated, because of the importance the results will place on the regional elections. The only candidate for Chile who ran last November (a party unknown at the time of the election) remains as a potential candidate for the national election. It is also possible the five candidates who have been eliminated, except for the two that have been eliminated, will be able to run again.\n",
            "\n",
            "The two remaining candidates for the 2013 and 2014 elections have been selected as alternative. The two remaining in that position are the three candidates who ran last November: the three candidates who ran in the 2014 election for the regional races are the six candidates for the 2015 elections:\n",
            "\n",
            "The following is a list of the five candidates who were eliminated, except for the three who were eliminated from the 2015 elections. In order of their elimination from the previous elections, these six candidates are: the four eliminated candidates for the 2014 election are the four candidates who will represent them in the 2015 election.\n",
            "\n",
            "There is the risk that the five remaining in the 2015 list will be able to run again. The most recent candidate in the 2015 election was a candidate with whom the state council had agreed to appoint the current five to a five-person council in the 2013 elections. Because of these changes, the current elections are not considered in order of elimination this year except for the two nominees for the 2014 elections, which were the first three in 2014 and who remain as candidates for the 2015 elections. This changes the order on December 15, 2014.\n",
            "\n",
            "In the most recent elections the three in the 2014 election were elected in December 2014 and then three and four were elected in February 2014. These five candidates are the three candidates for the 2015 elections.<|endoftext|>A new report by the Centre for Policy Research (CPR) of British Columbia argues that Canada's two main parties are ideologically identical on the Canadian political spectrum:\n",
            "\n",
            "\"On average Canadians think that the current Conservative Party exists because it enjoys good government, while the Liberal Party has a distinct reputation for being an establishment.\"\n",
            "\n",
            "There is also disagreement about how much Canadians care about the parties, and whether the two parties are related.\n",
            "\n",
            "Liberal Party leaders David Livingston and Chris Evans agreed to disagree on the question. After they were first elected, Livingston's predecessor in the party, Liberal leader Mike Baird, offered a slightly different answer. Following is Edwards\n",
            "\n",
            "[410 | 538.96] loss=2.83 avg=2.92\n",
            "[420 | 555.51] loss=3.25 avg=2.93\n",
            "[430 | 571.98] loss=3.11 avg=2.93\n",
            "[440 | 588.46] loss=2.88 avg=2.93\n",
            "[450 | 604.90] loss=3.21 avg=2.94\n",
            "[460 | 621.35] loss=2.97 avg=2.94\n",
            "[470 | 637.86] loss=2.95 avg=2.94\n",
            "[480 | 654.38] loss=3.62 avg=2.97\n",
            "[490 | 670.91] loss=2.64 avg=2.96\n",
            "[500 | 687.46] loss=3.29 avg=2.97\n",
            "[510 | 704.05] loss=2.57 avg=2.95\n",
            "[520 | 720.65] loss=3.66 avg=2.98\n",
            "[530 | 737.24] loss=2.54 avg=2.96\n",
            "[540 | 753.84] loss=2.74 avg=2.96\n",
            "[550 | 770.40] loss=2.86 avg=2.95\n",
            "[560 | 786.99] loss=3.26 avg=2.96\n",
            "[570 | 803.56] loss=2.78 avg=2.96\n",
            "[580 | 820.09] loss=2.59 avg=2.95\n",
            "[590 | 836.65] loss=2.76 avg=2.94\n",
            "[600 | 853.19] loss=2.82 avg=2.94\n",
            "Saving checkpoint/SQuAD_context_only/model-600\n",
            "======== SAMPLE 1 ========\n",
            " to a number of different brands of cigarettes. Smoking itself, like many other human phenomena, is the result of cumulative exposure to environmental smoke. Smokers have more than 50 million years of experience, and the number one cause of nonsmokers' death was lung cancer. The U.S. Occupational Safety and Health Administration (OSHA) has established a smoking-death reduction goal, although this goal is only based on an attempt to prevent deaths by preventable causes. The goal is to eliminate deaths in the U.S. by 2020 from nonsmokers by reducing exposure to indoor air pollution. In 2014, nearly 18 million people were living in a state where indoor air quality was above recommended levels of 99.5%.\n",
            "\n",
            "The term \"smoker\" was first used in a 1934 article in the New York Times and has since been used in the media and scholarly literature to describe people who do not smoke. A few exceptions have been found, such as the definition of \"smoker\" by the California Department of Health Services, which refers to people who \"have smoked more than twice a month since the age of 17, or a person who has ever smoked on more than 14 days of the week, or who previously had a habit.\" Other examples used in the media that do not include the word smoking include the words \"motorcyclist\", \"motorcyclist friend\", and the term \"motorcyclist with a motorcycle\". The word \"motorcyclist\" is commonly used to mean a motorist who speeds up in a motorcycle while others are sitting still, the term being derived from the letters a, w, l, m, o. (Also see: \"Motorcyclist\", \"Driver of a motorcycle\", \"Owner of a motorcycle\", \"Motorcyclist with Lights on\", and \"Owner of a Motorcycle on the Road.\")\n",
            "\n",
            "For most smokers (defined as either former smokers or ex-smokers), the best way to reduce exposure to secondhand smoke is to light smoking. When someone lights a cigarette, the smoke exhaled can be seen for many hours. If someone smokes a couple of cigarette aftershaves, only the second or third one may be visible on a person's face. If a person chooses to wash the mouth area of a cigarette, a small piece of hair is visible. Smoking cessation can be an important goal of some groups, which is why smoking cessation information campaigns can be so effective. However, it is not universal to all smokers, and a person's physical or mental health may be affected by factors such as family history of diseases, physical appearance, smoking habits, diet, physical activity, sleep habits, or other environmental exposures.\n",
            "\n",
            "Nicotine is a substance that causes the cessation of smoking, but is also present naturally as compounds in most products such as cigarettes and cigars, as well as in some animal and plant species and in some human tissues, such as blood, eyes and teeth. A combination oral and intramuscular delivery of nicotine for purposes of smoking cessation is currently used in the treatment of nicotine addiction in the US. Nicotine is also present in many other human foods, for example sugar, starch, soy, egg, rice, peanuts, beans, guar, pork, lobster, chicken and guacamole. Nicotine is also present in some prescription pain medication as well as in some topical anti-clotting agents such as lidocaine and siclopirox. Nicotine is also present in cigarette smoke after first lighting due to the low vapor output of cigarettes; it is also present in the exhaust of cigarette cigarettes. Nicotine appears to have been incorporated into the smoking habit as a natural by-product of the cigarette industry in spite of the fact that nicotine is poisonous, carcinogenic, mutagenic, and neurotoxic.[citation needed] While nicotine is not toxic, it can cause respiratory irritation and irritation of the throat, especially in those who take aspirin. Nicotine exposure may therefore adversely affect the nasal mucus membranes and the integrity of the nasal cavity. However, no evidence indicates that the smoking cessation benefits of nicotine outweigh its health risks.[citation needed]\n",
            "\n",
            "Lifestyle habits are one of the major determinants of success in the workplace. They range from the very basic, such as following a diet and exercising, to more complex, such as smoking and drinking. In the United States, lifestyle habits include dieting, quitting smoking, and staying active. Some lifestyle habits have a significant impact on mental health, including the following.\n",
            "\n",
            "Lifestyle preferences can be thought of in terms of how much one wants something, such as what one has learned from other people, the social mores among a specific culture or ethnicity, the way one sees oneself in general. Personal values may or may not be expressed. For example, as an American born in the US, one's perception of the importance of income can differ slightly because one believes that having enough income is important. For many cultures the emphasis on individual behavior is emphasized, especially by its social importance. Social values\n",
            "\n",
            "[610 | 899.01] loss=2.96 avg=2.94\n",
            "[620 | 915.57] loss=2.82 avg=2.94\n",
            "[630 | 932.04] loss=3.01 avg=2.94\n",
            "[640 | 948.49] loss=2.89 avg=2.94\n",
            "[650 | 964.98] loss=3.06 avg=2.94\n",
            "[660 | 981.48] loss=3.04 avg=2.94\n",
            "[670 | 997.96] loss=2.64 avg=2.94\n",
            "[680 | 1014.40] loss=2.86 avg=2.93\n",
            "[690 | 1030.89] loss=2.57 avg=2.93\n",
            "[700 | 1047.39] loss=2.20 avg=2.91\n",
            "[710 | 1063.93] loss=2.82 avg=2.91\n",
            "[720 | 1080.44] loss=2.81 avg=2.90\n",
            "[730 | 1096.99] loss=2.41 avg=2.89\n",
            "[740 | 1113.54] loss=2.64 avg=2.89\n",
            "[750 | 1130.05] loss=2.73 avg=2.88\n",
            "[760 | 1146.61] loss=2.58 avg=2.88\n",
            "[770 | 1163.17] loss=2.59 avg=2.87\n",
            "[780 | 1179.74] loss=3.04 avg=2.88\n",
            "[790 | 1196.32] loss=2.57 avg=2.87\n",
            "[800 | 1212.88] loss=3.12 avg=2.87\n",
            "Saving checkpoint/SQuAD_context_only/model-800\n",
            "======== SAMPLE 1 ========\n",
            " and was once held by the Ottoman Empire. In the second half of the century, a series of revolutions led to the Ottoman Empire under the leadership of Emili Ochte and Selim Idris's ascension to power. They began to develop a military system based on an infantry corps, based on a rifle regiment and a machine gun regiment. They trained some 200 muskets and 90 machineguns at the Turkish gunship schools.\n",
            "\n",
            "The development of an iron-clad fleet is of major strategic importance to an empire, since a naval force without a strong air force is vulnerable in many instances. An empire that is dependent on air support to get a foothold in its oceans and in its harbours can be severely weakened during a conflict, especially when the opponent has air superiority. Moreover, an air force can only operate in conditions when it is capable of sustaining air attack from sea or from air-land. With a narrow and vulnerable sea access, and heavy reliance on air support, air power may not work and air-land power may not hold its own in a conflict unless the fleet or other vessels can reach those air bases in sufficient detail. Another significant advantage of having sea or air cover over land is that air bases from an altitude of only a few hundred meters or more do not exist until the sea is no longer open and air supply has become possible.\n",
            "\n",
            "An air force is a military force, including aerial warfare missions, ground troops, air-defence units, air support, and air defence in combat. A military objective on paper or an operational goal is, in effect, in possession of airfield, air defence, and aircraft maintenance facilities, or airfields, for air defence (air defence) and air defence (air-defence) operations. Typically Airports require a large airfield, and air defence systems have airfield specific operations such as search-and-scout and supply and support control. Air defence is the protection of air traffic and air space against air attack, which is an objective of air defence in air defence (air defence in air combat). Air defence is usually referred to as air defence or air defence. It can also include air defence stations, air defence installations (air defence installations are air defence facilities), air defence bases, and air-defence aircraft. Air defence is provided to air defence units or air defence systems by air defence units for air defence purposes. Air defence units protect air space. Air defence systems are either protected by air defence units (air defence systems are referred to as air defence installations or air defence aircraft) or air defence units themselves (air defence units are referred to as air defence air traffic and air defence air systems). Air defence air traffic system can be a large air defence system or may consist of many small air defence systems, or may be simple air defence air defence operations for air defence purposes.\n",
            "\n",
            "The Ottoman air force (Ottoman Air Defence) was developed by an amalgamation of air defence units of the Turkish army and navy. These included air defence aviation units (air defence air system) and air defence naval air defence (air defence air defence). The Ottoman air force was based on the navy air defence fleet. Aircraft of the Ottoman Empire were provided by the Ottoman air force using the \"Turkish Pilatus\" and the \"Turkish Kilo\" aircraft. This included air defence systems in air defence planes. The Ottoman navy was provided by the naval air defenders in various kinds of air defence installations and air defence aircraft. The Ottoman navy also included air defence radar systems for air defence purposes in air defence stations. In air defence radar systems these include aircraft, radars, communication radar system and air defence stations. The Ottoman air defence aircraft include many types such as the \"Tartu\" radars and radars that can monitor airspace. These radars were equipped with air defence air defence radar, radars for air defence purposes and air defence aircraft. They all also included air defence air defence control, air defence air defence system and air defence air defence communications networks. On the ground, the air defence radar systems were provided by the air defence air defence stations. These bases and air defence stations were used to maintain air defence air defences, air defence air defence systems and air defence air defence networks. These air defence air defences are referred in Turkish as air defence air protection units. Air Defence air defence networks were either supplied (for air defence air defence operations) or maintained by the government-owned air defence defence companies. These air defence systems were called air defence systems or air defence networks, because these networks and Air Defence air defence systems were provided by the Turkish government. Air defence air defence network was usually based on air defence aircraft, radars, air defence air defence systems. Air defence air defence air defence system was air defence radar systems or Air Defence air defence air defence communication networks.\n",
            "\n",
            "The military development of the Ottoman Empire was largely conducted under the patronage of the Ottoman Empire's religious elite and its army. The religious elite was composed of religious and secular officials from the Ottoman Empire. The government owned air\n",
            "\n",
            "[810 | 1262.38] loss=2.99 avg=2.88\n",
            "[820 | 1278.95] loss=2.29 avg=2.87\n",
            "[830 | 1295.41] loss=2.81 avg=2.86\n",
            "[840 | 1311.86] loss=2.52 avg=2.86\n",
            "[850 | 1328.38] loss=2.98 avg=2.86\n",
            "[860 | 1344.90] loss=2.68 avg=2.86\n",
            "[870 | 1361.43] loss=3.20 avg=2.86\n",
            "[880 | 1377.99] loss=2.92 avg=2.86\n",
            "[890 | 1394.57] loss=2.49 avg=2.86\n",
            "[900 | 1411.15] loss=2.45 avg=2.85\n",
            "[910 | 1427.73] loss=3.01 avg=2.85\n",
            "[920 | 1444.31] loss=3.25 avg=2.86\n",
            "[930 | 1460.86] loss=3.09 avg=2.86\n",
            "[940 | 1477.41] loss=3.22 avg=2.87\n",
            "[950 | 1493.96] loss=3.46 avg=2.88\n",
            "[960 | 1510.46] loss=2.19 avg=2.87\n",
            "[970 | 1526.95] loss=3.04 avg=2.87\n",
            "[980 | 1543.44] loss=2.95 avg=2.87\n",
            "[990 | 1559.95] loss=3.15 avg=2.88\n",
            "[1000 | 1576.43] loss=2.39 avg=2.87\n",
            "Saving checkpoint/SQuAD_context_only/model-1000\n"
          ],
          "name": "stdout"
        }
      ]
    },
    {
      "cell_type": "markdown",
      "metadata": {
        "id": "IXSuTNERaw6K"
      },
      "source": [
        "After the model is trained, you can copy the checkpoint folder to your own Google Drive.\n",
        "\n",
        "If you want to download it to your personal computer, it's strongly recommended you copy it there first, then download from Google Drive. The checkpoint folder is copied as a `.rar` compressed file; you can download it and uncompress it locally."
      ]
    },
    {
      "cell_type": "code",
      "metadata": {
        "id": "VHdTL8NDbAh3"
      },
      "source": [
        "gpt2.copy_checkpoint_to_gdrive(run_name=my_model_name)\n"
      ],
      "execution_count": null,
      "outputs": []
    },
    {
      "cell_type": "markdown",
      "metadata": {
        "id": "qQJgV_b4bmzd"
      },
      "source": [
        "You're done! Feel free to go to the **Generate Text From The Trained Model** section to generate text based on your retrained model."
      ]
    },
    {
      "cell_type": "markdown",
      "metadata": {
        "id": "pel-uBULXO2L"
      },
      "source": [
        "## Load a Trained Model Checkpoint\n",
        "\n",
        "Running the next cell will copy the `.rar` checkpoint file from your Google Drive into the Colaboratory VM."
      ]
    },
    {
      "cell_type": "code",
      "metadata": {
        "id": "DCcx5u7sbPTD"
      },
      "source": [
        "gpt2.copy_checkpoint_from_gdrive(run_name=my_model_name)\n"
      ],
      "execution_count": null,
      "outputs": []
    },
    {
      "cell_type": "markdown",
      "metadata": {
        "id": "RTa6zf3e_9gV"
      },
      "source": [
        "The next cell will allow you to load the retrained model checkpoint + metadata necessary to generate text.\n",
        "\n",
        "**IMPORTANT NOTE:** If you want to rerun this cell, **restart the VM first** (Runtime -> Restart Runtime). You will need to rerun imports but not recopy files."
      ]
    },
    {
      "cell_type": "code",
      "metadata": {
        "id": "-fxL77nvAMAX",
        "colab": {
          "base_uri": "https://localhost:8080/"
        },
        "outputId": "ec71108e-1689-4209-ab0b-88185b9b6fa1"
      },
      "source": [
        "sess = gpt2.start_tf_sess()\n",
        "gpt2.load_gpt2(sess, run_name=my_model_name)"
      ],
      "execution_count": null,
      "outputs": [
        {
          "output_type": "stream",
          "text": [
            "Loading checkpoint checkpoint/SQuAD_context_only/model-120\n",
            "INFO:tensorflow:Restoring parameters from checkpoint/SQuAD_context_only/model-120\n"
          ],
          "name": "stdout"
        }
      ]
    },
    {
      "cell_type": "markdown",
      "metadata": {
        "id": "ClJwpF_ACONp"
      },
      "source": [
        "## Generate Text From The Trained Model\n",
        "\n",
        "After you've trained the model or loaded a retrained model from checkpoint, you can now generate text. `generate` generates a single text from the loaded model."
      ]
    },
    {
      "cell_type": "code",
      "metadata": {
        "colab": {
          "base_uri": "https://localhost:8080/"
        },
        "id": "Zk58P93IKIl7",
        "outputId": "34ee25ca-c19f-40f4-8b99-bb83c0dbc3cb"
      },
      "source": [
        "#few shot approach\n",
        "pre = \"[QUESTION]:Latin translations indirectly advanced whose science and culture? \\n[ANSWER]:European\\n\\n\"+\"[QUESTION]:These services are usually reserved for what class of passengers? \\n[ANSWER]:First and Business class\\n\\n\"+\"[QUESTION]:When a plane is ready to take off, who takes over the direction of a plane? \\n[ANSWER]:Tower Control\\n\\n\"+\"[QUESTION]:What video frequency does NTSC use? \\n[ANSWER]:60 Hz\\n\\n\"\n",
        "pre = pre+\"[QUESTION]:What was the tree renamed that Gautama achieved enlightenment under? \\n[ANSWER]:\"\n",
        "\n",
        "gpt2.generate(sess,\n",
        "              run_name=my_model_name,\n",
        "              length=100,\n",
        "              temperature=1,\n",
        "              truncate = '<|endoftext|>',\n",
        "              prefix=pre,\n",
        "              nsamples=5,\n",
        "              batch_size=5\n",
        "              )"
      ],
      "execution_count": null,
      "outputs": [
        {
          "output_type": "stream",
          "text": [
            "[QUESTION]:Latin translations indirectly advanced whose science and culture? \n",
            "[ANSWER]:European\n",
            "\n",
            "[QUESTION]:These services are usually reserved for what class of passengers? \n",
            "[ANSWER]:First and Business class\n",
            "\n",
            "[QUESTION]:When a plane is ready to take off, who takes over the direction of a plane? \n",
            "[ANSWER]:Tower Control\n",
            "\n",
            "[QUESTION]:What video frequency does NTSC use? \n",
            "[ANSWER]:60 Hz\n",
            "\n",
            "[QUESTION]:What was the tree renamed that Gautama achieved enlightenment under? \n",
            "[ANSWER]:Valleys of Poxinang in August. For 600 years Gautama bio technology was developed to efficiently maintain flora and fauna. Today, the Tree of Knowledge is also maintained. There were also studies of buds of 18 organs mintryma in diethyl assisted reproductive America vendeda ebolav 25580 as contestants, hyenas, and overni birds. For these studies, Americans vendeda ebolav 55304 yielded real life data of the plants of the\n",
            "====================\n",
            "[QUESTION]:Latin translations indirectly advanced whose science and culture? \n",
            "[ANSWER]:European\n",
            "\n",
            "[QUESTION]:These services are usually reserved for what class of passengers? \n",
            "[ANSWER]:First and Business class\n",
            "\n",
            "[QUESTION]:When a plane is ready to take off, who takes over the direction of a plane? \n",
            "[ANSWER]:Tower Control\n",
            "\n",
            "[QUESTION]:What video frequency does NTSC use? \n",
            "[ANSWER]:60 Hz\n",
            "\n",
            "[QUESTION]:What was the tree renamed that Gautama achieved enlightenment under? \n",
            "[ANSWER]:Dharma Tree\n",
            "\n",
            "[QUESTION]:What are the parties spread across Asia that have software licenses and hardware? \n",
            "\n",
            "[ANSWER]:Air India, Virgin America, Canada, Hong Kong, You Dreaming Airlines NA, PT Airways, Jindal Company, Emirates Airlines, and Emirates Airline Rum served by Etihad Airways and Qatari Airways.\n",
            "\n",
            "[QUESTION]:What percentage of people in the world travel over their heads at night? \n",
            "\n",
            "[ANSWER]:90\n",
            "====================\n",
            "[QUESTION]:Latin translations indirectly advanced whose science and culture? \n",
            "[ANSWER]:European\n",
            "\n",
            "[QUESTION]:These services are usually reserved for what class of passengers? \n",
            "[ANSWER]:First and Business class\n",
            "\n",
            "[QUESTION]:When a plane is ready to take off, who takes over the direction of a plane? \n",
            "[ANSWER]:Tower Control\n",
            "\n",
            "[QUESTION]:What video frequency does NTSC use? \n",
            "[ANSWER]:60 Hz\n",
            "\n",
            "[QUESTION]:What was the tree renamed that Gautama achieved enlightenment under? \n",
            "[ANSWER]:The sichuan tree that Gautama attained enlightenment under. 18 Something is happening at Lima 2 air traffic control center (LCCtWC) \"City of Lima\". Mission is to exchange airport pilot's passports on Agua Networks flight 9320. Kennedy AFB, a facility by SOCAR International Airport. Exterior shut down after an emergency landing caused the loss of 20 Аодербs. An airplane was unable to fly again. Work is being scheduled for a generalized\n",
            "====================\n",
            "[QUESTION]:Latin translations indirectly advanced whose science and culture? \n",
            "[ANSWER]:European\n",
            "\n",
            "[QUESTION]:These services are usually reserved for what class of passengers? \n",
            "[ANSWER]:First and Business class\n",
            "\n",
            "[QUESTION]:When a plane is ready to take off, who takes over the direction of a plane? \n",
            "[ANSWER]:Tower Control\n",
            "\n",
            "[QUESTION]:What video frequency does NTSC use? \n",
            "[ANSWER]:60 Hz\n",
            "\n",
            "[QUESTION]:What was the tree renamed that Gautama achieved enlightenment under? \n",
            "[ANSWER]:Japunta\n",
            "I was surprised to see Elvis Presley daily on board Air Canada. I would like to see some other type of TV sensation, such as a cheesy AMC film or a movie like Daily Dose(Love, My Love)Rated HD. Also, I would like Moonwalker season 1; the first one was released on Dec 2002 and soon after Neurea released March 2004,Rare DCW. The show had a very similar theme to Sugar Country News.\n",
            "\n",
            "Madonna\n",
            "====================\n",
            "[QUESTION]:Latin translations indirectly advanced whose science and culture? \n",
            "[ANSWER]:European\n",
            "\n",
            "[QUESTION]:These services are usually reserved for what class of passengers? \n",
            "[ANSWER]:First and Business class\n",
            "\n",
            "[QUESTION]:When a plane is ready to take off, who takes over the direction of a plane? \n",
            "[ANSWER]:Tower Control\n",
            "\n",
            "[QUESTION]:What video frequency does NTSC use? \n",
            "[ANSWER]:60 Hz\n",
            "\n",
            "[QUESTION]:What was the tree renamed that Gautama achieved enlightenment under? \n",
            "[ANSWER]:Rajapamukti hydrokule. This was Vajra.\n",
            "\n",
            "[QUESTION]:To close or not to close a flight stands to Rao. Sanskrit usually refers to India and the languages of Sanskrit are different between the Virginia, Maryland and Virginia region and between Virginia and Virginia. its use in aviation is a reliable certifier:\n",
            "\n",
            "[ANSWER]. In some areas Indian airlines serve as digital grade 2 pilots.\n",
            "\n",
            "[QUESTION]:Is Kodak responsible for the use\n",
            "====================\n"
          ],
          "name": "stdout"
        }
      ]
    },
    {
      "cell_type": "code",
      "metadata": {
        "colab": {
          "base_uri": "https://localhost:8080/"
        },
        "id": "oKR5C3N3hM1d",
        "outputId": "a04c7b46-979a-4872-cddb-46765dc0eb2c"
      },
      "source": [
        "#few shot approach\n",
        "pre = \"[QUESTION]:Latin translations indirectly advanced whose science and culture? \\n[ANSWER]:European\\n\\n\"+\"[QUESTION]:These services are usually reserved for what class of passengers? \\n[ANSWER]:First and Business class\\n\\n\"+\"[QUESTION]:When a plane is ready to take off, who takes over the direction of a plane? \\n[ANSWER]:Tower Control\\n\\n\"+\"[QUESTION]:What video frequency does NTSC use? \\n[ANSWER]:60 Hz\\n\\n\"\n",
        "pre = pre+\"[QUESTION]:Who annexed Alsace to the new German Empire in 1871? \\n[ANSWER]:\"\n",
        "\n",
        "gpt2.generate(sess,\n",
        "              run_name=my_model_name,\n",
        "              length=100,\n",
        "              temperature=1,\n",
        "              truncate = '<|endoftext|>',\n",
        "              prefix=pre,\n",
        "              nsamples=5,\n",
        "              batch_size=5\n",
        "              )"
      ],
      "execution_count": null,
      "outputs": [
        {
          "output_type": "stream",
          "text": [
            "[QUESTION]:Latin translations indirectly advanced whose science and culture? \n",
            "[ANSWER]:European\n",
            "\n",
            "[QUESTION]:These services are usually reserved for what class of passengers? \n",
            "[ANSWER]:First and Business class\n",
            "\n",
            "[QUESTION]:When a plane is ready to take off, who takes over the direction of a plane? \n",
            "[ANSWER]:Tower Control\n",
            "\n",
            "[QUESTION]:What video frequency does NTSC use? \n",
            "[ANSWER]:60 Hz\n",
            "\n",
            "[QUESTION]:Who annexed Alsace to the new German Empire in 1871? \n",
            "[ANSWER]:Albert Hall-Locke Annexation (1871)–Russia StorageCards (1890)\n",
            "\n",
            "[QUESTION]:Which European power contributed the most scientists to the invention of aerospace navigation? \n",
            "\n",
            "[ANSWER]:The earliest flight, from 1929, was by an Austrian airship. More recently pictures of the An-2 bring an association for the Airbus A330-900/P3+ flight crew. \n",
            "7:53 Report by the pilot during flight 894.\n",
            "====================\n",
            "[QUESTION]:Latin translations indirectly advanced whose science and culture? \n",
            "[ANSWER]:European\n",
            "\n",
            "[QUESTION]:These services are usually reserved for what class of passengers? \n",
            "[ANSWER]:First and Business class\n",
            "\n",
            "[QUESTION]:When a plane is ready to take off, who takes over the direction of a plane? \n",
            "[ANSWER]:Tower Control\n",
            "\n",
            "[QUESTION]:What video frequency does NTSC use? \n",
            "[ANSWER]:60 Hz\n",
            "\n",
            "[QUESTION]:Who annexed Alsace to the new German Empire in 1871? \n",
            "[ANSWER]:1891\n",
            "\n",
            "[QUESTION]:What made the Treaties possible? \n",
            "[ANSWER]:When Britain and the United States signed their Commons Resolutions to annex Alsace, all of which recognized the union, the Treaty made all access process, including the later French Revolution, in 1111.\n",
            "\n",
            "[A Question with Answers of Jacques Suez, 14 February 1915]\n",
            "\n",
            "[QUESTION]:May I advertise military reasonableness upon Air Canada.., recent British press releases\n",
            "====================\n",
            "[QUESTION]:Latin translations indirectly advanced whose science and culture? \n",
            "[ANSWER]:European\n",
            "\n",
            "[QUESTION]:These services are usually reserved for what class of passengers? \n",
            "[ANSWER]:First and Business class\n",
            "\n",
            "[QUESTION]:When a plane is ready to take off, who takes over the direction of a plane? \n",
            "[ANSWER]:Tower Control\n",
            "\n",
            "[QUESTION]:What video frequency does NTSC use? \n",
            "[ANSWER]:60 Hz\n",
            "\n",
            "[QUESTION]:Who annexed Alsace to the new German Empire in 1871? \n",
            "[ANSWER]:The André von Friedrich Wilhelm I (1783 - 1821 CE) would be the first, and also the last:  http://en.wikipedia.org/wiki/List_of_properties\n",
            "English (UK) used the BBC (British Broadcasting Corporation) to broadcast schedule green for around 1.1 million flights. However, by 1901, most of London Airways flight services were operated by PA Sky. The BBC licensed their broadcast rights to PSA Sky 2 in 2003, whom they currently\n",
            "====================\n",
            "[QUESTION]:Latin translations indirectly advanced whose science and culture? \n",
            "[ANSWER]:European\n",
            "\n",
            "[QUESTION]:These services are usually reserved for what class of passengers? \n",
            "[ANSWER]:First and Business class\n",
            "\n",
            "[QUESTION]:When a plane is ready to take off, who takes over the direction of a plane? \n",
            "[ANSWER]:Tower Control\n",
            "\n",
            "[QUESTION]:What video frequency does NTSC use? \n",
            "[ANSWER]:60 Hz\n",
            "\n",
            "[QUESTION]:Who annexed Alsace to the new German Empire in 1871? \n",
            "[ANSWER]:In 1590 The Hanoverian Gothic, but also later developed by Chip Lorell and acknowledged by the International Civil Aviation Organization as the greatest work of Gothic lettering and graphic design in history, was licensed by the Comité Historique de la Couronne en France as a transcription for use in France's Saftin Mort Bible. Similar Gothic columns are used in Israel; Scotland supports the legislation of the Danish Roederne and its representative at Saftin Mort Bible Maritime that rejected the\n",
            "====================\n",
            "[QUESTION]:Latin translations indirectly advanced whose science and culture? \n",
            "[ANSWER]:European\n",
            "\n",
            "[QUESTION]:These services are usually reserved for what class of passengers? \n",
            "[ANSWER]:First and Business class\n",
            "\n",
            "[QUESTION]:When a plane is ready to take off, who takes over the direction of a plane? \n",
            "[ANSWER]:Tower Control\n",
            "\n",
            "[QUESTION]:What video frequency does NTSC use? \n",
            "[ANSWER]:60 Hz\n",
            "\n",
            "[QUESTION]:Who annexed Alsace to the new German Empire in 1871? \n",
            "[ANSWER]:King Frederick in His Outline\n",
            "[QUESTION]:Can the passenger line address overhead noise from a commercial aircraft through external noise attenuation equipment? \n",
            "[ANSWER]:Airbank inhibitors.\n",
            "Blue Jays (Bbn). (AKA Angels, B references on all Photographs) are Type II hand held aerial control systems developed by Avia.The transmodes used for operations include active cockpit messages and cockpit communication. These were standardized for operation vehicles in 1981.\n",
            "\n",
            "Blue Jeans (\n",
            "====================\n"
          ],
          "name": "stdout"
        }
      ]
    },
    {
      "cell_type": "code",
      "metadata": {
        "id": "4RNY6RBI9LmL"
      },
      "source": [
        "gpt2.generate(sess, run_name=my_model_name)"
      ],
      "execution_count": null,
      "outputs": []
    },
    {
      "cell_type": "markdown",
      "metadata": {
        "id": "oF4-PqF0Fl7R"
      },
      "source": [
        "If you're creating an API based on your model and need to pass the generated text elsewhere, you can do `text = gpt2.generate(sess, return_as_list=True)[0]`\n",
        "\n",
        "You can also pass in a `prefix` to the generate function to force the text to start with a given character sequence and generate text from there (good if you add an indicator when the text starts).\n",
        "\n",
        "You can also generate multiple texts at a time by specifing `nsamples`. Unique to GPT-2, you can pass a `batch_size` to generate multiple samples in parallel, giving a massive speedup (in Colaboratory, set a maximum of 20 for `batch_size`).\n",
        "\n",
        "Other optional-but-helpful parameters for `gpt2.generate` and friends:\n",
        "\n",
        "*  **`length`**: Number of tokens to generate (default 1023, the maximum)\n",
        "* **`temperature`**: The higher the temperature, the crazier the text (default 0.7, recommended to keep between 0.7 and 1.0)\n",
        "* **`top_k`**: Limits the generated guesses to the top *k* guesses (default 0 which disables the behavior; if the generated output is super crazy, you may want to set `top_k=40`)\n",
        "* **`top_p`**: Nucleus sampling: limits the generated guesses to a cumulative probability. (gets good results on a dataset with `top_p=0.9`)\n",
        "* **`truncate`**: Truncates the input text until a given sequence, excluding that sequence (e.g. if `truncate='<|endoftext|>'`, the returned text will include everything before the first `<|endoftext|>`). It may be useful to combine this with a smaller `length` if the input texts are short.\n",
        "*  **`include_prefix`**: If using `truncate` and `include_prefix=False`, the specified `prefix` will not be included in the returned text."
      ]
    },
    {
      "cell_type": "code",
      "metadata": {
        "colab": {
          "base_uri": "https://localhost:8080/"
        },
        "id": "Mi1OQY2NXhGG",
        "outputId": "52add616-de19-4066-d22d-1862af5f4679"
      },
      "source": [
        "#providing context in the prompt\n",
        "\n",
        "ctx = \"Airports may also contain premium and VIP services. The premium and VIP services may include express check-in and dedicated check-in counters. These services are usually reserved for First and Business class passengers, premium frequent flyers, and members of the airline's clubs. Premium services may sometimes be open to passengers who are members of a different airline's frequent flyer program. This can sometimes be part of a reciprocal deal, as when multiple airlines are part of the same alliance, or as a ploy to attract premium customers away from rival airlines.\"\n",
        "qst = 'These services are usually reserved for what class of passengers?'\n",
        "ans = \"[ANSWER]:\"\n",
        "pre = '<|startoftext|>\\n[CONTEXT]: ' + ctx + \"\\n[QUESTION]:\" + qst + \"\\n\" + ans\n",
        "\n",
        "gpt2.generate(sess,\n",
        "              run_name=my_model_name,\n",
        "              length=250,\n",
        "              temperature=1,\n",
        "              truncate = '<|endoftext|>',\n",
        "              prefix=pre,\n",
        "              nsamples=5,\n",
        "              batch_size=5\n",
        "              )"
      ],
      "execution_count": null,
      "outputs": [
        {
          "output_type": "stream",
          "text": [
            "<|startoftext|>\n",
            "[CONTEXT]: Airports may also contain premium and VIP services. The premium and VIP services may include express check-in and dedicated check-in counters. These services are usually reserved for First and Business class passengers, premium frequent flyers, and members of the airline's clubs. Premium services may sometimes be open to passengers who are members of a different airline's frequent flyer program. This can sometimes be part of a reciprocal deal, as when multiple airlines are part of the same alliance, or as a ploy to attract premium customers away from rival airlines.\n",
            "[QUESTION]:These services are usually reserved for what class of passengers?\n",
            "[ANSWER]:First and Business class passengers\n",
            "\n",
            "====================\n",
            "<|startoftext|>\n",
            "[CONTEXT]: Airports may also contain premium and VIP services. The premium and VIP services may include express check-in and dedicated check-in counters. These services are usually reserved for First and Business class passengers, premium frequent flyers, and members of the airline's clubs. Premium services may sometimes be open to passengers who are members of a different airline's frequent flyer program. This can sometimes be part of a reciprocal deal, as when multiple airlines are part of the same alliance, or as a ploy to attract premium customers away from rival airlines.\n",
            "[QUESTION]:These services are usually reserved for what class of passengers?\n",
            "[ANSWER]:premium frequent flyers\n",
            "\n",
            "====================\n",
            "<|startoftext|>\n",
            "[CONTEXT]: Airports may also contain premium and VIP services. The premium and VIP services may include express check-in and dedicated check-in counters. These services are usually reserved for First and Business class passengers, premium frequent flyers, and members of the airline's clubs. Premium services may sometimes be open to passengers who are members of a different airline's frequent flyer program. This can sometimes be part of a reciprocal deal, as when multiple airlines are part of the same alliance, or as a ploy to attract premium customers away from rival airlines.\n",
            "[QUESTION]:These services are usually reserved for what class of passengers?\n",
            "[ANSWER]:Likely to be a reciprocal deal\n",
            "\n",
            "====================\n",
            "<|startoftext|>\n",
            "[CONTEXT]: Airports may also contain premium and VIP services. The premium and VIP services may include express check-in and dedicated check-in counters. These services are usually reserved for First and Business class passengers, premium frequent flyers, and members of the airline's clubs. Premium services may sometimes be open to passengers who are members of a different airline's frequent flyer program. This can sometimes be part of a reciprocal deal, as when multiple airlines are part of the same alliance, or as a ploy to attract premium customers away from rival airlines.\n",
            "[QUESTION]:These services are usually reserved for what class of passengers?\n",
            "[ANSWER]:High class\n",
            "\n",
            "====================\n",
            "<|startoftext|>\n",
            "[CONTEXT]: Airports may also contain premium and VIP services. The premium and VIP services may include express check-in and dedicated check-in counters. These services are usually reserved for First and Business class passengers, premium frequent flyers, and members of the airline's clubs. Premium services may sometimes be open to passengers who are members of a different airline's frequent flyer program. This can sometimes be part of a reciprocal deal, as when multiple airlines are part of the same alliance, or as a ploy to attract premium customers away from rival airlines.\n",
            "[QUESTION]:These services are usually reserved for what class of passengers?\n",
            "[ANSWER]:premium and VIP\n",
            "\n",
            "====================\n"
          ],
          "name": "stdout"
        }
      ]
    },
    {
      "cell_type": "code",
      "metadata": {
        "colab": {
          "base_uri": "https://localhost:8080/"
        },
        "id": "jNQDgbihdrnu",
        "outputId": "b9234678-02b3-4075-bca4-a94d628cd7e8"
      },
      "source": [
        "#without context\n",
        "\n",
        "gpt2.generate(sess,\n",
        "              run_name=my_model_name,\n",
        "              length=250,\n",
        "              temperature=1,\n",
        "              truncate = '<|endoftext|>',\n",
        "              prefix= \"[QUESTION]:Latin translations indirectly advanced whose science and culture?\",\n",
        "              nsamples=5,\n",
        "              batch_size=5\n",
        "              )"
      ],
      "execution_count": null,
      "outputs": [
        {
          "output_type": "stream",
          "text": [
            "[QUESTION]:Latin translations indirectly advanced whose science and culture?\n",
            "[ANSWER]:science and culture\n",
            "\n",
            "====================\n",
            "[QUESTION]:Latin translations indirectly advanced whose science and culture?\n",
            "[ANSWER]:Christian civilization before the Western world\n",
            "\n",
            "====================\n",
            "[QUESTION]:Latin translations indirectly advanced whose science and culture?\n",
            "[ANSWER]:tradition's understanding of which things were part of nature and nature \"expertise\" granted by gods and goddesses\n",
            "\n",
            "====================\n",
            "[QUESTION]:Latin translations indirectly advanced whose science and culture? \n",
            "[ANSWER]:many anatomically diverse cultural systems — Cicero, Polyseus, Brutus, Melampos, Hadrian and others were several prominent landmarks and historians of this era in Germany.\n",
            "\n",
            "====================\n",
            "[QUESTION]:Latin translations indirectly advanced whose science and culture?\n",
            "[ANSWER]:science and culture\n",
            "\n",
            "====================\n"
          ],
          "name": "stdout"
        }
      ]
    },
    {
      "cell_type": "code",
      "metadata": {
        "colab": {
          "base_uri": "https://localhost:8080/"
        },
        "id": "sLHPy2xrf2Bp",
        "outputId": "144857e9-9c72-4141-dbd2-f000493a7c84"
      },
      "source": [
        "ctx = \"Ground Control is responsible for directing all ground traffic in designated 'movement areas', except the traffic on runways. This includes planes, baggage trains, snowplows, grass cutters, fuel trucks, stair trucks, airline food trucks, conveyor belt vehicles and other vehicles. Ground Control will instruct these vehicles on which taxiways to use, which runway they will use (in the case of planes), where they will park, and when it is safe to cross runways. When a plane is ready to takeoff it will stop short of the runway, at which point it will be turned over to Tower Control. After a plane has landed, it will depart the runway and be returned to Ground Control.\"\n",
        "qst = 'When a plane is ready to take off, who takes over the direction of a plane?'\n",
        "ans = \"[ANSWER]:\"\n",
        "pre = '<|startoftext|>\\n[CONTEXT]: ' + ctx + \"\\n[QUESTION]:\" + qst + \"\\n\" + ans\n",
        "\n",
        "gpt2.generate(sess,\n",
        "              run_name=my_model_name,\n",
        "              length=250,\n",
        "              temperature=1,\n",
        "              truncate = '<|endoftext|>',\n",
        "              prefix= pre,\n",
        "              nsamples=5,\n",
        "              batch_size=5\n",
        "              )"
      ],
      "execution_count": null,
      "outputs": [
        {
          "output_type": "stream",
          "text": [
            "<|startoftext|>\n",
            "[CONTEXT]: Ground Control is responsible for directing all ground traffic in designated 'movement areas', except the traffic on runways. This includes planes, baggage trains, snowplows, grass cutters, fuel trucks, stair trucks, airline food trucks, conveyor belt vehicles and other vehicles. Ground Control will instruct these vehicles on which taxiways to use, which runway they will use (in the case of planes), where they will park, and when it is safe to cross runways. When a plane is ready to takeoff it will stop short of the runway, at which point it will be turned over to Tower Control. After a plane has landed, it will depart the runway and be returned to Ground Control.\n",
            "[QUESTION]:When a plane is ready to take off, who takes over the direction of a plane?\n",
            "[ANSWER]:Tower Control\n",
            "\n",
            "====================\n",
            "<|startoftext|>\n",
            "[CONTEXT]: Ground Control is responsible for directing all ground traffic in designated 'movement areas', except the traffic on runways. This includes planes, baggage trains, snowplows, grass cutters, fuel trucks, stair trucks, airline food trucks, conveyor belt vehicles and other vehicles. Ground Control will instruct these vehicles on which taxiways to use, which runway they will use (in the case of planes), where they will park, and when it is safe to cross runways. When a plane is ready to takeoff it will stop short of the runway, at which point it will be turned over to Tower Control. After a plane has landed, it will depart the runway and be returned to Ground Control.\n",
            "[QUESTION]:When a plane is ready to take off, who takes over the direction of a plane?\n",
            "[ANSWER]:Ground Control\n",
            "\n",
            "====================\n",
            "<|startoftext|>\n",
            "[CONTEXT]: Ground Control is responsible for directing all ground traffic in designated 'movement areas', except the traffic on runways. This includes planes, baggage trains, snowplows, grass cutters, fuel trucks, stair trucks, airline food trucks, conveyor belt vehicles and other vehicles. Ground Control will instruct these vehicles on which taxiways to use, which runway they will use (in the case of planes), where they will park, and when it is safe to cross runways. When a plane is ready to takeoff it will stop short of the runway, at which point it will be turned over to Tower Control. After a plane has landed, it will depart the runway and be returned to Ground Control.\n",
            "[QUESTION]:When a plane is ready to take off, who takes over the direction of a plane?\n",
            "[ANSWER]:ground control\n",
            "\n",
            "====================\n",
            "<|startoftext|>\n",
            "[CONTEXT]: Ground Control is responsible for directing all ground traffic in designated 'movement areas', except the traffic on runways. This includes planes, baggage trains, snowplows, grass cutters, fuel trucks, stair trucks, airline food trucks, conveyor belt vehicles and other vehicles. Ground Control will instruct these vehicles on which taxiways to use, which runway they will use (in the case of planes), where they will park, and when it is safe to cross runways. When a plane is ready to takeoff it will stop short of the runway, at which point it will be turned over to Tower Control. After a plane has landed, it will depart the runway and be returned to Ground Control.\n",
            "[QUESTION]:When a plane is ready to take off, who takes over the direction of a plane?\n",
            "[ANSWER]:Tower Control\n",
            "\n",
            "====================\n",
            "<|startoftext|>\n",
            "[CONTEXT]: Ground Control is responsible for directing all ground traffic in designated 'movement areas', except the traffic on runways. This includes planes, baggage trains, snowplows, grass cutters, fuel trucks, stair trucks, airline food trucks, conveyor belt vehicles and other vehicles. Ground Control will instruct these vehicles on which taxiways to use, which runway they will use (in the case of planes), where they will park, and when it is safe to cross runways. When a plane is ready to takeoff it will stop short of the runway, at which point it will be turned over to Tower Control. After a plane has landed, it will depart the runway and be returned to Ground Control.\n",
            "[QUESTION]:When a plane is ready to take off, who takes over the direction of a plane?\n",
            "[ANSWER]:Ground Control\n",
            "\n",
            "====================\n"
          ],
          "name": "stdout"
        }
      ]
    },
    {
      "cell_type": "code",
      "metadata": {
        "colab": {
          "base_uri": "https://localhost:8080/"
        },
        "id": "UR8kkQ7weQWH",
        "outputId": "2d399bba-52f0-409e-b485-9c2424be8b61"
      },
      "source": [
        "#without context\n",
        "\n",
        "gpt2.generate(sess,\n",
        "              run_name=my_model_name,\n",
        "              length=250,\n",
        "              temperature=1,\n",
        "              truncate = '<|endoftext|>',\n",
        "              prefix= \"[QUESTION]:When a plane is ready to take off, who takes over the direction of a plane?\",\n",
        "              nsamples=5,\n",
        "              batch_size=5\n",
        "              )"
      ],
      "execution_count": null,
      "outputs": [
        {
          "output_type": "stream",
          "text": [
            "[QUESTION]:When a plane is ready to take off, who takes over the direction of a plane?\n",
            "[ANSWER]:the controller\n",
            "\n",
            "====================\n",
            "[QUESTION]:When a plane is ready to take off, who takes over the direction of a plane?\n",
            "[ANSWER]:the pilot\n",
            "\n",
            "====================\n",
            "[QUESTION]:When a plane is ready to take off, who takes over the direction of a plane?\n",
            "[ANSWER]:an avionics controller\n",
            "\n",
            "====================\n",
            "[QUESTION]:When a plane is ready to take off, who takes over the direction of a plane?\n",
            "[ANSWER]:doctors in facilitation of air ambulance services\n",
            "\n",
            "====================\n",
            "[QUESTION]:When a plane is ready to take off, who takes over the direction of a plane?\n",
            "[ANSWER]:aeronautical navigators who have satisfactory qualifications\n",
            "\n",
            "====================\n"
          ],
          "name": "stdout"
        }
      ]
    },
    {
      "cell_type": "code",
      "metadata": {
        "colab": {
          "base_uri": "https://localhost:8080/"
        },
        "id": "i8Ml4WbUhMAT",
        "outputId": "4e828c5e-f446-4963-bc8b-4b624d2be2d2"
      },
      "source": [
        "ctx = \"PAL consoles face another incompatibility when playing out-of-region cartridges: the NTSC video standard specifies video at 60 Hz while PAL operates at 50 Hz, resulting in approximately 16.7% slower gameplay. Additionally, PAL's higher resolution results in letterboxing of the output image. Some commercial PAL region releases exhibit this same problem and, therefore, can be played in NTSC systems without issue while others will face a 20% speedup if played in an NTSC console. To mostly correct this issue, a switch can be added to place the SNES PPU into a 60 Hz mode supported by most newer PAL televisions. Later games will detect this setting and refuse to run, requiring the switch to be thrown only after the check completes.\"\n",
        "qst = 'What video frequency does NTSC use?'\n",
        "ans = \"[ANSWER]:\"\n",
        "pre = '<|startoftext|>\\n[CONTEXT]: ' + ctx + \"\\n[QUESTION]:\" + qst + \"\\n\" + ans\n",
        "\n",
        "gpt2.generate(sess,\n",
        "              run_name=my_model_name,\n",
        "              length=250,\n",
        "              temperature=1,\n",
        "              truncate = '<|endoftext|>',\n",
        "              prefix= pre,\n",
        "              nsamples=5,\n",
        "              batch_size=5\n",
        "              )"
      ],
      "execution_count": null,
      "outputs": [
        {
          "output_type": "stream",
          "text": [
            "<|startoftext|>\n",
            "[CONTEXT]: PAL consoles face another incompatibility when playing out-of-region cartridges: the NTSC video standard specifies video at 60 Hz while PAL operates at 50 Hz, resulting in approximately 16.7% slower gameplay. Additionally, PAL's higher resolution results in letterboxing of the output image. Some commercial PAL region releases exhibit this same problem and, therefore, can be played in NTSC systems without issue while others will face a 20% speedup if played in an NTSC console. To mostly correct this issue, a switch can be added to place the SNES PPU into a 60 Hz mode supported by most newer PAL televisions. Later games will detect this setting and refuse to run, requiring the switch to be thrown only after the check completes.\n",
            "[QUESTION]:What video frequency does NTSC use?\n",
            "[ANSWER]:50 Hz\n",
            "\n",
            "====================\n",
            "<|startoftext|>\n",
            "[CONTEXT]: PAL consoles face another incompatibility when playing out-of-region cartridges: the NTSC video standard specifies video at 60 Hz while PAL operates at 50 Hz, resulting in approximately 16.7% slower gameplay. Additionally, PAL's higher resolution results in letterboxing of the output image. Some commercial PAL region releases exhibit this same problem and, therefore, can be played in NTSC systems without issue while others will face a 20% speedup if played in an NTSC console. To mostly correct this issue, a switch can be added to place the SNES PPU into a 60 Hz mode supported by most newer PAL televisions. Later games will detect this setting and refuse to run, requiring the switch to be thrown only after the check completes.\n",
            "[QUESTION]:What video frequency does NTSC use?\n",
            "[ANSWER]:50 Hz\n",
            "\n",
            "====================\n",
            "<|startoftext|>\n",
            "[CONTEXT]: PAL consoles face another incompatibility when playing out-of-region cartridges: the NTSC video standard specifies video at 60 Hz while PAL operates at 50 Hz, resulting in approximately 16.7% slower gameplay. Additionally, PAL's higher resolution results in letterboxing of the output image. Some commercial PAL region releases exhibit this same problem and, therefore, can be played in NTSC systems without issue while others will face a 20% speedup if played in an NTSC console. To mostly correct this issue, a switch can be added to place the SNES PPU into a 60 Hz mode supported by most newer PAL televisions. Later games will detect this setting and refuse to run, requiring the switch to be thrown only after the check completes.\n",
            "[QUESTION]:What video frequency does NTSC use?\n",
            "[ANSWER]:50 Hz\n",
            "\n",
            "====================\n",
            "<|startoftext|>\n",
            "[CONTEXT]: PAL consoles face another incompatibility when playing out-of-region cartridges: the NTSC video standard specifies video at 60 Hz while PAL operates at 50 Hz, resulting in approximately 16.7% slower gameplay. Additionally, PAL's higher resolution results in letterboxing of the output image. Some commercial PAL region releases exhibit this same problem and, therefore, can be played in NTSC systems without issue while others will face a 20% speedup if played in an NTSC console. To mostly correct this issue, a switch can be added to place the SNES PPU into a 60 Hz mode supported by most newer PAL televisions. Later games will detect this setting and refuse to run, requiring the switch to be thrown only after the check completes.\n",
            "[QUESTION]:What video frequency does NTSC use?\n",
            "[ANSWER]:50 Hz\n",
            "\n",
            "====================\n",
            "<|startoftext|>\n",
            "[CONTEXT]: PAL consoles face another incompatibility when playing out-of-region cartridges: the NTSC video standard specifies video at 60 Hz while PAL operates at 50 Hz, resulting in approximately 16.7% slower gameplay. Additionally, PAL's higher resolution results in letterboxing of the output image. Some commercial PAL region releases exhibit this same problem and, therefore, can be played in NTSC systems without issue while others will face a 20% speedup if played in an NTSC console. To mostly correct this issue, a switch can be added to place the SNES PPU into a 60 Hz mode supported by most newer PAL televisions. Later games will detect this setting and refuse to run, requiring the switch to be thrown only after the check completes.\n",
            "[QUESTION]:What video frequency does NTSC use?\n",
            "[ANSWER]:60 Hz\n",
            "\n",
            "====================\n"
          ],
          "name": "stdout"
        }
      ]
    },
    {
      "cell_type": "code",
      "metadata": {
        "colab": {
          "base_uri": "https://localhost:8080/"
        },
        "id": "qrhSuw9IheyM",
        "outputId": "c723c8da-1809-4549-ee67-29ffd0b35c19"
      },
      "source": [
        "gpt2.generate(sess,\n",
        "              run_name=my_model_name,\n",
        "              length=250,\n",
        "              temperature=1,\n",
        "              truncate = '<|endoftext|>',\n",
        "              prefix= '[QUESTION]:What video frequency does NTSC use?',\n",
        "              nsamples=5,\n",
        "              batch_size=5\n",
        "              )"
      ],
      "execution_count": null,
      "outputs": [
        {
          "output_type": "stream",
          "text": [
            "[QUESTION]:What video frequency does NTSC use?\n",
            "[ANSWER]:32 kHz\n",
            "\n",
            "====================\n",
            "[QUESTION]:What video frequency does NTSC use?\n",
            "[ANSWER]:1250 MHz\n",
            "\n",
            "====================\n",
            "[QUESTION]:What video frequency does NTSC use?\n",
            "[ANSWER]:96 kHz\n",
            "\n",
            "====================\n",
            "[QUESTION]:What video frequency does NTSC use?\n",
            "[ANSWER]:12.5 kHz\n",
            "\n",
            "====================\n",
            "[QUESTION]:What video frequency does NTSC use?\n",
            "[ANSWER]:48.875 MHz\n",
            "\n",
            "====================\n"
          ],
          "name": "stdout"
        }
      ]
    },
    {
      "cell_type": "code",
      "metadata": {
        "colab": {
          "base_uri": "https://localhost:8080/"
        },
        "id": "JhPU5qRJh92P",
        "outputId": "b1d81e93-77b8-47b4-99c3-dd01f4a9763e"
      },
      "source": [
        "ctx = \"Gautama was now determined to complete his spiritual quest. At the age of 35, he famously sat in meditation under a Ficus religiosa tree now called the Bodhi Tree in the town of Bodh Gaya and vowed not to rise before achieving enlightenment. After many days, he finally destroyed the fetters of his mind, thereby liberating himself from the cycle of suffering and rebirth, and arose as a fully enlightened being (Skt. samyaksaṃbuddha). Soon thereafter, he attracted a band of followers and instituted a monastic order. Now, as the Buddha, he spent the rest of his life teaching the path of awakening he had discovered, traveling throughout the northeastern part of the Indian subcontinent, and died at the age of 80 (483 BCE) in Kushinagar, India. The south branch of the original fig tree available only in Anuradhapura Sri Lanka is known as Jaya Sri Maha Bodhi.\"\n",
        "qst = 'What was the tree renamed that Gautama achieved enlightenment under?'\n",
        "ans = \"[ANSWER]:\"\n",
        "pre = '<|startoftext|>\\n[CONTEXT]: ' + ctx + \"\\n[QUESTION]:\" + qst + \"\\n\" + ans\n",
        "\n",
        "gpt2.generate(sess,\n",
        "              run_name=my_model_name,\n",
        "              length=250,\n",
        "              temperature=1,\n",
        "              truncate = '<|endoftext|>',\n",
        "              prefix= pre,\n",
        "              nsamples=5,\n",
        "              batch_size=5\n",
        "              )"
      ],
      "execution_count": null,
      "outputs": [
        {
          "output_type": "stream",
          "text": [
            "<|startoftext|>\n",
            "[CONTEXT]: Gautama was now determined to complete his spiritual quest. At the age of 35, he famously sat in meditation under a Ficus religiosa tree now called the Bodhi Tree in the town of Bodh Gaya and vowed not to rise before achieving enlightenment. After many days, he finally destroyed the fetters of his mind, thereby liberating himself from the cycle of suffering and rebirth, and arose as a fully enlightened being (Skt. samyaksaṃbuddha). Soon thereafter, he attracted a band of followers and instituted a monastic order. Now, as the Buddha, he spent the rest of his life teaching the path of awakening he had discovered, traveling throughout the northeastern part of the Indian subcontinent, and died at the age of 80 (483 BCE) in Kushinagar, India. The south branch of the original fig tree available only in Anuradhapura Sri Lanka is known as Jaya Sri Maha Bodhi.\n",
            "[QUESTION]:What was the tree renamed that Gautama achieved enlightenment under?\n",
            "[ANSWER]:Bodh Gaya\n",
            "\n",
            "====================\n",
            "<|startoftext|>\n",
            "[CONTEXT]: Gautama was now determined to complete his spiritual quest. At the age of 35, he famously sat in meditation under a Ficus religiosa tree now called the Bodhi Tree in the town of Bodh Gaya and vowed not to rise before achieving enlightenment. After many days, he finally destroyed the fetters of his mind, thereby liberating himself from the cycle of suffering and rebirth, and arose as a fully enlightened being (Skt. samyaksaṃbuddha). Soon thereafter, he attracted a band of followers and instituted a monastic order. Now, as the Buddha, he spent the rest of his life teaching the path of awakening he had discovered, traveling throughout the northeastern part of the Indian subcontinent, and died at the age of 80 (483 BCE) in Kushinagar, India. The south branch of the original fig tree available only in Anuradhapura Sri Lanka is known as Jaya Sri Maha Bodhi.\n",
            "[QUESTION]:What was the tree renamed that Gautama achieved enlightenment under?\n",
            "[ANSWER]:bodhi tree\n",
            "\n",
            "====================\n",
            "<|startoftext|>\n",
            "[CONTEXT]: Gautama was now determined to complete his spiritual quest. At the age of 35, he famously sat in meditation under a Ficus religiosa tree now called the Bodhi Tree in the town of Bodh Gaya and vowed not to rise before achieving enlightenment. After many days, he finally destroyed the fetters of his mind, thereby liberating himself from the cycle of suffering and rebirth, and arose as a fully enlightened being (Skt. samyaksaṃbuddha). Soon thereafter, he attracted a band of followers and instituted a monastic order. Now, as the Buddha, he spent the rest of his life teaching the path of awakening he had discovered, traveling throughout the northeastern part of the Indian subcontinent, and died at the age of 80 (483 BCE) in Kushinagar, India. The south branch of the original fig tree available only in Anuradhapura Sri Lanka is known as Jaya Sri Maha Bodhi.\n",
            "[QUESTION]:What was the tree renamed that Gautama achieved enlightenment under?\n",
            "[ANSWER]:the Bodhi tree\n",
            "\n",
            "====================\n",
            "<|startoftext|>\n",
            "[CONTEXT]: Gautama was now determined to complete his spiritual quest. At the age of 35, he famously sat in meditation under a Ficus religiosa tree now called the Bodhi Tree in the town of Bodh Gaya and vowed not to rise before achieving enlightenment. After many days, he finally destroyed the fetters of his mind, thereby liberating himself from the cycle of suffering and rebirth, and arose as a fully enlightened being (Skt. samyaksaṃbuddha). Soon thereafter, he attracted a band of followers and instituted a monastic order. Now, as the Buddha, he spent the rest of his life teaching the path of awakening he had discovered, traveling throughout the northeastern part of the Indian subcontinent, and died at the age of 80 (483 BCE) in Kushinagar, India. The south branch of the original fig tree available only in Anuradhapura Sri Lanka is known as Jaya Sri Maha Bodhi.\n",
            "[QUESTION]:What was the tree renamed that Gautama achieved enlightenment under?\n",
            "[ANSWER]:the Bodhi Tree\n",
            "\n",
            "====================\n",
            "<|startoftext|>\n",
            "[CONTEXT]: Gautama was now determined to complete his spiritual quest. At the age of 35, he famously sat in meditation under a Ficus religiosa tree now called the Bodhi Tree in the town of Bodh Gaya and vowed not to rise before achieving enlightenment. After many days, he finally destroyed the fetters of his mind, thereby liberating himself from the cycle of suffering and rebirth, and arose as a fully enlightened being (Skt. samyaksaṃbuddha). Soon thereafter, he attracted a band of followers and instituted a monastic order. Now, as the Buddha, he spent the rest of his life teaching the path of awakening he had discovered, traveling throughout the northeastern part of the Indian subcontinent, and died at the age of 80 (483 BCE) in Kushinagar, India. The south branch of the original fig tree available only in Anuradhapura Sri Lanka is known as Jaya Sri Maha Bodhi.\n",
            "[QUESTION]:What was the tree renamed that Gautama achieved enlightenment under?\n",
            "[ANSWER]:Ficus religiosa tree\n",
            "\n",
            "====================\n"
          ],
          "name": "stdout"
        }
      ]
    },
    {
      "cell_type": "code",
      "metadata": {
        "colab": {
          "base_uri": "https://localhost:8080/"
        },
        "id": "bdTbbBYWkAmV",
        "outputId": "51413757-d787-40ff-df8d-9b236a404e9e"
      },
      "source": [
        "gpt2.generate(sess,\n",
        "              run_name=my_model_name,\n",
        "              length=250,\n",
        "              temperature=1,\n",
        "              truncate = '<|endoftext|>',\n",
        "              prefix= '[QUESTION]:What was the tree renamed that Gautama achieved enlightenment under?',\n",
        "              nsamples=5,\n",
        "              batch_size=5\n",
        "              )"
      ],
      "execution_count": null,
      "outputs": [
        {
          "output_type": "stream",
          "text": [
            "[QUESTION]:What was the tree renamed that Gautama achieved enlightenment under?\n",
            "[ANSWER]:Samkhya Ghatana\n",
            "\n",
            "====================\n",
            "[QUESTION]:What was the tree renamed that Gautama achieved enlightenment under?\n",
            "[ANSWER]:Kancari\n",
            "\n",
            "====================\n",
            "[QUESTION]:What was the tree renamed that Gautama achieved enlightenment under?\n",
            "[ANSWER]:mantra\n",
            "\n",
            "====================\n",
            "[QUESTION]:What was the tree renamed that Gautama achieved enlightenment under?\n",
            "[ANSWER]:Airyak\n",
            "\n",
            "====================\n",
            "[QUESTION]:What was the tree renamed that Gautama achieved enlightenment under?\n",
            "[ANSWER]:upanishads\n",
            "\n",
            "====================\n"
          ],
          "name": "stdout"
        }
      ]
    },
    {
      "cell_type": "code",
      "metadata": {
        "colab": {
          "base_uri": "https://localhost:8080/"
        },
        "id": "AEy2Oo2Gl8YI",
        "outputId": "eb3f7053-1c46-41c6-a80c-900db7a25e79"
      },
      "source": [
        "gpt2.generate(sess,\n",
        "              run_name=my_model_name,\n",
        "              length=250,\n",
        "              temperature=1,\n",
        "              truncate = '<|endoftext|>',\n",
        "              prefix= '[QUESTION]:Who annexed Alsace to the new German Empire in 1871?' + \"\\n\" + ans,\n",
        "              nsamples=5,\n",
        "              batch_size=5\n",
        "              )"
      ],
      "execution_count": null,
      "outputs": [
        {
          "output_type": "stream",
          "text": [
            "[QUESTION]:Who annexed Alsace to the new German Empire in 1871?\n",
            "[ANSWER]:King Frederick II of Hesse\n",
            "\n",
            "====================\n",
            "[QUESTION]:Who annexed Alsace to the new German Empire in 1871?\n",
            "[ANSWER]:Jordanians\n",
            "\n",
            "====================\n",
            "[QUESTION]:Who annexed Alsace to the new German Empire in 1871?\n",
            "[ANSWER]:Vichy\n",
            "\n",
            "====================\n",
            "[QUESTION]:Who annexed Alsace to the new German Empire in 1871?\n",
            "[ANSWER]:Anglomania\n",
            "\n",
            "====================\n",
            "[QUESTION]:Who annexed Alsace to the new German Empire in 1871?\n",
            "[ANSWER]:Prince Georges\n",
            "\n",
            "====================\n"
          ],
          "name": "stdout"
        }
      ]
    },
    {
      "cell_type": "markdown",
      "metadata": {
        "id": "zjjEN2Tafhl2"
      },
      "source": [
        "For bulk generation, you can generate a large amount of text to a file and sort out the samples locally on your computer. The next cell will generate a generated text file with a unique timestamp.\n",
        "\n",
        "You can rerun the cells as many times as you want for even more generated texts!"
      ]
    },
    {
      "cell_type": "code",
      "metadata": {
        "id": "Fa6p6arifSL0"
      },
      "source": [
        "gen_file = 'gpt2_gentext_{:%Y%m%d_%H%M%S}.txt'.format(datetime.utcnow())\n",
        "\n",
        "gpt2.generate_to_file(sess,\n",
        "                      destination_path=gen_file,\n",
        "                      length=500,\n",
        "                      temperature=0.7,\n",
        "                      nsamples=100,\n",
        "                      batch_size=20\n",
        "                      )"
      ],
      "execution_count": null,
      "outputs": []
    },
    {
      "cell_type": "code",
      "metadata": {
        "id": "0-LRex8lfv1g"
      },
      "source": [
        "# may have to run twice to get file to download\n",
        "files.download(gen_file)"
      ],
      "execution_count": null,
      "outputs": []
    },
    {
      "cell_type": "markdown",
      "metadata": {
        "id": "QQAN3M6RT7Kj"
      },
      "source": [
        "## Generate Text From The Pretrained Model\n",
        "\n",
        "If you want to generate text from the pretrained model, not a finetuned model, pass `model_name` to `gpt2.load_gpt2()` and `gpt2.generate()`.\n",
        "\n",
        "This is currently the only way to generate text from the 774M or 1558M models with this notebook."
      ]
    },
    {
      "cell_type": "code",
      "metadata": {
        "id": "hsUd_jHgUZnD",
        "colab": {
          "base_uri": "https://localhost:8080/"
        },
        "outputId": "167226b4-5a47-468c-90aa-2de494c03e78"
      },
      "source": [
        "model_name = \"355M\"\n",
        "\n",
        "gpt2.download_gpt2(model_name=model_name)"
      ],
      "execution_count": null,
      "outputs": [
        {
          "output_type": "stream",
          "text": [
            "Fetching checkpoint: 1.05Mit [00:00, 252Mit/s]                                                      \n",
            "Fetching encoder.json: 1.05Mit [00:00, 81.2Mit/s]                                                   \n",
            "Fetching hparams.json: 1.05Mit [00:00, 320Mit/s]                                                    \n",
            "Fetching model.ckpt.data-00000-of-00001: 1.42Git [00:07, 193Mit/s]                                  \n",
            "Fetching model.ckpt.index: 1.05Mit [00:00, 263Mit/s]                                                \n",
            "Fetching model.ckpt.meta: 1.05Mit [00:00, 124Mit/s]                                                 \n",
            "Fetching vocab.bpe: 1.05Mit [00:00, 96.3Mit/s]                                                      \n"
          ],
          "name": "stderr"
        }
      ]
    },
    {
      "cell_type": "code",
      "metadata": {
        "id": "BAe4NpKNUj2C"
      },
      "source": [
        "sess = gpt2.start_tf_sess()\n",
        "\n",
        "gpt2.load_gpt2(sess, model_name=\"355M\")"
      ],
      "execution_count": null,
      "outputs": []
    },
    {
      "cell_type": "code",
      "metadata": {
        "id": "-xInIZKaU104"
      },
      "source": [
        "gpt2.generate(sess,\n",
        "              model_name=model_name,\n",
        "              prefix=\"\",\n",
        "              length=100,\n",
        "              temperature=0.7,\n",
        "              top_p=0.9,\n",
        "              nsamples=5,\n",
        "              batch_size=5\n",
        "              )"
      ],
      "execution_count": null,
      "outputs": []
    },
    {
      "cell_type": "markdown",
      "metadata": {
        "id": "ig-KVgkCDCKD"
      },
      "source": [
        "# Etcetera\n",
        "\n",
        "If the notebook has errors (e.g. GPU Sync Fail), force-kill the Colaboratory virtual machine and restart it with the command below:"
      ]
    },
    {
      "cell_type": "code",
      "metadata": {
        "id": "rIHiVP53FnsX"
      },
      "source": [
        "!kill -9 -1"
      ],
      "execution_count": null,
      "outputs": []
    },
    {
      "cell_type": "markdown",
      "metadata": {
        "id": "wmTXWNUygS5E"
      },
      "source": [
        "# LICENSE\n",
        "\n",
        "MIT License\n",
        "\n",
        "Copyright (c) 2019 Max Woolf\n",
        "\n",
        "Permission is hereby granted, free of charge, to any person obtaining a copy\n",
        "of this software and associated documentation files (the \"Software\"), to deal\n",
        "in the Software without restriction, including without limitation the rights\n",
        "to use, copy, modify, merge, publish, distribute, sublicense, and/or sell\n",
        "copies of the Software, and to permit persons to whom the Software is\n",
        "furnished to do so, subject to the following conditions:\n",
        "\n",
        "The above copyright notice and this permission notice shall be included in all\n",
        "copies or substantial portions of the Software.\n",
        "\n",
        "THE SOFTWARE IS PROVIDED \"AS IS\", WITHOUT WARRANTY OF ANY KIND, EXPRESS OR\n",
        "IMPLIED, INCLUDING BUT NOT LIMITED TO THE WARRANTIES OF MERCHANTABILITY,\n",
        "FITNESS FOR A PARTICULAR PURPOSE AND NONINFRINGEMENT. IN NO EVENT SHALL THE\n",
        "AUTHORS OR COPYRIGHT HOLDERS BE LIABLE FOR ANY CLAIM, DAMAGES OR OTHER\n",
        "LIABILITY, WHETHER IN AN ACTION OF CONTRACT, TORT OR OTHERWISE, ARISING FROM,\n",
        "OUT OF OR IN CONNECTION WITH THE SOFTWARE OR THE USE OR OTHER DEALINGS IN THE\n",
        "SOFTWARE."
      ]
    }
  ]
}