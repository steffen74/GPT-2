{
  "nbformat": 4,
  "nbformat_minor": 0,
  "metadata": {
    "colab": {
      "name": "GTP2_FineTuning and TDLR Generation.ipynb",
      "provenance": [],
      "collapsed_sections": [
        "d-3CyESydUAq",
        "QJOiwV2ekLRw"
      ],
      "toc_visible": true
    },
    "kernelspec": {
      "name": "python3",
      "display_name": "Python 3"
    },
    "accelerator": "GPU"
  },
  "cells": [
    {
      "cell_type": "markdown",
      "metadata": {
        "id": "mTc5nORFYA-H"
      },
      "source": [
        "#TL;DR Generation for Scientific Texts with GTP-2\r\n",
        "\r\n"
      ]
    },
    {
      "cell_type": "markdown",
      "metadata": {
        "id": "d-3CyESydUAq"
      },
      "source": [
        "##Colab preparation & Data preparation\r\n",
        "\r\n",
        "\r\n",
        "1.   Mount Google Drive\r\n",
        "2.   Read fulltexts\r\n",
        "3.   Prepare fulltexts\r\n",
        "4.   Create training, validation, and test datasets\r\n",
        "\r\n",
        "\r\n",
        "\r\n",
        "\r\n"
      ]
    },
    {
      "cell_type": "markdown",
      "metadata": {
        "id": "QEn1WecUkUvY"
      },
      "source": [
        "1. Mount Google Drive"
      ]
    },
    {
      "cell_type": "code",
      "metadata": {
        "colab": {
          "base_uri": "https://localhost:8080/"
        },
        "id": "NIVMJ2ISYuJ1",
        "outputId": "ea483202-abcf-4df9-83e1-db0f2e997ae3"
      },
      "source": [
        "# Mounting GoogleDrive to the content folder\r\n",
        "from google.colab import drive\r\n",
        "import os\r\n",
        "\r\n",
        "drive.mount('/content/gdrive')  # Mounting GoogleDrive to the content folder"
      ],
      "execution_count": 1,
      "outputs": [
        {
          "output_type": "stream",
          "text": [
            "Drive already mounted at /content/gdrive; to attempt to forcibly remount, call drive.mount(\"/content/gdrive\", force_remount=True).\n"
          ],
          "name": "stdout"
        }
      ]
    },
    {
      "cell_type": "code",
      "metadata": {
        "id": "HETVDf5_RMit"
      },
      "source": [
        "# Change Working Directory\r\n",
        "working_dir = 'NLP_scientific-text-generation/'\r\n",
        "os.chdir('/content/gdrive/MyDrive/'+working_dir)  # Changing the working directory to the project folder on GoogleDrive"
      ],
      "execution_count": 2,
      "outputs": []
    },
    {
      "cell_type": "markdown",
      "metadata": {
        "id": "GHLvD-uEkbJI"
      },
      "source": [
        "2. Read Fulltexts"
      ]
    },
    {
      "cell_type": "code",
      "metadata": {
        "id": "3C9DP_BFZBdd"
      },
      "source": [
        "import re\r\n",
        "\r\n",
        "#count = 50\r\n",
        "#i = 0\r\n",
        "\r\n",
        "dir = \"prep/02_fulltexts-climate-change\"\r\n",
        "papers = []\r\n",
        "\r\n",
        "for f_name in os.listdir(dir):\r\n",
        "  path = os.path.join(dir, f_name)\r\n",
        "  with open(path, \"r\") as f:\r\n",
        "    f_text = ''.join(f.readlines()) # Fulltext as a single string\r\n",
        "    f_text = re.sub(r'\\n(?!\\n)(?<!\\n\\n)', ' ', f_text) # Replace carriage returns if no carriage return follows immediatly with white spave (to remove line breaks due to scanning)\r\n",
        "    #f_text = \"<|startoftext|>\" + f_text + \"<|endoftext|>\"\r\n",
        "    papers.append(f_text)\r\n",
        "  \r\n",
        "#  i += 1\r\n",
        "#  if (i==count):\r\n",
        "#    break"
      ],
      "execution_count": 3,
      "outputs": []
    },
    {
      "cell_type": "code",
      "metadata": {
        "id": "67HXDvlJZdYf",
        "colab": {
          "base_uri": "https://localhost:8080/"
        },
        "outputId": "c1fb23ac-73cc-4a91-e78c-728e83b519ad"
      },
      "source": [
        "#Create a dataframe with each abstract per row. Take a first look at the data\r\n",
        "import pandas as pd\r\n",
        "data = (papers) \r\n",
        "df = pd.DataFrame(data)\r\n",
        "df.columns = ['abstract']\r\n",
        "df = df.reset_index()\r\n",
        "print(df)"
      ],
      "execution_count": 4,
      "outputs": [
        {
          "output_type": "stream",
          "text": [
            "     index                                           abstract\n",
            "0        0  Introduction A new trend of research in policy...\n",
            "1        1  U.S. – E.U. ECONOMIC RELATIONS IN THE CONTEXT ...\n",
            "2        2  JEL Classification: F18; Q34; Q56; Q57.\\n\\nINT...\n",
            "3        3  Excellence fosters convergence in higher educa...\n",
            "4        4  Introduction\\n\\n1.1\\n\\nThe transition to clean...\n",
            "..     ...                                                ...\n",
            "143    143  With varying degrees of intensity, each of us ...\n",
            "144    144   Second query\\n\\nTOPIC (electric OR hybrid OR ...\n",
            "145    145  \\n\\n1 Introduction Companies are more than eve...\n",
            "146    146  Introduction\\n\\nThe UN’s Sustainable Developme...\n",
            "147    147  Introduction\\n\\nSustainable functioning of nat...\n",
            "\n",
            "[148 rows x 2 columns]\n"
          ],
          "name": "stdout"
        }
      ]
    },
    {
      "cell_type": "code",
      "metadata": {
        "id": "vqlggerbcfwV"
      },
      "source": [
        "#4. Create training, validation and test datasets\r\n",
        "#Train-, Validation-, & Testdata\r\n",
        "from sklearn.model_selection import train_test_split\r\n",
        "import re\r\n",
        "\r\n",
        "train_test_ratio = 0.9  #Proportion of training data\r\n",
        "train_valid_ratio = 7/9 #Proportion of validation data\r\n",
        "df_full_train, df_test = train_test_split(df, train_size = train_test_ratio, random_state = 1)\r\n",
        "df_train, df_valid = train_test_split(df_full_train, train_size = train_valid_ratio, random_state = 1)"
      ],
      "execution_count": 5,
      "outputs": []
    },
    {
      "cell_type": "code",
      "metadata": {
        "id": "XKf-oTMNcmB3"
      },
      "source": [
        "#Create dataset\r\n",
        "def build_dataset(df, dest_path):\r\n",
        "    f = open(dest_path, 'w', encoding='utf-8')\r\n",
        "    data = ''\r\n",
        "    abstracts = df['abstract'].tolist()\r\n",
        "    for abstract in abstracts:\r\n",
        "        abstract = str(abstract).strip()\r\n",
        "        abstract = re.sub(r\"\\s\", \" \", abstract)\r\n",
        "        bos_token = '<BOS>'\r\n",
        "        eos_token = '<EOS>'\r\n",
        "        data += bos_token + ' ' + abstract + ' ' + eos_token + '\\n'\r\n",
        "  \r\n",
        "    f.write(data)"
      ],
      "execution_count": 6,
      "outputs": []
    },
    {
      "cell_type": "code",
      "metadata": {
        "id": "30tduazcc-VW"
      },
      "source": [
        "build_dataset(df_train, 'train.txt')\r\n",
        "build_dataset(df_valid, 'valid.txt')\r\n",
        "build_dataset(df_test, 'test.txt')"
      ],
      "execution_count": 7,
      "outputs": []
    },
    {
      "cell_type": "markdown",
      "metadata": {
        "id": "QJOiwV2ekLRw"
      },
      "source": [
        "##Get the huggingface transformers library"
      ]
    },
    {
      "cell_type": "code",
      "metadata": {
        "colab": {
          "base_uri": "https://localhost:8080/"
        },
        "id": "Mafkz0KCeKpJ",
        "outputId": "5cb3e7d8-4a89-4ad7-86db-6064f3423481"
      },
      "source": [
        "!pip install datasets\r\n",
        "!pip install transformers\r\n",
        "#Clone gitgub repository to get the required python scripts\r\n",
        "!git clone https://github.com/huggingface/transformers.git"
      ],
      "execution_count": 8,
      "outputs": [
        {
          "output_type": "stream",
          "text": [
            "Requirement already satisfied: datasets in /usr/local/lib/python3.6/dist-packages (1.2.1)\n",
            "Requirement already satisfied: pandas in /usr/local/lib/python3.6/dist-packages (from datasets) (1.1.5)\n",
            "Requirement already satisfied: requests>=2.19.0 in /usr/local/lib/python3.6/dist-packages (from datasets) (2.23.0)\n",
            "Requirement already satisfied: tqdm<4.50.0,>=4.27 in /usr/local/lib/python3.6/dist-packages (from datasets) (4.41.1)\n",
            "Requirement already satisfied: multiprocess in /usr/local/lib/python3.6/dist-packages (from datasets) (0.70.11.1)\n",
            "Requirement already satisfied: dataclasses; python_version < \"3.7\" in /usr/local/lib/python3.6/dist-packages (from datasets) (0.8)\n",
            "Requirement already satisfied: importlib-metadata; python_version < \"3.8\" in /usr/local/lib/python3.6/dist-packages (from datasets) (3.3.0)\n",
            "Requirement already satisfied: dill in /usr/local/lib/python3.6/dist-packages (from datasets) (0.3.3)\n",
            "Requirement already satisfied: xxhash in /usr/local/lib/python3.6/dist-packages (from datasets) (2.0.0)\n",
            "Requirement already satisfied: pyarrow>=0.17.1 in /usr/local/lib/python3.6/dist-packages (from datasets) (2.0.0)\n",
            "Requirement already satisfied: numpy>=1.17 in /usr/local/lib/python3.6/dist-packages (from datasets) (1.19.5)\n",
            "Requirement already satisfied: python-dateutil>=2.7.3 in /usr/local/lib/python3.6/dist-packages (from pandas->datasets) (2.8.1)\n",
            "Requirement already satisfied: pytz>=2017.2 in /usr/local/lib/python3.6/dist-packages (from pandas->datasets) (2018.9)\n",
            "Requirement already satisfied: urllib3!=1.25.0,!=1.25.1,<1.26,>=1.21.1 in /usr/local/lib/python3.6/dist-packages (from requests>=2.19.0->datasets) (1.24.3)\n",
            "Requirement already satisfied: chardet<4,>=3.0.2 in /usr/local/lib/python3.6/dist-packages (from requests>=2.19.0->datasets) (3.0.4)\n",
            "Requirement already satisfied: idna<3,>=2.5 in /usr/local/lib/python3.6/dist-packages (from requests>=2.19.0->datasets) (2.10)\n",
            "Requirement already satisfied: certifi>=2017.4.17 in /usr/local/lib/python3.6/dist-packages (from requests>=2.19.0->datasets) (2020.12.5)\n",
            "Requirement already satisfied: zipp>=0.5 in /usr/local/lib/python3.6/dist-packages (from importlib-metadata; python_version < \"3.8\"->datasets) (3.4.0)\n",
            "Requirement already satisfied: typing-extensions>=3.6.4; python_version < \"3.8\" in /usr/local/lib/python3.6/dist-packages (from importlib-metadata; python_version < \"3.8\"->datasets) (3.7.4.3)\n",
            "Requirement already satisfied: six>=1.5 in /usr/local/lib/python3.6/dist-packages (from python-dateutil>=2.7.3->pandas->datasets) (1.15.0)\n",
            "Requirement already satisfied: transformers in /usr/local/lib/python3.6/dist-packages (4.2.2)\n",
            "Requirement already satisfied: importlib-metadata; python_version < \"3.8\" in /usr/local/lib/python3.6/dist-packages (from transformers) (3.3.0)\n",
            "Requirement already satisfied: packaging in /usr/local/lib/python3.6/dist-packages (from transformers) (20.8)\n",
            "Requirement already satisfied: filelock in /usr/local/lib/python3.6/dist-packages (from transformers) (3.0.12)\n",
            "Requirement already satisfied: requests in /usr/local/lib/python3.6/dist-packages (from transformers) (2.23.0)\n",
            "Requirement already satisfied: numpy in /usr/local/lib/python3.6/dist-packages (from transformers) (1.19.5)\n",
            "Requirement already satisfied: sacremoses in /usr/local/lib/python3.6/dist-packages (from transformers) (0.0.43)\n",
            "Requirement already satisfied: regex!=2019.12.17 in /usr/local/lib/python3.6/dist-packages (from transformers) (2019.12.20)\n",
            "Requirement already satisfied: tqdm>=4.27 in /usr/local/lib/python3.6/dist-packages (from transformers) (4.41.1)\n",
            "Requirement already satisfied: tokenizers==0.9.4 in /usr/local/lib/python3.6/dist-packages (from transformers) (0.9.4)\n",
            "Requirement already satisfied: dataclasses; python_version < \"3.7\" in /usr/local/lib/python3.6/dist-packages (from transformers) (0.8)\n",
            "Requirement already satisfied: typing-extensions>=3.6.4; python_version < \"3.8\" in /usr/local/lib/python3.6/dist-packages (from importlib-metadata; python_version < \"3.8\"->transformers) (3.7.4.3)\n",
            "Requirement already satisfied: zipp>=0.5 in /usr/local/lib/python3.6/dist-packages (from importlib-metadata; python_version < \"3.8\"->transformers) (3.4.0)\n",
            "Requirement already satisfied: pyparsing>=2.0.2 in /usr/local/lib/python3.6/dist-packages (from packaging->transformers) (2.4.7)\n",
            "Requirement already satisfied: idna<3,>=2.5 in /usr/local/lib/python3.6/dist-packages (from requests->transformers) (2.10)\n",
            "Requirement already satisfied: chardet<4,>=3.0.2 in /usr/local/lib/python3.6/dist-packages (from requests->transformers) (3.0.4)\n",
            "Requirement already satisfied: certifi>=2017.4.17 in /usr/local/lib/python3.6/dist-packages (from requests->transformers) (2020.12.5)\n",
            "Requirement already satisfied: urllib3!=1.25.0,!=1.25.1,<1.26,>=1.21.1 in /usr/local/lib/python3.6/dist-packages (from requests->transformers) (1.24.3)\n",
            "Requirement already satisfied: six in /usr/local/lib/python3.6/dist-packages (from sacremoses->transformers) (1.15.0)\n",
            "Requirement already satisfied: click in /usr/local/lib/python3.6/dist-packages (from sacremoses->transformers) (7.1.2)\n",
            "Requirement already satisfied: joblib in /usr/local/lib/python3.6/dist-packages (from sacremoses->transformers) (1.0.0)\n",
            "fatal: destination path 'transformers' already exists and is not an empty directory.\n"
          ],
          "name": "stdout"
        }
      ]
    },
    {
      "cell_type": "code",
      "metadata": {
        "colab": {
          "base_uri": "https://localhost:8080/"
        },
        "id": "ESLpPynEdjJO",
        "outputId": "047944fc-e2b2-44bc-a39c-82fa26915566"
      },
      "source": [
        "!nvidia-smi"
      ],
      "execution_count": 9,
      "outputs": [
        {
          "output_type": "stream",
          "text": [
            "Mon Jan 25 22:27:19 2021       \n",
            "+-----------------------------------------------------------------------------+\n",
            "| NVIDIA-SMI 460.32.03    Driver Version: 418.67       CUDA Version: 10.1     |\n",
            "|-------------------------------+----------------------+----------------------+\n",
            "| GPU  Name        Persistence-M| Bus-Id        Disp.A | Volatile Uncorr. ECC |\n",
            "| Fan  Temp  Perf  Pwr:Usage/Cap|         Memory-Usage | GPU-Util  Compute M. |\n",
            "|                               |                      |               MIG M. |\n",
            "|===============================+======================+======================|\n",
            "|   0  Tesla T4            Off  | 00000000:00:04.0 Off |                    0 |\n",
            "| N/A   40C    P8    10W /  70W |      0MiB / 15079MiB |      0%      Default |\n",
            "|                               |                      |                 ERR! |\n",
            "+-------------------------------+----------------------+----------------------+\n",
            "                                                                               \n",
            "+-----------------------------------------------------------------------------+\n",
            "| Processes:                                                                  |\n",
            "|  GPU   GI   CI        PID   Type   Process name                  GPU Memory |\n",
            "|        ID   ID                                                   Usage      |\n",
            "|=============================================================================|\n",
            "|  No running processes found                                                 |\n",
            "+-----------------------------------------------------------------------------+\n"
          ],
          "name": "stdout"
        }
      ]
    },
    {
      "cell_type": "markdown",
      "metadata": {
        "id": "m_UNbotJkZAQ"
      },
      "source": [
        "## Fine-Tuning the GPT-2 Model\r\n",
        "Different model sizes can be used by changing \"--model_name_or_path gpt2\"\r\n",
        "GTP-2 models from huggingface can be found [here](https://huggingface.co/transformers/pretrained_models.html). \r\n",
        "\r\n",
        "GPT-2 models (OpenAI):\r\n",
        "*   gpt2(12-layer, 768-hidden, 12-heads, 117M parameters)\r\n",
        "*   gpt2-medium (24-layer, 1024-hidden, 16-heads, 345M parameters)\r\n",
        "*   gpt2-large (36-layer, 1280-hidden, 20-heads, 774M parameters)\r\n",
        "*   gpt2-xl (48-layer, 1600-hidden, 25-heads, 1558M parameters)\r\n",
        "Distill GPT by huggingface:\r\n",
        "*   distilgpt2\r\n",
        "Model distilled from the GPT-2 (gpt2) model and checkpoints )6-layer, 768-hidden, 12-heads, 82M parameters).\r\n",
        "\r\n",
        "The large and xl version might not run on a colab because of RAM issues even when a batch size of one is used.\r\n",
        "\r\n",
        "####Open Problems:\r\n",
        "Since our data have only one abstract per line the \"--line_by_line\" option should be enabled : \"If your dataset is organized with one sample per line, you can use the --line_by_line flag (otherwise the script concatenates all texts and then splits them in blocks of the same length)\".\r\n",
        "However, this produces an error code...\r\n",
        "\r\n",
        "\r\n",
        "\r\n",
        "\r\n",
        "\r\n",
        "\r\n"
      ]
    },
    {
      "cell_type": "code",
      "metadata": {
        "id": "IpQDR51pdhse"
      },
      "source": [
        "#Trains the model. Be careful with the batch_size when using larger models or datasets.\r\n",
        "%run \"/content/gdrive/MyDrive/NLP_scientific-text-generation/transformers/examples/language-modeling/run_clm.py\" \\\r\n",
        "    --model_name_or_path gpt2 \\\r\n",
        "    --line_by_line=True \\\r\n",
        "    --train_file \"/content/gdrive/My Drive/NLP_scientific-text-generation/train.txt\" \\\r\n",
        "    --validation_file \"/content/gdrive/My Drive/NLP_scientific-text-generation/valid.txt\" \\\r\n",
        "    --do_train \\\r\n",
        "    --do_eval \\\r\n",
        "    --output_dir \"/content/gdrive/My Drive/NLP_scientific-text-generation/output/\" \\\r\n",
        "    --per_device_train_batch_size=1 \\\r\n",
        "    --per_device_eval_batch_size=1 \\\r\n",
        "    --learning_rate 5e-5 \\\r\n",
        "    --num_train_epochs=2 \\\r\n",
        "    --overwrite_output_dir"
      ],
      "execution_count": null,
      "outputs": []
    },
    {
      "cell_type": "markdown",
      "metadata": {
        "id": "_f6LtvPAx4AD"
      },
      "source": [
        "#Use the Trained Model to Generate TL;DRs\r\n",
        "1. Definition of the Test Abstracts\r\n",
        "2. Definition of the Prompts for One-Shot and Few-Shot Learning\r\n",
        "3. Generation of the Output"
      ]
    },
    {
      "cell_type": "markdown",
      "metadata": {
        "id": "nXNQEf7Yrly6"
      },
      "source": [
        "## 1. Definition of the Test Abstracts"
      ]
    },
    {
      "cell_type": "code",
      "metadata": {
        "id": "GQ33jJsnr63C"
      },
      "source": [
        "test_abstract_1 = \"Greenhouse gas emissions have significantly altered global climate, and will continue to do so in the future. Increases in the frequency, duration, and/or severity of drought and heat stress associated with climate change could fundamentally alter the composition, structure, and biogeography of forests in many regions. Of particular concern are potential increases in tree mortality associated with climate-induced physiological stress and interactions with other climate-mediated processes such as insect outbreaks and wildfire. Despite this risk, existing projections of tree mortality are based on models that lack functionally realistic mortality mechanisms, and there has been no attempt to track observations of climate-driven tree mortality globally. Here we present the first global assessment of recent tree mortality attributed to drought and heat stress. Although episodic mortality occurs in the absence of climate change, studies compiled here suggest that at least some of the world's forested ecosystems already may be responding to climate change and raise concern that forests may become increasingly vulnerable to higher background tree mortality rates and die-off in response to future warming and drought, even in environments that are not normally considered water-limited. This further suggests risks to ecosystem services, including the loss of sequestered forest carbon and associated atmospheric feedbacks. Our review also identifies key information gaps and scientific uncertainties that currently hinder our ability to predict tree mortality in response to climate change and emphasizes the need for a globally coordinated observation system. Overall, our review reveals the potential for amplified tree mortality due to drought and heat in forests worldwide.\"\r\n",
        "test_abstract_2 = \"The world's forests influence climate through physical, chemical, and biological processes that affect planetary energetics, the hydrologic cycle, and atmospheric composition. These complex and nonlinear forest-atmosphere interactions can dampen or amplify anthropogenic climate change. Tropical, temperate, and boreal reforestation and afforestation attenuate global warming through carbon sequestration. Biogeophysical feedbacks can enhance or diminish this negative climate forcing. Tropical forests mitigate warming through evaporative cooling, but the low albedo of boreal forests is a positive climate forcing. The evaporative effect of temperate forests is unclear. The net climate forcing from these and other processes is not known. Forests are under tremendous pressure from global change. Interdisciplinary science that integrates knowledge of the many interacting climate services of forests with the impacts of global change is necessary to identify and understand as yet unexplored feedbacks in the Earth system and the potential of forests to mitigate climate change.\"\r\n",
        "test_abstract_3 = \"The paper summarizes the current knowledge about the impact of livestock sector on climate change. The main sources of greenhouse gas (GHG) emissions from livestock are described and the contribution of livestock sector to the global GHG emissions is presented on the basis of the latest results obtained from the scientific research. The most recent mitigation strategies for reducing greenhouse gas emissions from livestock sector are also discussed. The paper aims to provide a general overview of an emergent environmental issue such as the impact of livestock sector on climate change. While the paper is easy to understand for non-expert readers, it may also be a relevant reference point for academic researchers and for policy makers aimed at achieving the sustainability of livestock/food sector.\"\r\n",
        "test_abstract_4 = \"Feeding a growing global population in a changing climate presents a significant challenge to society. The projected yields of crops under a range of agricultural and climatic scenarios are needed to assess food security prospects. Previous meta-analyses have summarized climate change impacts and adaptive potential as a function of temperature, but have not examined uncertainty, the timing of impacts, or the quantitative effectiveness of adaptation. Here we develop a new data set of more than 1,700 published simulations to evaluate yield impacts of climate change and adaptation. Without adaptation, losses in aggregate production are expected for wheat, rice and maize in both temperate and tropical regions by 2 °C of local warming. Crop-level adaptations increase simulated yields by an average of 7–15%, with adaptations more effective for wheat and rice than maize. Yield losses are greater in magnitude for the second half of the century than for the first. Consensus on yield decreases in the second half of the century is stronger in tropical than temperate regions, yet even moderate warming may reduce temperate crop yields in many locations. Although less is known about interannual variability than mean yields, the available data indicate that increases in yield variability are likely.\"\r\n",
        "test_abstract_5 = \"The effects of climate change on biodiversity are increasingly well documented, and many methods have been developed to assess species' vulnerability to climatic changes, both ongoing and projected in the coming decades. To minimize global biodiversity losses, conservationists need to identify those species that are likely to be most vulnerable to the impacts of climate change. In this Review, we summarize different currencies used for assessing species' climate change vulnerability. We describe three main approaches used to derive these currencies (correlative, mechanistic and trait-based), and their associated data requirements, spatial and temporal scales of application and modelling methods. We identify strengths and weaknesses of the approaches and highlight the sources of uncertainty inherent in each method that limit projection reliability. Finally, we provide guidance for conservation practitioners in selecting the most appropriate approach(es) for their planning needs and highlight priority areas for further assessments.\""
      ],
      "execution_count": 15,
      "outputs": []
    },
    {
      "cell_type": "markdown",
      "metadata": {
        "id": "z3ZJoqtnkjKB"
      },
      "source": [
        "## 2. Definition of the Prompts"
      ]
    },
    {
      "cell_type": "code",
      "metadata": {
        "id": "pm38jl6dhAQa"
      },
      "source": [
        "abstract_1 = \"Causal attribution of recent biological trends to climate change is complicated because non-climatic influences dominate local, short-term biological changes. Any underlying signal from climate change is likely to be revealed by analyses that seek systematic trends across diverse species and geographic regions; however, debates within the Intergovernmental Panel on Climate Change (IPCC) reveal several definitions of a ‘systematic trend’. Here, we explore these differences, apply diverse analyses to more than 1,700 species, and show that recent biological trends match climate change predictions. Global meta-analyses documented significant range shifts averaging 6.1 km per decade towards the poles (or metres per decade upward), and significant mean advancement of spring events by 2.3 days per decade. We define a diagnostic fingerprint of temporal and spatial ‘sign-switching’ responses uniquely predicted by twentieth century climate trends. Among appropriate long-term/large-scale/multi-species data sets, this diagnostic fingerprint was found for 279 species. This suite of analyses generates ‘very high confidence’ (as laid down by the IPCC) that climate change is already affecting living systems.\"\r\n",
        "tldr_1 = \"Climate change predictions are confirmed by the collective change in distribution of species, and the change in timing of biological events.\"\r\n",
        "\r\n",
        "abstract_2 = \"Significantly more carbon is stored in the world's soils—including peatlands, wetlands and permafrost—than is present in the atmosphere. Disagreement exists, however, regarding the effects of climate change on global soil carbon stocks. If carbon stored belowground is transferred to the atmosphere by a warming-induced acceleration of its decomposition, a positive feedback to climate change would occur. Conversely, if increases of plant-derived carbon inputs to soils exceed increases in decomposition, the feedback would be negative. Despite much research, a consensus has not yet emerged on the temperature sensitivity of soil carbon decomposition. Unravelling the feedback effect is particularly difficult, because the diverse soil organic compounds exhibit a wide range of kinetic properties, which determine the intrinsic temperature sensitivity of their decomposition. Moreover, several environmental constraints obscure the intrinsic temperature sensitivity of substrate decomposition, causing lower observed ‘apparent’ temperature sensitivity, and these constraints may, themselves, be sensitive to climate.\"\r\n",
        "tldr_2 = \"Soil carbon decomposition may be sensitive to climate, but the amount of decomposition is constrained by other factors.\"\r\n",
        "\r\n",
        "abstract_3 = \"Climate change over the past ∼30 years has produced numerous shifts in the distributions and abundances of species and has been implicated in one species-level extinction. Using projections of species' distributions for future climate scenarios, we assess extinction risks for sample regions that cover some 20% of the Earth's terrestrial surface. Exploring three approaches in which the estimated probability of extinction shows a power-law relationship with geographical range size, we predict, on the basis of mid-range climate-warming scenarios for 2050, that 15–37% of species in our sample of regions and taxa will be ‘committed to extinction’. When the average of the three methods and two dispersal scenarios is taken, minimal climate-warming scenarios produce lower projections of species committed to extinction (∼18%) than mid-range (∼24%) and maximum-change (∼35%) scenarios. These estimates show the importance of rapid implementation of technologies to decrease greenhouse gas emissions and strategies for carbon sequestration.\"\r\n",
        "tldr_3 = \"Using predictions of future climate, the authors predict that if greenhouse gases continue to increase, 15-37% of species will be committed to extinction.\"\r\n",
        "\r\n",
        "\r\n",
        "# One-Shot Prompt\r\n",
        "os_prompt = \"Abstract:\\n\" + abstract_1 + \"\\nTL;DR:\\n\" + tldr_1 + \"\\n\\nAbstract:\\n\"\r\n",
        "\r\n",
        "# Few-Shot Prompt (2-Shot)\r\n",
        "fs_prompt = \"Abstract:\\n\" + abstract_1 + \"\\nTL;DR:\\n\" + tldr_1 + \"\\n\\nAbstract:\\n\" + abstract_2 + \"\\nTL;DR:\\n\" + tldr_2 + \"\\n\\nAbstract:\\n\" + abstract_3 + \"\\nTL;DR:\\n\" + tldr_3 + \"\\n\\nAbstract:\\n\"\r\n"
      ],
      "execution_count": 16,
      "outputs": []
    },
    {
      "cell_type": "markdown",
      "metadata": {
        "id": "4qiTsX5gyriB"
      },
      "source": [
        "## 3. Generation of the TL;DR"
      ]
    },
    {
      "cell_type": "markdown",
      "metadata": {
        "id": "o7pmpjVUq0UD"
      },
      "source": [
        "For each test abstract five TL;DRs are generated using a one-shot approach and five using a few-shot approach.\r\n",
        "\r\n",
        "`run_generation` allows to set the following arguments/flags for the generation:  \r\n",
        "```\r\n",
        "run_generation.py [-h]\r\n",
        "--model_type MODEL_TYPE \\  \r\n",
        "--model_name_or_path MODEL_NAME_OR_PATH  \r\n",
        "[--prompt PROMPT \\]  \r\n",
        "[--length LENGTH \\]  \r\n",
        "[--stop_token STOP_TOKEN \\]  \r\n",
        "[--temperature TEMPERATURE \\]  \r\n",
        "[--repetition_penalty REPETITION_PENALTY]  \r\n",
        "[--k K \\]  \r\n",
        "[--p P \\]  \r\n",
        "[--prefix PREFIX \\]  \r\n",
        "[--padding_text PADDING_TEXT \\]  \r\n",
        "[--xlm_language XLM_LANGUAGE \\]  \r\n",
        "[--seed SEED \\]  \r\n",
        "[--no_cuda \\]  \r\n",
        "[--num_return_sequences NUM_RETURN_SEQUENCES \\]  \r\n",
        "[--fp16]\r\n",
        "```\r\n",
        "\r\n"
      ]
    },
    {
      "cell_type": "code",
      "metadata": {
        "id": "33NP0uZ5p0yH",
        "colab": {
          "base_uri": "https://localhost:8080/"
        },
        "outputId": "1c67e038-9581-4f96-9c12-f1b686b2979e"
      },
      "source": [
        "# Test Abstract 1 with One-Shot TL;DR generation\r\n",
        "prompt = os_prompt + test_abstract_1 + \"\\nTL;DR:\\n\"\r\n",
        "\r\n",
        "%run \"/content/gdrive/MyDrive/NLP_scientific-text-generation/transformers/examples/text-generation/run_generation.py\" \\\r\n",
        "--model_type gpt2 \\\r\n",
        "--model_name_or_path \"/content/gdrive/MyDrive/NLP_scientific-text-generation/output/\" \\\r\n",
        "--length 100 \\\r\n",
        "--prompt \"$prompt\" \\\r\n",
        "--stop_token \"<EOS>\" \\\r\n",
        "--temperature .7 \\\r\n",
        "--k 50 \\\r\n",
        "--num_return_sequences 5"
      ],
      "execution_count": 17,
      "outputs": [
        {
          "output_type": "stream",
          "text": [
            "01/25/2021 23:31:34 - WARNING - __main__ -   device: cuda, n_gpu: 1, 16-bits training: False\n",
            "[INFO|tokenization_utils_base.py:1685] 2021-01-25 23:31:34,556 >> Model name '/content/gdrive/MyDrive/NLP_scientific-text-generation/output/' not found in model shortcut name list (gpt2, gpt2-medium, gpt2-large, gpt2-xl, distilgpt2). Assuming '/content/gdrive/MyDrive/NLP_scientific-text-generation/output/' is a path, a model identifier, or url to a directory containing tokenizer files.\n",
            "[INFO|tokenization_utils_base.py:1718] 2021-01-25 23:31:34,561 >> Didn't find file /content/gdrive/MyDrive/NLP_scientific-text-generation/output/added_tokens.json. We won't load it.\n",
            "[INFO|tokenization_utils_base.py:1718] 2021-01-25 23:31:34,563 >> Didn't find file /content/gdrive/MyDrive/NLP_scientific-text-generation/output/tokenizer.json. We won't load it.\n",
            "[INFO|tokenization_utils_base.py:1764] 2021-01-25 23:31:34,566 >> loading file /content/gdrive/MyDrive/NLP_scientific-text-generation/output/vocab.json\n",
            "[INFO|tokenization_utils_base.py:1764] 2021-01-25 23:31:34,567 >> loading file /content/gdrive/MyDrive/NLP_scientific-text-generation/output/merges.txt\n",
            "[INFO|tokenization_utils_base.py:1764] 2021-01-25 23:31:34,569 >> loading file None\n",
            "[INFO|tokenization_utils_base.py:1764] 2021-01-25 23:31:34,571 >> loading file /content/gdrive/MyDrive/NLP_scientific-text-generation/output/special_tokens_map.json\n",
            "[INFO|tokenization_utils_base.py:1764] 2021-01-25 23:31:34,572 >> loading file /content/gdrive/MyDrive/NLP_scientific-text-generation/output/tokenizer_config.json\n",
            "[INFO|tokenization_utils_base.py:1764] 2021-01-25 23:31:34,574 >> loading file None\n",
            "[INFO|configuration_utils.py:443] 2021-01-25 23:31:34,656 >> loading configuration file /content/gdrive/MyDrive/NLP_scientific-text-generation/output/config.json\n",
            "[INFO|configuration_utils.py:481] 2021-01-25 23:31:34,657 >> Model config GPT2Config {\n",
            "  \"_name_or_path\": \"gpt2\",\n",
            "  \"activation_function\": \"gelu_new\",\n",
            "  \"architectures\": [\n",
            "    \"GPT2LMHeadModel\"\n",
            "  ],\n",
            "  \"attn_pdrop\": 0.1,\n",
            "  \"bos_token_id\": 50256,\n",
            "  \"embd_pdrop\": 0.1,\n",
            "  \"eos_token_id\": 50256,\n",
            "  \"gradient_checkpointing\": false,\n",
            "  \"initializer_range\": 0.02,\n",
            "  \"layer_norm_epsilon\": 1e-05,\n",
            "  \"model_type\": \"gpt2\",\n",
            "  \"n_ctx\": 1024,\n",
            "  \"n_embd\": 768,\n",
            "  \"n_head\": 12,\n",
            "  \"n_inner\": null,\n",
            "  \"n_layer\": 12,\n",
            "  \"n_positions\": 1024,\n",
            "  \"resid_pdrop\": 0.1,\n",
            "  \"summary_activation\": null,\n",
            "  \"summary_first_dropout\": 0.1,\n",
            "  \"summary_proj_to_labels\": true,\n",
            "  \"summary_type\": \"cls_index\",\n",
            "  \"summary_use_proj\": true,\n",
            "  \"task_specific_params\": {\n",
            "    \"text-generation\": {\n",
            "      \"do_sample\": true,\n",
            "      \"max_length\": 50\n",
            "    }\n",
            "  },\n",
            "  \"transformers_version\": \"4.2.2\",\n",
            "  \"use_cache\": true,\n",
            "  \"vocab_size\": 50257\n",
            "}\n",
            "\n",
            "[INFO|modeling_utils.py:1025] 2021-01-25 23:31:34,659 >> loading weights file /content/gdrive/MyDrive/NLP_scientific-text-generation/output/pytorch_model.bin\n",
            "[INFO|modeling_utils.py:1143] 2021-01-25 23:31:39,639 >> All model checkpoint weights were used when initializing GPT2LMHeadModel.\n",
            "\n",
            "[INFO|modeling_utils.py:1152] 2021-01-25 23:31:39,640 >> All the weights of GPT2LMHeadModel were initialized from the model checkpoint at /content/gdrive/MyDrive/NLP_scientific-text-generation/output/.\n",
            "If your task is similar to the task the model of the checkpoint was trained on, you can already use GPT2LMHeadModel for predictions without further training.\n",
            "01/25/2021 23:31:39 - INFO - __main__ -   Namespace(device=device(type='cuda'), fp16=False, k=50, length=100, model_name_or_path='/content/gdrive/MyDrive/NLP_scientific-text-generation/output/', model_type='gpt2', n_gpu=1, no_cuda=False, num_return_sequences=5, p=0.9, padding_text='', prefix='', prompt=\"Abstract:\\nCausal attribution of recent biological trends to climate change is complicated because non-climatic influences dominate local, short-term biological changes. Any underlying signal from climate change is likely to be revealed by analyses that seek systematic trends across diverse species and geographic regions; however, debates within the Intergovernmental Panel on Climate Change (IPCC) reveal several definitions of a ‘systematic trend’. Here, we explore these differences, apply diverse analyses to more than 1,700 species, and show that recent biological trends match climate change predictions. Global meta-analyses documented significant range shifts averaging 6.1\\u2009km per decade towards the poles (or metres per decade upward), and significant mean advancement of spring events by 2.3 days per decade. We define a diagnostic fingerprint of temporal and spatial ‘sign-switching’ responses uniquely predicted by twentieth century climate trends. Among appropriate long-term/large-scale/multi-species data sets, this diagnostic fingerprint was found for 279 species. This suite of analyses generates ‘very high confidence’ (as laid down by the IPCC) that climate change is already affecting living systems.\\nTL;DR:\\nClimate change predictions are confirmed by the collective change in distribution of species, and the change in timing of biological events.\\n\\nAbstract:\\nGreenhouse gas emissions have significantly altered global climate, and will continue to do so in the future. Increases in the frequency, duration, and/or severity of drought and heat stress associated with climate change could fundamentally alter the composition, structure, and biogeography of forests in many regions. Of particular concern are potential increases in tree mortality associated with climate-induced physiological stress and interactions with other climate-mediated processes such as insect outbreaks and wildfire. Despite this risk, existing projections of tree mortality are based on models that lack functionally realistic mortality mechanisms, and there has been no attempt to track observations of climate-driven tree mortality globally. Here we present the first global assessment of recent tree mortality attributed to drought and heat stress. Although episodic mortality occurs in the absence of climate change, studies compiled here suggest that at least some of the world's forested ecosystems already may be responding to climate change and raise concern that forests may become increasingly vulnerable to higher background tree mortality rates and die-off in response to future warming and drought, even in environments that are not normally considered water-limited. This further suggests risks to ecosystem services, including the loss of sequestered forest carbon and associated atmospheric feedbacks. Our review also identifies key information gaps and scientific uncertainties that currently hinder our ability to predict tree mortality in response to climate change and emphasizes the need for a globally coordinated observation system. Overall, our review reveals the potential for amplified tree mortality due to drought and heat in forests worldwide.\\nTL;DR:\\n\", repetition_penalty=1.0, seed=42, stop_token='<EOS>', temperature=0.7, xlm_language='')\n",
            "[WARNING|generation_utils.py:828] 2021-01-25 23:31:39,828 >> Setting `pad_token_id` to `eos_token_id`:50256 for open-end generation.\n"
          ],
          "name": "stderr"
        },
        {
          "output_type": "stream",
          "text": [
            "=== GENERATED SEQUENCE 1 ===\n",
            "Abstract:\n",
            "Causal attribution of recent biological trends to climate change is complicated because non-climatic influences dominate local, short-term biological changes. Any underlying signal from climate change is likely to be revealed by analyses that seek systematic trends across diverse species and geographic regions; however, debates within the Intergovernmental Panel on Climate Change (IPCC) reveal several definitions of a ‘systematic trend’. Here, we explore these differences, apply diverse analyses to more than 1,700 species, and show that recent biological trends match climate change predictions. Global meta-analyses documented significant range shifts averaging 6.1 km per decade towards the poles (or metres per decade upward), and significant mean advancement of spring events by 2.3 days per decade. We define a diagnostic fingerprint of temporal and spatial ‘sign-switching’ responses uniquely predicted by twentieth century climate trends. Among appropriate long-term/large-scale/multi-species data sets, this diagnostic fingerprint was found for 279 species. This suite of analyses generates ‘very high confidence’ (as laid down by the IPCC) that climate change is already affecting living systems.\n",
            "TL;DR:\n",
            "Climate change predictions are confirmed by the collective change in distribution of species, and the change in timing of biological events.\n",
            "\n",
            "Abstract:\n",
            "Greenhouse gas emissions have significantly altered global climate, and will continue to do so in the future. Increases in the frequency, duration, and/or severity of drought and heat stress associated with climate change could fundamentally alter the composition, structure, and biogeography of forests in many regions. Of particular concern are potential increases in tree mortality associated with climate-induced physiological stress and interactions with other climate-mediated processes such as insect outbreaks and wildfire. Despite this risk, existing projections of tree mortality are based on models that lack functionally realistic mortality mechanisms, and there has been no attempt to track observations of climate-driven tree mortality globally. Here we present the first global assessment of recent tree mortality attributed to drought and heat stress. Although episodic mortality occurs in the absence of climate change, studies compiled here suggest that at least some of the world's forested ecosystems already may be responding to climate change and raise concern that forests may become increasingly vulnerable to higher background tree mortality rates and die-off in response to future warming and drought, even in environments that are not normally considered water-limited. This further suggests risks to ecosystem services, including the loss of sequestered forest carbon and associated atmospheric feedbacks. Our review also identifies key information gaps and scientific uncertainties that currently hinder our ability to predict tree mortality in response to climate change and emphasizes the need for a globally coordinated observation system. Overall, our review reveals the potential for amplified tree mortality due to drought and heat in forests worldwide.\n",
            "TL;DR:\n",
            "Drought and heat are the main drivers of tree mortality worldwide. These events are likely to occur in the absence of climate change, and could significantly alter tree mortality. The need for a global monitoring system to assess tree mortality is central to the current debate about climate change. Despite their importance for the future of global forests, current projections of tree mortality remain insufficient to adequately address climate change and other impacts related to climate change. The current global tree mortality report highlights that current projections are inadequate to adequately address climat\n",
            "=== GENERATED SEQUENCE 2 ===\n",
            "Abstract:\n",
            "Causal attribution of recent biological trends to climate change is complicated because non-climatic influences dominate local, short-term biological changes. Any underlying signal from climate change is likely to be revealed by analyses that seek systematic trends across diverse species and geographic regions; however, debates within the Intergovernmental Panel on Climate Change (IPCC) reveal several definitions of a ‘systematic trend’. Here, we explore these differences, apply diverse analyses to more than 1,700 species, and show that recent biological trends match climate change predictions. Global meta-analyses documented significant range shifts averaging 6.1 km per decade towards the poles (or metres per decade upward), and significant mean advancement of spring events by 2.3 days per decade. We define a diagnostic fingerprint of temporal and spatial ‘sign-switching’ responses uniquely predicted by twentieth century climate trends. Among appropriate long-term/large-scale/multi-species data sets, this diagnostic fingerprint was found for 279 species. This suite of analyses generates ‘very high confidence’ (as laid down by the IPCC) that climate change is already affecting living systems.\n",
            "TL;DR:\n",
            "Climate change predictions are confirmed by the collective change in distribution of species, and the change in timing of biological events.\n",
            "\n",
            "Abstract:\n",
            "Greenhouse gas emissions have significantly altered global climate, and will continue to do so in the future. Increases in the frequency, duration, and/or severity of drought and heat stress associated with climate change could fundamentally alter the composition, structure, and biogeography of forests in many regions. Of particular concern are potential increases in tree mortality associated with climate-induced physiological stress and interactions with other climate-mediated processes such as insect outbreaks and wildfire. Despite this risk, existing projections of tree mortality are based on models that lack functionally realistic mortality mechanisms, and there has been no attempt to track observations of climate-driven tree mortality globally. Here we present the first global assessment of recent tree mortality attributed to drought and heat stress. Although episodic mortality occurs in the absence of climate change, studies compiled here suggest that at least some of the world's forested ecosystems already may be responding to climate change and raise concern that forests may become increasingly vulnerable to higher background tree mortality rates and die-off in response to future warming and drought, even in environments that are not normally considered water-limited. This further suggests risks to ecosystem services, including the loss of sequestered forest carbon and associated atmospheric feedbacks. Our review also identifies key information gaps and scientific uncertainties that currently hinder our ability to predict tree mortality in response to climate change and emphasizes the need for a globally coordinated observation system. Overall, our review reveals the potential for amplified tree mortality due to drought and heat in forests worldwide.\n",
            "TL;DR:\n",
            "Climate change predictions are confirmed by the collective change in distribution of species, and the change in timing of biological events. Climate change predictions are confirmed by the collective change in distribution of species, and the change in timing of biological events. Climate change predictions are confirmed by the collective change in distribution of species, and the change in timing of biological events. Climate change predictions are confirmed by the collective change in distribution of species, and the change in timing of biological events. Global climate change forecasts are confirmed by th\n",
            "=== GENERATED SEQUENCE 3 ===\n",
            "Abstract:\n",
            "Causal attribution of recent biological trends to climate change is complicated because non-climatic influences dominate local, short-term biological changes. Any underlying signal from climate change is likely to be revealed by analyses that seek systematic trends across diverse species and geographic regions; however, debates within the Intergovernmental Panel on Climate Change (IPCC) reveal several definitions of a ‘systematic trend’. Here, we explore these differences, apply diverse analyses to more than 1,700 species, and show that recent biological trends match climate change predictions. Global meta-analyses documented significant range shifts averaging 6.1 km per decade towards the poles (or metres per decade upward), and significant mean advancement of spring events by 2.3 days per decade. We define a diagnostic fingerprint of temporal and spatial ‘sign-switching’ responses uniquely predicted by twentieth century climate trends. Among appropriate long-term/large-scale/multi-species data sets, this diagnostic fingerprint was found for 279 species. This suite of analyses generates ‘very high confidence’ (as laid down by the IPCC) that climate change is already affecting living systems.\n",
            "TL;DR:\n",
            "Climate change predictions are confirmed by the collective change in distribution of species, and the change in timing of biological events.\n",
            "\n",
            "Abstract:\n",
            "Greenhouse gas emissions have significantly altered global climate, and will continue to do so in the future. Increases in the frequency, duration, and/or severity of drought and heat stress associated with climate change could fundamentally alter the composition, structure, and biogeography of forests in many regions. Of particular concern are potential increases in tree mortality associated with climate-induced physiological stress and interactions with other climate-mediated processes such as insect outbreaks and wildfire. Despite this risk, existing projections of tree mortality are based on models that lack functionally realistic mortality mechanisms, and there has been no attempt to track observations of climate-driven tree mortality globally. Here we present the first global assessment of recent tree mortality attributed to drought and heat stress. Although episodic mortality occurs in the absence of climate change, studies compiled here suggest that at least some of the world's forested ecosystems already may be responding to climate change and raise concern that forests may become increasingly vulnerable to higher background tree mortality rates and die-off in response to future warming and drought, even in environments that are not normally considered water-limited. This further suggests risks to ecosystem services, including the loss of sequestered forest carbon and associated atmospheric feedbacks. Our review also identifies key information gaps and scientific uncertainties that currently hinder our ability to predict tree mortality in response to climate change and emphasizes the need for a globally coordinated observation system. Overall, our review reveals the potential for amplified tree mortality due to drought and heat in forests worldwide.\n",
            "TL;DR:\n",
            "Climate change forecasts are confirmed by the collective change in distribution of species, and the change in timing of biological events. Increases in the frequency, duration, and/or severity of drought and heat stress associated with climate change could fundamentally alter the composition, structure, and biogeography of forests in many regions. Of particular concern are potential increases in tree mortality associated with climate change and potential increases in tree mortality rates and die-offs in response to future warming and drought, even in environments that are not normall\n",
            "=== GENERATED SEQUENCE 4 ===\n",
            "Abstract:\n",
            "Causal attribution of recent biological trends to climate change is complicated because non-climatic influences dominate local, short-term biological changes. Any underlying signal from climate change is likely to be revealed by analyses that seek systematic trends across diverse species and geographic regions; however, debates within the Intergovernmental Panel on Climate Change (IPCC) reveal several definitions of a ‘systematic trend’. Here, we explore these differences, apply diverse analyses to more than 1,700 species, and show that recent biological trends match climate change predictions. Global meta-analyses documented significant range shifts averaging 6.1 km per decade towards the poles (or metres per decade upward), and significant mean advancement of spring events by 2.3 days per decade. We define a diagnostic fingerprint of temporal and spatial ‘sign-switching’ responses uniquely predicted by twentieth century climate trends. Among appropriate long-term/large-scale/multi-species data sets, this diagnostic fingerprint was found for 279 species. This suite of analyses generates ‘very high confidence’ (as laid down by the IPCC) that climate change is already affecting living systems.\n",
            "TL;DR:\n",
            "Climate change predictions are confirmed by the collective change in distribution of species, and the change in timing of biological events.\n",
            "\n",
            "Abstract:\n",
            "Greenhouse gas emissions have significantly altered global climate, and will continue to do so in the future. Increases in the frequency, duration, and/or severity of drought and heat stress associated with climate change could fundamentally alter the composition, structure, and biogeography of forests in many regions. Of particular concern are potential increases in tree mortality associated with climate-induced physiological stress and interactions with other climate-mediated processes such as insect outbreaks and wildfire. Despite this risk, existing projections of tree mortality are based on models that lack functionally realistic mortality mechanisms, and there has been no attempt to track observations of climate-driven tree mortality globally. Here we present the first global assessment of recent tree mortality attributed to drought and heat stress. Although episodic mortality occurs in the absence of climate change, studies compiled here suggest that at least some of the world's forested ecosystems already may be responding to climate change and raise concern that forests may become increasingly vulnerable to higher background tree mortality rates and die-off in response to future warming and drought, even in environments that are not normally considered water-limited. This further suggests risks to ecosystem services, including the loss of sequestered forest carbon and associated atmospheric feedbacks. Our review also identifies key information gaps and scientific uncertainties that currently hinder our ability to predict tree mortality in response to climate change and emphasizes the need for a globally coordinated observation system. Overall, our review reveals the potential for amplified tree mortality due to drought and heat in forests worldwide.\n",
            "TL;DR:\n",
            "Climate change predictions are confirmed by the collective change in distribution of species, and the change in timing of biological events.      The most vulnerable species are the largest of the 20 largest species of trees. In this paper, we outline the impact of climate change on the major species of forests in the world. In the next section, we examine the relationships between temperature and tree mortality.       The most vulnerable species are the largest of the 20 largest species of forests\n",
            "=== GENERATED SEQUENCE 5 ===\n",
            "Abstract:\n",
            "Causal attribution of recent biological trends to climate change is complicated because non-climatic influences dominate local, short-term biological changes. Any underlying signal from climate change is likely to be revealed by analyses that seek systematic trends across diverse species and geographic regions; however, debates within the Intergovernmental Panel on Climate Change (IPCC) reveal several definitions of a ‘systematic trend’. Here, we explore these differences, apply diverse analyses to more than 1,700 species, and show that recent biological trends match climate change predictions. Global meta-analyses documented significant range shifts averaging 6.1 km per decade towards the poles (or metres per decade upward), and significant mean advancement of spring events by 2.3 days per decade. We define a diagnostic fingerprint of temporal and spatial ‘sign-switching’ responses uniquely predicted by twentieth century climate trends. Among appropriate long-term/large-scale/multi-species data sets, this diagnostic fingerprint was found for 279 species. This suite of analyses generates ‘very high confidence’ (as laid down by the IPCC) that climate change is already affecting living systems.\n",
            "TL;DR:\n",
            "Climate change predictions are confirmed by the collective change in distribution of species, and the change in timing of biological events.\n",
            "\n",
            "Abstract:\n",
            "Greenhouse gas emissions have significantly altered global climate, and will continue to do so in the future. Increases in the frequency, duration, and/or severity of drought and heat stress associated with climate change could fundamentally alter the composition, structure, and biogeography of forests in many regions. Of particular concern are potential increases in tree mortality associated with climate-induced physiological stress and interactions with other climate-mediated processes such as insect outbreaks and wildfire. Despite this risk, existing projections of tree mortality are based on models that lack functionally realistic mortality mechanisms, and there has been no attempt to track observations of climate-driven tree mortality globally. Here we present the first global assessment of recent tree mortality attributed to drought and heat stress. Although episodic mortality occurs in the absence of climate change, studies compiled here suggest that at least some of the world's forested ecosystems already may be responding to climate change and raise concern that forests may become increasingly vulnerable to higher background tree mortality rates and die-off in response to future warming and drought, even in environments that are not normally considered water-limited. This further suggests risks to ecosystem services, including the loss of sequestered forest carbon and associated atmospheric feedbacks. Our review also identifies key information gaps and scientific uncertainties that currently hinder our ability to predict tree mortality in response to climate change and emphasizes the need for a globally coordinated observation system. Overall, our review reveals the potential for amplified tree mortality due to drought and heat in forests worldwide.\n",
            "TL;DR:\n",
            "A global assessment of recent tree mortality is a first step in identifying potential climate-related risks. However, until now, it has been largely accepted that the data available are incomplete or non-existent. This article aims to provide a comprehensive assessment of recent tree mortality in relation to climate change, using data from the Intergovernmental Panel on Climate Change (IPCC). We analyze data from the Intergovernmental Panel on Climate Change (IPCC) and examine the patterns of tree mortality and climate change from the perspectiv\n"
          ],
          "name": "stdout"
        }
      ]
    },
    {
      "cell_type": "code",
      "metadata": {
        "id": "CWEeF1QqxR6q"
      },
      "source": [
        "#Save the trained model\r\n",
        "! tar -czf gpt2-tuned.tar.gz output/"
      ],
      "execution_count": null,
      "outputs": []
    }
  ]
}