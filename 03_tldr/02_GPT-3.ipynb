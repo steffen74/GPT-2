{
  "nbformat": 4,
  "nbformat_minor": 0,
  "metadata": {
    "colab": {
      "name": "04_GPT_3_TLDR.ipynb",
      "provenance": [],
      "collapsed_sections": []
    },
    "kernelspec": {
      "name": "python3",
      "display_name": "Python 3"
    }
  },
  "cells": [
    {
      "cell_type": "markdown",
      "metadata": {
        "id": "aPKlFCXmuZLj"
      },
      "source": [
        "## This notebook is about generating TL;DRs from the scientific abstracts using GPT-3 "
      ]
    },
    {
      "cell_type": "markdown",
      "metadata": {
        "id": "ZD7RaZmgxZpz"
      },
      "source": [
        "\r\n",
        "###GPT-3 API Request\r\n",
        "\r\n",
        "In order to run the below code you need a valid API-key for the OpenAI GPT-3 API. For the purpose of this project we used the API-key from opencampus.sh.\r\n"
      ]
    },
    {
      "cell_type": "code",
      "metadata": {
        "id": "te1JiERztigD",
        "colab": {
          "base_uri": "https://localhost:8080/"
        },
        "outputId": "15829523-dd9f-4780-f0ad-f033d18da7d6"
      },
      "source": [
        "!pip install openai # Installing GPT-3 openai"
      ],
      "execution_count": 1,
      "outputs": [
        {
          "output_type": "stream",
          "text": [
            "Collecting openai\n",
            "\u001b[?25l  Downloading https://files.pythonhosted.org/packages/59/2d/b3bc2aa663b2c376f073fd141e128ecfb47f3aff95ccee284a74d85a1ef8/openai-0.2.6.tar.gz (157kB)\n",
            "\r\u001b[K     |██                              | 10kB 17.4MB/s eta 0:00:01\r\u001b[K     |████▏                           | 20kB 23.0MB/s eta 0:00:01\r\u001b[K     |██████▎                         | 30kB 16.5MB/s eta 0:00:01\r\u001b[K     |████████▎                       | 40kB 15.4MB/s eta 0:00:01\r\u001b[K     |██████████▍                     | 51kB 15.2MB/s eta 0:00:01\r\u001b[K     |████████████▌                   | 61kB 14.3MB/s eta 0:00:01\r\u001b[K     |██████████████▌                 | 71kB 12.2MB/s eta 0:00:01\r\u001b[K     |████████████████▋               | 81kB 13.3MB/s eta 0:00:01\r\u001b[K     |██████████████████▊             | 92kB 11.9MB/s eta 0:00:01\r\u001b[K     |████████████████████▉           | 102kB 11.6MB/s eta 0:00:01\r\u001b[K     |██████████████████████▉         | 112kB 11.6MB/s eta 0:00:01\r\u001b[K     |█████████████████████████       | 122kB 11.6MB/s eta 0:00:01\r\u001b[K     |███████████████████████████     | 133kB 11.6MB/s eta 0:00:01\r\u001b[K     |█████████████████████████████   | 143kB 11.6MB/s eta 0:00:01\r\u001b[K     |███████████████████████████████▏| 153kB 11.6MB/s eta 0:00:01\r\u001b[K     |████████████████████████████████| 163kB 11.6MB/s \n",
            "\u001b[?25hRequirement already satisfied: requests>=2.20 in /usr/local/lib/python3.6/dist-packages (from openai) (2.23.0)\n",
            "Requirement already satisfied: idna<3,>=2.5 in /usr/local/lib/python3.6/dist-packages (from requests>=2.20->openai) (2.10)\n",
            "Requirement already satisfied: chardet<4,>=3.0.2 in /usr/local/lib/python3.6/dist-packages (from requests>=2.20->openai) (3.0.4)\n",
            "Requirement already satisfied: certifi>=2017.4.17 in /usr/local/lib/python3.6/dist-packages (from requests>=2.20->openai) (2020.12.5)\n",
            "Requirement already satisfied: urllib3!=1.25.0,!=1.25.1,<1.26,>=1.21.1 in /usr/local/lib/python3.6/dist-packages (from requests>=2.20->openai) (1.24.3)\n",
            "Building wheels for collected packages: openai\n",
            "  Building wheel for openai (setup.py) ... \u001b[?25l\u001b[?25hdone\n",
            "  Created wheel for openai: filename=openai-0.2.6-cp36-none-any.whl size=170807 sha256=3002eb9b07bdb3a7beb7fcef6a4ed6598f438a6b95e2da79f46620f919d970da\n",
            "  Stored in directory: /root/.cache/pip/wheels/3c/fe/38/5d427b7efc6ff4508b39945808cd4db1bbe106421960b4f0e3\n",
            "Successfully built openai\n",
            "Installing collected packages: openai\n",
            "Successfully installed openai-0.2.6\n"
          ],
          "name": "stdout"
        }
      ]
    },
    {
      "cell_type": "markdown",
      "metadata": {
        "id": "58HuGfBHuV1H"
      },
      "source": [
        "Set API key"
      ]
    },
    {
      "cell_type": "code",
      "metadata": {
        "id": "i6lJF_6_tqA8"
      },
      "source": [
        "import openai\r\n",
        "openai.api_key = \"<INSERT HERE YOUR API-KEY>\""
      ],
      "execution_count": 2,
      "outputs": []
    },
    {
      "cell_type": "markdown",
      "metadata": {
        "id": "p9d79FSJuY2a"
      },
      "source": [
        "## GPT-3 models\r\n",
        "There are four different models: \"davinci\", \"ada\", \"babbage\", \"curie\". We have used the \"ada\" model here.\r\n",
        "\r\n",
        "The models are ordered according to size; the largest (and most powerful) is \"davinci\".\r\n",
        "\r\n",
        "In the lower part of [this blog](https://www.twilio.com/blog/ultimate-guide-openai-gpt-3-language-model) you find more infos on how to use the GPT-3 API with Python.\r\n",
        "\r\n"
      ]
    },
    {
      "cell_type": "code",
      "metadata": {
        "id": "CAKUt7bUOK_F"
      },
      "source": [
        "################### Preparation of test abstracts   \r\n",
        "\r\n",
        "test_abstract_1 = \"Greenhouse gas emissions have significantly altered global climate, and will continue to do so in the future. Increases in the frequency, duration, and/or severity of drought and heat stress associated with climate change could fundamentally alter the composition, structure, and biogeography of forests in many regions. Of particular concern are potential increases in tree mortality associated with climate-induced physiological stress and interactions with other climate-mediated processes such as insect outbreaks and wildfire. Despite this risk, existing projections of tree mortality are based on models that lack functionally realistic mortality mechanisms, and there has been no attempt to track observations of climate-driven tree mortality globally. Here we present the first global assessment of recent tree mortality attributed to drought and heat stress. Although episodic mortality occurs in the absence of climate change, studies compiled here suggest that at least some of the world's forested ecosystems already may be responding to climate change and raise concern that forests may become increasingly vulnerable to higher background tree mortality rates and die-off in response to future warming and drought, even in environments that are not normally considered water-limited. This further suggests risks to ecosystem services, including the loss of sequestered forest carbon and associated atmospheric feedbacks. Our review also identifies key information gaps and scientific uncertainties that currently hinder our ability to predict tree mortality in response to climate change and emphasizes the need for a globally coordinated observation system. Overall, our review reveals the potential for amplified tree mortality due to drought and heat in forests worldwide.\"\r\n",
        "test_abstract_2 = \"The world's forests influence climate through physical, chemical, and biological processes that affect planetary energetics, the hydrologic cycle, and atmospheric composition. These complex and nonlinear forest-atmosphere interactions can dampen or amplify anthropogenic climate change. Tropical, temperate, and boreal reforestation and afforestation attenuate global warming through carbon sequestration. Biogeophysical feedbacks can enhance or diminish this negative climate forcing. Tropical forests mitigate warming through evaporative cooling, but the low albedo of boreal forests is a positive climate forcing. The evaporative effect of temperate forests is unclear. The net climate forcing from these and other processes is not known. Forests are under tremendous pressure from global change. Interdisciplinary science that integrates knowledge of the many interacting climate services of forests with the impacts of global change is necessary to identify and understand as yet unexplored feedbacks in the Earth system and the potential of forests to mitigate climate change.\"\r\n",
        "test_abstract_3 = \"The paper summarizes the current knowledge about the impact of livestock sector on climate change. The main sources of greenhouse gas (GHG) emissions from livestock are described and the contribution of livestock sector to the global GHG emissions is presented on the basis of the latest results obtained from the scientific research. The most recent mitigation strategies for reducing greenhouse gas emissions from livestock sector are also discussed. The paper aims to provide a general overview of an emergent environmental issue such as the impact of livestock sector on climate change. While the paper is easy to understand for non-expert readers, it may also be a relevant reference point for academic researchers and for policy makers aimed at achieving the sustainability of livestock/food sector.\"\r\n",
        "test_abstract_4 = \"Feeding a growing global population in a changing climate presents a significant challenge to society. The projected yields of crops under a range of agricultural and climatic scenarios are needed to assess food security prospects. Previous meta-analyses have summarized climate change impacts and adaptive potential as a function of temperature, but have not examined uncertainty, the timing of impacts, or the quantitative effectiveness of adaptation. Here we develop a new data set of more than 1,700 published simulations to evaluate yield impacts of climate change and adaptation. Without adaptation, losses in aggregate production are expected for wheat, rice and maize in both temperate and tropical regions by 2 °C of local warming. Crop-level adaptations increase simulated yields by an average of 7–15%, with adaptations more effective for wheat and rice than maize. Yield losses are greater in magnitude for the second half of the century than for the first. Consensus on yield decreases in the second half of the century is stronger in tropical than temperate regions, yet even moderate warming may reduce temperate crop yields in many locations. Although less is known about interannual variability than mean yields, the available data indicate that increases in yield variability are likely.\"\r\n",
        "test_abstract_5 = \"The effects of climate change on biodiversity are increasingly well documented, and many methods have been developed to assess species' vulnerability to climatic changes, both ongoing and projected in the coming decades. To minimize global biodiversity losses, conservationists need to identify those species that are likely to be most vulnerable to the impacts of climate change. In this Review, we summarize different currencies used for assessing species' climate change vulnerability. We describe three main approaches used to derive these currencies (correlative, mechanistic and trait-based), and their associated data requirements, spatial and temporal scales of application and modelling methods. We identify strengths and weaknesses of the approaches and highlight the sources of uncertainty inherent in each method that limit projection reliability. Finally, we provide guidance for conservation practitioners in selecting the most appropriate approach(es) for their planning needs and highlight priority areas for further assessments.\"\r\n",
        "test_abstracts = [test_abstract_1,test_abstract_2,test_abstract_3,test_abstract_4,test_abstract_5]\r\n",
        "####################\r\n",
        "\r\n",
        "#################### Preparation of abstracts and their respective TL;DRs for the prompts preparation \r\n",
        "abstract_1 = \"Causal attribution of recent biological trends to climate change is complicated because non-climatic influences dominate local, short-term biological changes. Any underlying signal from climate change is likely to be revealed by analyses that seek systematic trends across diverse species and geographic regions; however, debates within the Intergovernmental Panel on Climate Change (IPCC) reveal several definitions of a ‘systematic trend’. Here, we explore these differences, apply diverse analyses to more than 1,700 species, and show that recent biological trends match climate change predictions. Global meta-analyses documented significant range shifts averaging 6.1 km per decade towards the poles (or metres per decade upward), and significant mean advancement of spring events by 2.3 days per decade. We define a diagnostic fingerprint of temporal and spatial ‘sign-switching’ responses uniquely predicted by twentieth century climate trends. Among appropriate long-term/large-scale/multi-species data sets, this diagnostic fingerprint was found for 279 species. This suite of analyses generates ‘very high confidence’ (as laid down by the IPCC) that climate change is already affecting living systems.\"\r\n",
        "tldr_1 = \"Climate change predictions are confirmed by the collective change in distribution of species, and the change in timing of biological events.\"\r\n",
        "\r\n",
        "abstract_2 = \"Significantly more carbon is stored in the world's soils—including peatlands, wetlands and permafrost—than is present in the atmosphere. Disagreement exists, however, regarding the effects of climate change on global soil carbon stocks. If carbon stored belowground is transferred to the atmosphere by a warming-induced acceleration of its decomposition, a positive feedback to climate change would occur. Conversely, if increases of plant-derived carbon inputs to soils exceed increases in decomposition, the feedback would be negative. Despite much research, a consensus has not yet emerged on the temperature sensitivity of soil carbon decomposition. Unravelling the feedback effect is particularly difficult, because the diverse soil organic compounds exhibit a wide range of kinetic properties, which determine the intrinsic temperature sensitivity of their decomposition. Moreover, several environmental constraints obscure the intrinsic temperature sensitivity of substrate decomposition, causing lower observed ‘apparent’ temperature sensitivity, and these constraints may, themselves, be sensitive to climate.\"\r\n",
        "tldr_2 = \"Soil carbon decomposition may be sensitive to climate, but the amount of decomposition is constrained by other factors.\"\r\n",
        "\r\n",
        "abstract_3 = \"Climate change over the past ∼30 years has produced numerous shifts in the distributions and abundances of species and has been implicated in one species-level extinction. Using projections of species' distributions for future climate scenarios, we assess extinction risks for sample regions that cover some 20% of the Earth's terrestrial surface. Exploring three approaches in which the estimated probability of extinction shows a power-law relationship with geographical range size, we predict, on the basis of mid-range climate-warming scenarios for 2050, that 15–37% of species in our sample of regions and taxa will be ‘committed to extinction’. When the average of the three methods and two dispersal scenarios is taken, minimal climate-warming scenarios produce lower projections of species committed to extinction (∼18%) than mid-range (∼24%) and maximum-change (∼35%) scenarios. These estimates show the importance of rapid implementation of technologies to decrease greenhouse gas emissions and strategies for carbon sequestration.\"\r\n",
        "tldr_3 = \"Using predictions of future climate, the authors predict that if greenhouse gases continue to increase, 15-37% of species will be committed to extinction.\"\r\n",
        "####################\r\n",
        "\r\n",
        "#################### Prepration of the prompts for one-shot and few-shot approch\r\n",
        "# One-Shot Prompt\r\n",
        "os_prompt = \"Abstract:\\n\" + abstract_1 + \"\\nTL;DR:\\n\" + tldr_1 + \"\\n\\nAbstract:\\n\"\r\n",
        "\r\n",
        "# Few-Shot Prompt (2-Shot)\r\n",
        "fs_prompt = \"Abstract:\\n\" + abstract_1 + \"\\nTL;DR:\\n\" + tldr_1 + \"\\n\\nAbstract:\\n\" + abstract_2 + \"\\nTL;DR:\\n\" + tldr_2 + \"\\n\\nAbstract:\\n\" + abstract_3 + \"\\nTL;DR:\\n\" + tldr_3 + \"\\n\\nAbstract:\\n\"\r\n",
        "####################"
      ],
      "execution_count": 99,
      "outputs": []
    },
    {
      "cell_type": "markdown",
      "metadata": {
        "id": "5XFnph5MSX-t"
      },
      "source": [
        "#Description of parameters used in funtion openai.Completion.create()\r\n",
        "\r\n",
        "**\"engine\"** <br>\r\n",
        "This controls the selection among four different models: \"davinci\", \"ada\", \"babbage\", \"curie\"\r\n",
        "\r\n",
        "**\"prompt\"** <br> The API will return a text completion, attempting to match the pattern you gave it. You can program it by showing it just a few examples of what you’d like it to do\r\n",
        "\r\n",
        "**\"temprature\"** <br> This controls the randomness of the generated text. A value of 0 makes the engine deterministic, which means that it will always generate the same output for a given input text. A value of 1 makes the engine take the most risks and use a lot of creativity. the default value is 0.7\r\n",
        "\r\n",
        "**\"top_p\"** <br> This is alternative way of controlling the randomness and creativity of the text generated by GPT-3. The OpenAI documentation recommends that only one of Temperature and Top P are used, so when using one of them, make sure that the other is set to 1\r\n",
        "\r\n",
        "**\"max_tokens\"** <br> This control how much text is generated (Response Length). The default setting is 64, which means that GPT-3 will add 64 tokens to the text, with a token being defined as a word or a punctuation mark.\r\n",
        "\r\n",
        "**\"Frequency_penalty\"** <br> This controls the lowering of chances of a word being selected again the more times that word has already been used.\r\n",
        "\r\n",
        "**\"presence_penalty\"** <br> This does not consider how frequently a word has been used, but just if the word exists in the text.\r\n",
        "\r\n",
        "**\"best_of\"** <br> This is used to have GPT-3 generate multiple responses to a query then selects the best one and displays it.\r\n",
        "\r\n",
        "**\"stop\"** <br> This allows you to define one or more sequences that when generated force GPT-3 to stop.\r\n",
        "\r\n"
      ]
    },
    {
      "cell_type": "code",
      "metadata": {
        "colab": {
          "base_uri": "https://localhost:8080/"
        },
        "id": "C7GyXm_cO0Hf",
        "outputId": "37b01bb5-3365-4f52-bdd6-5605539784bd"
      },
      "source": [
        "##### Generation of TL;DRs from the test abstracts using one-shot prompt\r\n",
        "\r\n",
        "for num, abs in enumerate(test_abstracts):\r\n",
        "  os_response=openai.Completion.create(\r\n",
        "    engine=\"ada\",\r\n",
        "    prompt=os_prompt + abs + \"\\nTL;DR:\\n\",\r\n",
        "    temperature=0.7,\r\n",
        "    top_p=1,\r\n",
        "    max_tokens=50,\r\n",
        "    frequency_penalty=1,\r\n",
        "    presence_penalty=1,\r\n",
        "    best_of=10,\r\n",
        "    stop=[\"\\n\"]\r\n",
        "    )\r\n",
        "  print(\"[Abstract \"+ str(num+1)+\"] : \" + abs)\r\n",
        "  print(\"[TL;DR] : \" +os_response.choices[0]['text']+\"\\n\")"
      ],
      "execution_count": 100,
      "outputs": [
        {
          "output_type": "stream",
          "text": [
            "[Abstract 1] : Greenhouse gas emissions have significantly altered global climate, and will continue to do so in the future. Increases in the frequency, duration, and/or severity of drought and heat stress associated with climate change could fundamentally alter the composition, structure, and biogeography of forests in many regions. Of particular concern are potential increases in tree mortality associated with climate-induced physiological stress and interactions with other climate-mediated processes such as insect outbreaks and wildfire. Despite this risk, existing projections of tree mortality are based on models that lack functionally realistic mortality mechanisms, and there has been no attempt to track observations of climate-driven tree mortality globally. Here we present the first global assessment of recent tree mortality attributed to drought and heat stress. Although episodic mortality occurs in the absence of climate change, studies compiled here suggest that at least some of the world's forested ecosystems already may be responding to climate change and raise concern that forests may become increasingly vulnerable to higher background tree mortality rates and die-off in response to future warming and drought, even in environments that are not normally considered water-limited. This further suggests risks to ecosystem services, including the loss of sequestered forest carbon and associated atmospheric feedbacks. Our review also identifies key information gaps and scientific uncertainties that currently hinder our ability to predict tree mortality in response to climate change and emphasizes the need for a globally coordinated observation system. Overall, our review reveals the potential for amplified tree mortality due to drought and heat in forests worldwide.\n",
            "[TL;DR] : Climate change predictions are confirmed by the collective change in distribution of species, and the change in timing of biological events.\n",
            "\n",
            "[Abstract 2] : The world's forests influence climate through physical, chemical, and biological processes that affect planetary energetics, the hydrologic cycle, and atmospheric composition. These complex and nonlinear forest-atmosphere interactions can dampen or amplify anthropogenic climate change. Tropical, temperate, and boreal reforestation and afforestation attenuate global warming through carbon sequestration. Biogeophysical feedbacks can enhance or diminish this negative climate forcing. Tropical forests mitigate warming through evaporative cooling, but the low albedo of boreal forests is a positive climate forcing. The evaporative effect of temperate forests is unclear. The net climate forcing from these and other processes is not known. Forests are under tremendous pressure from global change. Interdisciplinary science that integrates knowledge of the many interacting climate services of forests with the impacts of global change is necessary to identify and understand as yet unexplored feedbacks in the Earth system and the potential of forests to mitigate climate change.\n",
            "[TL;DR] : Forests are under tremendous pressure from global change. Interdisciplinary science that integrates knowledge of the many interacting climate services of forests with the impacts of global change is necessary to identify and understand as yet unexplored feedbacks in the Earth system and potential mitigation opportunities\n",
            "\n",
            "[Abstract 3] : The paper summarizes the current knowledge about the impact of livestock sector on climate change. The main sources of greenhouse gas (GHG) emissions from livestock are described and the contribution of livestock sector to the global GHG emissions is presented on the basis of the latest results obtained from the scientific research. The most recent mitigation strategies for reducing greenhouse gas emissions from livestock sector are also discussed. The paper aims to provide a general overview of an emergent environmental issue such as the impact of livestock sector on climate change. While the paper is easy to understand for non-expert readers, it may also be a relevant reference point for academic researchers and for policy makers aimed at achieving the sustainability of livestock/food sector.\n",
            "[TL;DR] : Climate change predictions are confirmed by the collective change in distribution of species, and the change in timing of biological events.\n",
            "\n",
            "[Abstract 4] : Feeding a growing global population in a changing climate presents a significant challenge to society. The projected yields of crops under a range of agricultural and climatic scenarios are needed to assess food security prospects. Previous meta-analyses have summarized climate change impacts and adaptive potential as a function of temperature, but have not examined uncertainty, the timing of impacts, or the quantitative effectiveness of adaptation. Here we develop a new data set of more than 1,700 published simulations to evaluate yield impacts of climate change and adaptation. Without adaptation, losses in aggregate production are expected for wheat, rice and maize in both temperate and tropical regions by 2 °C of local warming. Crop-level adaptations increase simulated yields by an average of 7–15%, with adaptations more effective for wheat and rice than maize. Yield losses are greater in magnitude for the second half of the century than for the first. Consensus on yield decreases in the second half of the century is stronger in tropical than temperate regions, yet even moderate warming may reduce temperate crop yields in many locations. Although less is known about interannual variability than mean yields, the available data indicate that increases in yield variability are likely.\n",
            "[TL;DR] : Climate change predictions are confirmed by the collective change in distribution of species, and the change in timing of biological events.\n",
            "\n",
            "[Abstract 5] : The effects of climate change on biodiversity are increasingly well documented, and many methods have been developed to assess species' vulnerability to climatic changes, both ongoing and projected in the coming decades. To minimize global biodiversity losses, conservationists need to identify those species that are likely to be most vulnerable to the impacts of climate change. In this Review, we summarize different currencies used for assessing species' climate change vulnerability. We describe three main approaches used to derive these currencies (correlative, mechanistic and trait-based), and their associated data requirements, spatial and temporal scales of application and modelling methods. We identify strengths and weaknesses of the approaches and highlight the sources of uncertainty inherent in each method that limit projection reliability. Finally, we provide guidance for conservation practitioners in selecting the most appropriate approach(es) for their planning needs and highlight priority areas for further assessments.\n",
            "[TL;DR] : Climate change predictions are confirmed by the collective change in distribution of species, and the change in timing of biological events.\n",
            "\n"
          ],
          "name": "stdout"
        }
      ]
    },
    {
      "cell_type": "code",
      "metadata": {
        "colab": {
          "base_uri": "https://localhost:8080/"
        },
        "id": "sN5FkbS6P5xa",
        "outputId": "e01a1280-d210-44c4-ad4d-2490bfbf79ba"
      },
      "source": [
        "##### Generation of TL;DRs from the test abstracts using few-shots prompt\r\n",
        "\r\n",
        "for num, abs in enumerate(test_abstracts):\r\n",
        "  fs_response=openai.Completion.create(\r\n",
        "    engine=\"ada\",\r\n",
        "    prompt=fs_prompt + abs + \"\\nTL;DR:\\n\",\r\n",
        "    temperature=0.7,\r\n",
        "    top_p=1,\r\n",
        "    max_tokens=50,\r\n",
        "    frequency_penalty=1,\r\n",
        "    presence_penalty=1,\r\n",
        "    best_of=10,\r\n",
        "    stop=[\"\\n\"]\r\n",
        "    )\r\n",
        "  print(\"[Abstract \"+ str(num+1)+\"] : \" + abs)\r\n",
        "  print(\"[TL;DR] : \" +fs_response.choices[0]['text']+\"\\n\")"
      ],
      "execution_count": 98,
      "outputs": [
        {
          "output_type": "stream",
          "text": [
            "[Abstract 1] : Greenhouse gas emissions have significantly altered global climate, and will continue to do so in the future. Increases in the frequency, duration, and/or severity of drought and heat stress associated with climate change could fundamentally alter the composition, structure, and biogeography of forests in many regions. Of particular concern are potential increases in tree mortality associated with climate-induced physiological stress and interactions with other climate-mediated processes such as insect outbreaks and wildfire. Despite this risk, existing projections of tree mortality are based on models that lack functionally realistic mortality mechanisms, and there has been no attempt to track observations of climate-driven tree mortality globally. Here we present the first global assessment of recent tree mortality attributed to drought and heat stress. Although episodic mortality occurs in the absence of climate change, studies compiled here suggest that at least some of the world's forested ecosystems already may be responding to climate change and raise concern that forests may become increasingly vulnerable to higher background tree mortality rates and die-off in response to future warming and drought, even in environments that are not normally considered water-limited. This further suggests risks to ecosystem services, including the loss of sequestered forest carbon and associated atmospheric feedbacks. Our review also identifies key information gaps and scientific uncertainties that currently hinder our ability to predict tree mortality in response to climate change and emphasizes the need for a globally coordinated observation system. Overall, our review reveals the potential for amplified tree mortality due to drought and heat in forests worldwide.\n",
            "[TL;DR] : Greenhouse gas emissions have significantly altered global climate, and will continue to do so in the future.\n",
            "\n",
            "[Abstract 2] : The world's forests influence climate through physical, chemical, and biological processes that affect planetary energetics, the hydrologic cycle, and atmospheric composition. These complex and nonlinear forest-atmosphere interactions can dampen or amplify anthropogenic climate change. Tropical, temperate, and boreal reforestation and afforestation attenuate global warming through carbon sequestration. Biogeophysical feedbacks can enhance or diminish this negative climate forcing. Tropical forests mitigate warming through evaporative cooling, but the low albedo of boreal forests is a positive climate forcing. The evaporative effect of temperate forests is unclear. The net climate forcing from these and other processes is not known. Forests are under tremendous pressure from global change. Interdisciplinary science that integrates knowledge of the many interacting climate services of forests with the impacts of global change is necessary to identify and understand as yet unexplored feedbacks in the Earth system and the potential of forests to mitigate climate change.\n",
            "[TL;DR] : Forests are under intense pressure from climate change. Interdisciplinary science that integrates knowledge of the many interacting climate services of forests with the impacts of global change is needed to identify and understand as yet unexplored feedbacks in the Earth system and potential for forests\n",
            "\n",
            "[Abstract 3] : The paper summarizes the current knowledge about the impact of livestock sector on climate change. The main sources of greenhouse gas (GHG) emissions from livestock are described and the contribution of livestock sector to the global GHG emissions is presented on the basis of the latest results obtained from the scientific research. The most recent mitigation strategies for reducing greenhouse gas emissions from livestock sector are also discussed. The paper aims to provide a general overview of an emergent environmental issue such as the impact of livestock sector on climate change. While the paper is easy to understand for non-expert readers, it may also be a relevant reference point for academic researchers and for policy makers aimed at achieving the sustainability of livestock/food sector.\n",
            "[TL;DR] : The paper presents the latest knowledge about the impact of livestock sector on climate change, and provides a general overview of an emergent environmental issue such as the impact of livestock sector on climate change.\n",
            "\n",
            "[Abstract 4] : Feeding a growing global population in a changing climate presents a significant challenge to society. The projected yields of crops under a range of agricultural and climatic scenarios are needed to assess food security prospects. Previous meta-analyses have summarized climate change impacts and adaptive potential as a function of temperature, but have not examined uncertainty, the timing of impacts, or the quantitative effectiveness of adaptation. Here we develop a new data set of more than 1,700 published simulations to evaluate yield impacts of climate change and adaptation. Without adaptation, losses in aggregate production are expected for wheat, rice and maize in both temperate and tropical regions by 2 °C of local warming. Crop-level adaptations increase simulated yields by an average of 7–15%, with adaptations more effective for wheat and rice than maize. Yield losses are greater in magnitude for the second half of the century than for the first. Consensus on yield decreases in the second half of the century is stronger in tropical than temperate regions, yet even moderate warming may reduce temperate crop yields in many locations. Although less is known about interannual variability than mean yields, the available data indicate that increases in yield variability are likely.\n",
            "[TL;DR] : Temperatures increase for wheat and rice in the tropics due to climate change, but yield increases are limited by adaptation.\n",
            "\n",
            "[Abstract 5] : The effects of climate change on biodiversity are increasingly well documented, and many methods have been developed to assess species' vulnerability to climatic changes, both ongoing and projected in the coming decades. To minimize global biodiversity losses, conservationists need to identify those species that are likely to be most vulnerable to the impacts of climate change. In this Review, we summarize different currencies used for assessing species' climate change vulnerability. We describe three main approaches used to derive these currencies (correlative, mechanistic and trait-based), and their associated data requirements, spatial and temporal scales of application and modelling methods. We identify strengths and weaknesses of the approaches and highlight the sources of uncertainty inherent in each method that limit projection reliability. Finally, we provide guidance for conservation practitioners in selecting the most appropriate approach(es) for their planning needs and highlight priority areas for further assessments.\n",
            "[TL;DR] : This review discusses three main approaches to assessing biodiversity's vulnerability to climate change: 1) the correlation, 2) the mechanistic approach and 3) the trait-based approach. All methods result in a common end point of predicting species' vulnerability to climate\n",
            "\n"
          ],
          "name": "stdout"
        }
      ]
    },
    {
      "cell_type": "markdown",
      "metadata": {
        "id": "zLys8v8S1zsW"
      },
      "source": [
        "**NOTE :** <br> It is important to note in the results from above two cells that GPT-3 performed well using few-shotas prompt than one-shot prompt. The TL;DRs generated using one-shot prompt are same even for the different abstracts. For example GPT-3 generated the TL;DR \"***Climate change predictions are confirmed by the collective change in distribution of species, and the change in timing of biological events.***\" for all the test abstracts except for test abstract 2.  \r\n",
        "\r\n",
        "It infers that few-shots approach is working better than the one-shot approach. "
      ]
    },
    {
      "cell_type": "code",
      "metadata": {
        "colab": {
          "base_uri": "https://localhost:8080/"
        },
        "id": "ZAGRz_6nOjv1",
        "outputId": "6b33fda0-f1da-4d4e-e02c-21561e4b7929"
      },
      "source": [
        "##### Test if the GPT-3 gives the same TL;DR for same Abstract each time using one-shot prompt\r\n",
        "\r\n",
        "for num, abs in enumerate(test_abstracts):\r\n",
        "  print(\"[Abstract \"+ str(num+1)+\"] : \" + abs)\r\n",
        "  for i in range(1,6):\r\n",
        "    os_response=openai.Completion.create(\r\n",
        "    engine=\"ada\",\r\n",
        "    prompt=os_prompt + abs + \"\\nTL;DR:\\n\",\r\n",
        "    temperature=0.7,\r\n",
        "    top_p=1,\r\n",
        "    max_tokens=50,\r\n",
        "    frequency_penalty=1,\r\n",
        "    presence_penalty=1,\r\n",
        "    best_of=10,\r\n",
        "    stop=[\"\\n\"]\r\n",
        "    )\r\n",
        "    print(\"[TL;DR \"+str(i)+\"] : \"+os_response.choices[0]['text'])\r\n",
        "  print(\"\\n\")\r\n",
        "  "
      ],
      "execution_count": 101,
      "outputs": [
        {
          "output_type": "stream",
          "text": [
            "[Abstract 1] : Greenhouse gas emissions have significantly altered global climate, and will continue to do so in the future. Increases in the frequency, duration, and/or severity of drought and heat stress associated with climate change could fundamentally alter the composition, structure, and biogeography of forests in many regions. Of particular concern are potential increases in tree mortality associated with climate-induced physiological stress and interactions with other climate-mediated processes such as insect outbreaks and wildfire. Despite this risk, existing projections of tree mortality are based on models that lack functionally realistic mortality mechanisms, and there has been no attempt to track observations of climate-driven tree mortality globally. Here we present the first global assessment of recent tree mortality attributed to drought and heat stress. Although episodic mortality occurs in the absence of climate change, studies compiled here suggest that at least some of the world's forested ecosystems already may be responding to climate change and raise concern that forests may become increasingly vulnerable to higher background tree mortality rates and die-off in response to future warming and drought, even in environments that are not normally considered water-limited. This further suggests risks to ecosystem services, including the loss of sequestered forest carbon and associated atmospheric feedbacks. Our review also identifies key information gaps and scientific uncertainties that currently hinder our ability to predict tree mortality in response to climate change and emphasizes the need for a globally coordinated observation system. Overall, our review reveals the potential for amplified tree mortality due to drought and heat in forests worldwide.\n",
            "[TL;DR 1] : Climate change predictions are confirmed by the collective change in distribution of species, and the change in timing of biological events.\n",
            "[TL;DR 2] : Greenhouse gas emissions have significantly altered global climate, and will continue to do so in the future.\n",
            "[TL;DR 3] : Climate change predictions are confirmed by the collective change in distribution of species, and the change in timing of biological events.\n",
            "[TL;DR 4] : Greenhouse gas emissions have significantly altered global climate, and will continue to do so in the future.\n",
            "[TL;DR 5] : Greenhouse gas emissions have significantly altered global climate, and will continue to do so in the future. Increases in the frequency, duration, and/or severity of drought and heat stress associated with climate change could fundamentally alter the composition, structure, and bio\n",
            "\n",
            "\n",
            "[Abstract 2] : The world's forests influence climate through physical, chemical, and biological processes that affect planetary energetics, the hydrologic cycle, and atmospheric composition. These complex and nonlinear forest-atmosphere interactions can dampen or amplify anthropogenic climate change. Tropical, temperate, and boreal reforestation and afforestation attenuate global warming through carbon sequestration. Biogeophysical feedbacks can enhance or diminish this negative climate forcing. Tropical forests mitigate warming through evaporative cooling, but the low albedo of boreal forests is a positive climate forcing. The evaporative effect of temperate forests is unclear. The net climate forcing from these and other processes is not known. Forests are under tremendous pressure from global change. Interdisciplinary science that integrates knowledge of the many interacting climate services of forests with the impacts of global change is necessary to identify and understand as yet unexplored feedbacks in the Earth system and the potential of forests to mitigate climate change.\n",
            "[TL;DR 1] : Forest-atmosphere feedbacks are significant and complex. Interdisciplinary science that integrates knowledge of these feedbacks with the impacts of global change is needed to identify and understand as yet unexplored feedbacks in the Earth system and potential for forests to mitigate\n",
            "[TL;DR 2] : Climate change predictions are confirmed by research that integrates knowledge of the many interacting climate services of forests with the impacts of global change.\n",
            "[TL;DR 3] : The world's forests influence climate through physical, chemical, and biological processes that affect planetary energetics, the hydrologic cycle, and atmospheric composition. These complex and nonlinear forest-atmosphere interactions can dampen or amplify anthropogenic climate\n",
            "[TL;DR 4] : The forest-atmosphere feedback from climate change can dampen or amplify anthropogenic climate change.\n",
            "[TL;DR 5] : Climate change predictions are confirmed by the collective change in distribution of species, and the shift in biological events.\n",
            "\n",
            "\n",
            "[Abstract 3] : The paper summarizes the current knowledge about the impact of livestock sector on climate change. The main sources of greenhouse gas (GHG) emissions from livestock are described and the contribution of livestock sector to the global GHG emissions is presented on the basis of the latest results obtained from the scientific research. The most recent mitigation strategies for reducing greenhouse gas emissions from livestock sector are also discussed. The paper aims to provide a general overview of an emergent environmental issue such as the impact of livestock sector on climate change. While the paper is easy to understand for non-expert readers, it may also be a relevant reference point for academic researchers and for policy makers aimed at achieving the sustainability of livestock/food sector.\n",
            "[TL;DR 1] : The paper summarizes the current knowledge about the impact of livestock sector on climate change. The main sources of greenhouse gas (GHG) emissions from livestock are described and the contribution of livestock sector to the global GHG emissions is presented on the basis of the\n",
            "[TL;DR 2] : The paper summarizes the current knowledge about the impact of livestock sector on climate change. The main sources of greenhouse gas (GHG) emissions from livestock are described and the contribution of livestock sector to the global GHG emissions is presented on the basis of the\n",
            "[TL;DR 3] : The paper summarizes the current knowledge about the impact of livestock sector on climate change. The main sources of greenhouse gas (GHG) emissions from livestock are described and the contribution of livestock sector to the global GHG emissions is presented on the basis of a\n",
            "[TL;DR 4] : The paper summarizes the current knowledge about the impact of livestock sector on climate change. The main sources of greenhouse gas (GHG) emissions from livestock are described and the contribution of livestock sector to the global GHG emissions is presented on the basis of the\n",
            "[TL;DR 5] : The paper summarizes the current knowledge about the impact of livestock sector on climate change. The main sources of greenhouse gas (GHG) emissions from livestock are described and the contribution of livestock sector to the global GHG emissions is presented on the basis of the\n",
            "\n",
            "\n",
            "[Abstract 4] : Feeding a growing global population in a changing climate presents a significant challenge to society. The projected yields of crops under a range of agricultural and climatic scenarios are needed to assess food security prospects. Previous meta-analyses have summarized climate change impacts and adaptive potential as a function of temperature, but have not examined uncertainty, the timing of impacts, or the quantitative effectiveness of adaptation. Here we develop a new data set of more than 1,700 published simulations to evaluate yield impacts of climate change and adaptation. Without adaptation, losses in aggregate production are expected for wheat, rice and maize in both temperate and tropical regions by 2 °C of local warming. Crop-level adaptations increase simulated yields by an average of 7–15%, with adaptations more effective for wheat and rice than maize. Yield losses are greater in magnitude for the second half of the century than for the first. Consensus on yield decreases in the second half of the century is stronger in tropical than temperate regions, yet even moderate warming may reduce temperate crop yields in many locations. Although less is known about interannual variability than mean yields, the available data indicate that increases in yield variability are likely.\n",
            "[TL;DR 1] : Climate change predictions are confirmed by the collective change in distribution of species, and the change in timing of biological events.\n",
            "[TL;DR 2] : Climate change predictions are confirmed by the collective change in distribution of species, and the change in timing of biological events.\n",
            "[TL;DR 3] : Climate change predictions are confirmed by the collective change in distribution of species, and the change in timing of biological events.\n",
            "[TL;DR 4] : Climate change predictions are confirmed by the collective change in distribution of species, and the change in timing of biological events.\n",
            "[TL;DR 5] : Feeding a growing global population in a changing climate presents a significant challenge to society. The projected yields of crops under a range of agricultural and climatic scenarios are needed to assess food security prospects. Previous meta-analyses have summarized climate change impacts and\n",
            "\n",
            "\n",
            "[Abstract 5] : The effects of climate change on biodiversity are increasingly well documented, and many methods have been developed to assess species' vulnerability to climatic changes, both ongoing and projected in the coming decades. To minimize global biodiversity losses, conservationists need to identify those species that are likely to be most vulnerable to the impacts of climate change. In this Review, we summarize different currencies used for assessing species' climate change vulnerability. We describe three main approaches used to derive these currencies (correlative, mechanistic and trait-based), and their associated data requirements, spatial and temporal scales of application and modelling methods. We identify strengths and weaknesses of the approaches and highlight the sources of uncertainty inherent in each method that limit projection reliability. Finally, we provide guidance for conservation practitioners in selecting the most appropriate approach(es) for their planning needs and highlight priority areas for further assessments.\n",
            "[TL;DR 1] : Climate change predictions are confirmed by the collective change in distribution of species, and the change in timing of biological events.\n",
            "[TL;DR 2] : Climate change predictions are confirmed by the collective change in distribution of species, and the change in timing of biological events.\n",
            "[TL;DR 3] : The effects of climate change on biodiversity are increasingly well documented, and many methods have been developed to assess species' vulnerability to climatic changes, both ongoing and projected in the coming decades. To minimize global biodiversity losses, conservationists need to identify those species\n",
            "[TL;DR 4] : Causal attribution of recent biological trends to climate change is complicated because non-climatic influences dominate local, short-term biological changes. Any underlying signal from climate change is likely to be revealed by analyses that seek systematic trends across diverse species and geographic\n",
            "[TL;DR 5] : Climate change predictions are confirmed by the collective change in distribution of species, and the change in timing of biological events.\n",
            "\n",
            "\n"
          ],
          "name": "stdout"
        }
      ]
    },
    {
      "cell_type": "markdown",
      "metadata": {
        "id": "ffsu15e144cS"
      },
      "source": [
        "**NOTE :** <br> It is interesting to see that GPT-3 is generating the same TL;DRs for different abstracts. For example the TL;DR \"**Climate change predictions are confirmed by the collective change in distribution of species, and the change in timing of biological events.**\" is generated for all test abstracts once."
      ]
    },
    {
      "cell_type": "code",
      "metadata": {
        "colab": {
          "base_uri": "https://localhost:8080/"
        },
        "id": "xX0Pg7pukzXG",
        "outputId": "c3263f60-b471-4853-d798-49bc1d49dad5"
      },
      "source": [
        "##### Test if the GPT-3 gives the same TL;DR for same Abstract each time using few-shots prompt\r\n",
        "\r\n",
        "for num, abs in enumerate(test_abstracts):\r\n",
        "  print(\"[Abstract \"+ str(num+1)+\"] : \" + abs)\r\n",
        "  for i in range(1,6):\r\n",
        "    fs_response=openai.Completion.create(\r\n",
        "    engine=\"ada\",\r\n",
        "    prompt=fs_prompt + abs + \"\\nTL;DR:\\n\",\r\n",
        "    temperature=0.7,\r\n",
        "    top_p=1,\r\n",
        "    max_tokens=50,\r\n",
        "    frequency_penalty=1,\r\n",
        "    presence_penalty=1,\r\n",
        "    best_of=10,\r\n",
        "    stop=[\"\\n\"]\r\n",
        "    )\r\n",
        "    print(\"[TL;DR \"+str(i)+\"] : \"+fs_response.choices[0]['text'])\r\n",
        "  print(\"\\n\")\r\n",
        "  "
      ],
      "execution_count": 105,
      "outputs": [
        {
          "output_type": "stream",
          "text": [
            "[Abstract 1] : Greenhouse gas emissions have significantly altered global climate, and will continue to do so in the future. Increases in the frequency, duration, and/or severity of drought and heat stress associated with climate change could fundamentally alter the composition, structure, and biogeography of forests in many regions. Of particular concern are potential increases in tree mortality associated with climate-induced physiological stress and interactions with other climate-mediated processes such as insect outbreaks and wildfire. Despite this risk, existing projections of tree mortality are based on models that lack functionally realistic mortality mechanisms, and there has been no attempt to track observations of climate-driven tree mortality globally. Here we present the first global assessment of recent tree mortality attributed to drought and heat stress. Although episodic mortality occurs in the absence of climate change, studies compiled here suggest that at least some of the world's forested ecosystems already may be responding to climate change and raise concern that forests may become increasingly vulnerable to higher background tree mortality rates and die-off in response to future warming and drought, even in environments that are not normally considered water-limited. This further suggests risks to ecosystem services, including the loss of sequestered forest carbon and associated atmospheric feedbacks. Our review also identifies key information gaps and scientific uncertainties that currently hinder our ability to predict tree mortality in response to climate change and emphasizes the need for a globally coordinated observation system. Overall, our review reveals the potential for amplified tree mortality due to drought and heat in forests worldwide.\n",
            "[TL;DR 1] : The risk of drought-induced tree mortality has not been quantified, but the magnitude of the issue is likely to be significant.\n",
            "[TL;DR 2] : Greenhouse gas emissions have significantly altered global climate, and will continue to do so in the future. Increases in the frequency, duration, or severity of drought and heat stress associated with climate change could profoundly alter the composition, structure, and biogeography\n",
            "[TL;DR 3] : Existing projections of tree mortality are based on models that lack functionally realistic mortality mechanisms.\n",
            "[TL;DR 4] : Greenhouse gas emissions have significantly altered global climate, and will continue to do so in the future.\n",
            "[TL;DR 5] : Tree mortality due to increased drought and heat stress is likely to increase in many regions, but not all.\n",
            "\n",
            "\n",
            "[Abstract 2] : The world's forests influence climate through physical, chemical, and biological processes that affect planetary energetics, the hydrologic cycle, and atmospheric composition. These complex and nonlinear forest-atmosphere interactions can dampen or amplify anthropogenic climate change. Tropical, temperate, and boreal reforestation and afforestation attenuate global warming through carbon sequestration. Biogeophysical feedbacks can enhance or diminish this negative climate forcing. Tropical forests mitigate warming through evaporative cooling, but the low albedo of boreal forests is a positive climate forcing. The evaporative effect of temperate forests is unclear. The net climate forcing from these and other processes is not known. Forests are under tremendous pressure from global change. Interdisciplinary science that integrates knowledge of the many interacting climate services of forests with the impacts of global change is necessary to identify and understand as yet unexplored feedbacks in the Earth system and the potential of forests to mitigate climate change.\n",
            "[TL;DR 1] : The most complex and nonlinear forest-atmosphere feedbacks can be dampened or amplified by tropical, temperate and boreal reforestation and afforestation.\n",
            "[TL;DR 2] : Forests are under tremendous pressure from global change. Interdisciplinary science that integrates knowledge of the many interacting climate services of forests with the impacts of global change is necessary to identify and understand as yet unexplored feedbacks in the Earth system and potential to mitigate\n",
            "[TL;DR 3] : Forests are under tremendous pressure from global change. Interdisciplinary science that integrates knowledge of the many interacting climate services of forests with the impacts of global change is necessary to identify and understand as yet unexplored feedbacks in the Earth system and potential for forests\n",
            "[TL;DR 4] : The forests influence climate by dampening or amplifying anthropogenic climate change.\n",
            "[TL;DR 5] : Forests are under tremendous pressure from global change. Interdisciplinary science that integrates knowledge of the many interacting climate services of forests with the impacts of global change is necessary to identify and understand as yet unexplored feedbacks in the Earth system and the potential of\n",
            "\n",
            "\n",
            "[Abstract 3] : The paper summarizes the current knowledge about the impact of livestock sector on climate change. The main sources of greenhouse gas (GHG) emissions from livestock are described and the contribution of livestock sector to the global GHG emissions is presented on the basis of the latest results obtained from the scientific research. The most recent mitigation strategies for reducing greenhouse gas emissions from livestock sector are also discussed. The paper aims to provide a general overview of an emergent environmental issue such as the impact of livestock sector on climate change. While the paper is easy to understand for non-expert readers, it may also be a relevant reference point for academic researchers and for policy makers aimed at achieving the sustainability of livestock/food sector.\n",
            "[TL;DR 1] : The paper presents current knowledge about the impact of livestock sector on climate change. The main sources of greenhouse gas (GHG) emissions from livestock are described and the contribution of livestock sector to the global GHG emissions is presented on the basis of latest results\n",
            "[TL;DR 2] : The current knowledge about the impact of livestock sector on climate change is summarized and a general overview of an emergent environmental issue such as the impact of livestock sector on climate change is provided.\n",
            "[TL;DR 3] : Livestock sector contributes to the global warming.\n",
            "[TL;DR 4] : The paper documents the impact of livestock on climate change and provides a general overview of an emerging environmental issue.\n",
            "[TL;DR 5] : The paper summarises the current knowledge about the impact of livestock sector on climate change. The main sources of greenhouse gas (GHG) emissions from livestock are described and the contribution of livestock sector to the global GHG emissions is presented on the basis of\n",
            "\n",
            "\n",
            "[Abstract 4] : Feeding a growing global population in a changing climate presents a significant challenge to society. The projected yields of crops under a range of agricultural and climatic scenarios are needed to assess food security prospects. Previous meta-analyses have summarized climate change impacts and adaptive potential as a function of temperature, but have not examined uncertainty, the timing of impacts, or the quantitative effectiveness of adaptation. Here we develop a new data set of more than 1,700 published simulations to evaluate yield impacts of climate change and adaptation. Without adaptation, losses in aggregate production are expected for wheat, rice and maize in both temperate and tropical regions by 2 °C of local warming. Crop-level adaptations increase simulated yields by an average of 7–15%, with adaptations more effective for wheat and rice than maize. Yield losses are greater in magnitude for the second half of the century than for the first. Consensus on yield decreases in the second half of the century is stronger in tropical than temperate regions, yet even moderate warming may reduce temperate crop yields in many locations. Although less is known about interannual variability than mean yields, the available data indicate that increases in yield variability are likely.\n",
            "[TL;DR 1] : Using climate models, the authors estimate that in temperate and tropical regions, yield changes are expected to be 0.3–2% per year by 2050.\n",
            "[TL;DR 2] : Feeding a growing global population in a changing climate presents a significant challenge to society.\n",
            "[TL;DR 3] : The combined impacts of climate change and adaptation are expected to increase yields by an average of 7–15% in temperate regions, but will not be sufficient for all crop varieties.\n",
            "[TL;DR 4] : Using projections of future climate, the authors predict that if greenhouse gases continue to increase, 15-37% of crops and livestock will be committed to extinction.\n",
            "[TL;DR 5] : Climate change predictions are confirmed by the collective increase in crop yields, and projections of climate-induced changes in productivity.\n",
            "\n",
            "\n",
            "[Abstract 5] : The effects of climate change on biodiversity are increasingly well documented, and many methods have been developed to assess species' vulnerability to climatic changes, both ongoing and projected in the coming decades. To minimize global biodiversity losses, conservationists need to identify those species that are likely to be most vulnerable to the impacts of climate change. In this Review, we summarize different currencies used for assessing species' climate change vulnerability. We describe three main approaches used to derive these currencies (correlative, mechanistic and trait-based), and their associated data requirements, spatial and temporal scales of application and modelling methods. We identify strengths and weaknesses of the approaches and highlight the sources of uncertainty inherent in each method that limit projection reliability. Finally, we provide guidance for conservation practitioners in selecting the most appropriate approach(es) for their planning needs and highlight priority areas for further assessments.\n",
            "[TL;DR 1] : Climate change impacts on biodiversity are increasingly well documented. In this Review, we summarize different approaches used for assessing species' vulnerability to climate change. We describe three main methods used to derive these currencies (correlative, mechanistic and trait-based), and\n",
            "[TL;DR 2] : \"Climate change is the main driver of biodiversity loss\"\n",
            "[TL;DR 3] : To minimize biodiversity losses, conservationists need to identify species that are likely to be most vulnerable to shifts in climate.\n",
            "[TL;DR 4] : Climate change predictions are confirmed by the collective changes in distribution of species, and the climate-change impacts on biodiversity.\n",
            "[TL;DR 5] : Climate change impacts on biodiversity are increasingly well documented, and many methods have been developed to assess species' vulnerability to climatic changes. To minimize global biodiversity losses, conservationists need to identify those species that are likely to be most vulnerable to the impacts of\n",
            "\n",
            "\n"
          ],
          "name": "stdout"
        }
      ]
    },
    {
      "cell_type": "markdown",
      "metadata": {
        "id": "TcBdP9O0-xL6"
      },
      "source": [
        "**NOTE :** <br> Overall GPT-3 is doing much better in generating TL;DR using few-shots prompt. It even generates different TL;DRs for same test abstract. "
      ]
    }
  ]
}
